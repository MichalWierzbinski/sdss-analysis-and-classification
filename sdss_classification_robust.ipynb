{
 "cells": [
  {
   "cell_type": "markdown",
   "metadata": {},
   "source": [
    "# Data prep"
   ]
  },
  {
   "cell_type": "markdown",
   "metadata": {},
   "source": [
    "## Import packages"
   ]
  },
  {
   "cell_type": "code",
   "execution_count": 1,
   "metadata": {
    "ExecuteTime": {
     "end_time": "2019-04-07T13:05:37.311638Z",
     "start_time": "2019-04-07T13:05:36.760973Z"
    }
   },
   "outputs": [],
   "source": [
    "# To support both python 2 and python 3\n",
    "from __future__ import division, print_function, unicode_literals\n",
    "import warnings\n",
    "import helpers\n",
    "import matplotlib as mpl\n",
    "import os\n",
    "\n",
    "# Common imports\n",
    "import pandas as pd\n",
    "import numpy as np\n",
    "import matplotlib.pyplot as plt\n",
    "import seaborn as sns\n",
    "import operator\n",
    "from collections import OrderedDict\n",
    "\n",
    "# Imports for ML\n",
    "from sklearn.ensemble import RandomForestClassifier, VotingClassifier, BaggingClassifier, AdaBoostClassifier, ExtraTreesClassifier\n",
    "from sklearn.linear_model import LogisticRegression, SGDClassifier, PassiveAggressiveClassifier, RidgeClassifier\n",
    "from sklearn.svm import SVC, LinearSVC, NuSVC\n",
    "from sklearn.neighbors import KNeighborsClassifier\n",
    "from xgboost import XGBClassifier\n",
    "from sklearn.preprocessing import PolynomialFeatures, RobustScaler\n",
    "from sklearn.model_selection import train_test_split, cross_val_score, cross_val_predict\n",
    "from sklearn.metrics import roc_auc_score, accuracy_score, confusion_matrix, precision_score, recall_score, f1_score, classification_report\n",
    "from sklearn.pipeline import Pipeline\n",
    "from sklearn.tree import DecisionTreeClassifier\n",
    "from sklearn.neural_network import MLPClassifier\n",
    "from sklearn.gaussian_process import GaussianProcessClassifier\n",
    "from sklearn.gaussian_process.kernels import RBF\n",
    "from sklearn.naive_bayes import GaussianNB, MultinomialNB, ComplementNB\n",
    "from sklearn.discriminant_analysis import LinearDiscriminantAnalysis, QuadraticDiscriminantAnalysis\n",
    "\n",
    "# to make this notebook's output stable across runs\n",
    "np.random.seed(42)\n",
    "\n",
    "# To plot pretty figures\n",
    "%matplotlib inline\n",
    "mpl.rc('axes', labelsize=14)\n",
    "mpl.rc('xtick', labelsize=12)\n",
    "mpl.rc('ytick', labelsize=12)\n",
    "sns.set_style('whitegrid')\n",
    "\n",
    "# Where to save the figures\n",
    "PROJECT_ROOT_DIR = \".\"\n",
    "CHAPTER_ID = \"results\"\n",
    "IMAGES_PATH = os.path.join(PROJECT_ROOT_DIR, \"images\", CHAPTER_ID)\n",
    "\n",
    "# Helper functioins and structures\n",
    "# Ignore useless warnings (see SciPy issue #5998)\n",
    "warnings.filterwarnings(action=\"ignore\", message=\"^internal gelsd\")"
   ]
  },
  {
   "cell_type": "markdown",
   "metadata": {
    "heading_collapsed": true
   },
   "source": [
    "## Load data"
   ]
  },
  {
   "cell_type": "code",
   "execution_count": 2,
   "metadata": {
    "ExecuteTime": {
     "end_time": "2019-04-07T13:05:37.348441Z",
     "start_time": "2019-04-07T13:05:37.313611Z"
    },
    "hidden": true
   },
   "outputs": [
    {
     "data": {
      "text/html": [
       "<div>\n",
       "<style scoped>\n",
       "    .dataframe tbody tr th:only-of-type {\n",
       "        vertical-align: middle;\n",
       "    }\n",
       "\n",
       "    .dataframe tbody tr th {\n",
       "        vertical-align: top;\n",
       "    }\n",
       "\n",
       "    .dataframe thead th {\n",
       "        text-align: right;\n",
       "    }\n",
       "</style>\n",
       "<table border=\"1\" class=\"dataframe\">\n",
       "  <thead>\n",
       "    <tr style=\"text-align: right;\">\n",
       "      <th></th>\n",
       "      <th>objid</th>\n",
       "      <th>ra</th>\n",
       "      <th>dec</th>\n",
       "      <th>u</th>\n",
       "      <th>g</th>\n",
       "      <th>r</th>\n",
       "      <th>i</th>\n",
       "      <th>z</th>\n",
       "      <th>run</th>\n",
       "      <th>rerun</th>\n",
       "      <th>camcol</th>\n",
       "      <th>field</th>\n",
       "      <th>specobjid</th>\n",
       "      <th>class</th>\n",
       "      <th>redshift</th>\n",
       "      <th>plate</th>\n",
       "      <th>mjd</th>\n",
       "      <th>fiberid</th>\n",
       "    </tr>\n",
       "  </thead>\n",
       "  <tbody>\n",
       "    <tr>\n",
       "      <th>0</th>\n",
       "      <td>1.237650e+18</td>\n",
       "      <td>183.531326</td>\n",
       "      <td>0.089693</td>\n",
       "      <td>19.47406</td>\n",
       "      <td>17.04240</td>\n",
       "      <td>15.94699</td>\n",
       "      <td>15.50342</td>\n",
       "      <td>15.22531</td>\n",
       "      <td>752</td>\n",
       "      <td>301</td>\n",
       "      <td>4</td>\n",
       "      <td>267</td>\n",
       "      <td>3.722360e+18</td>\n",
       "      <td>STAR</td>\n",
       "      <td>-0.000009</td>\n",
       "      <td>3306</td>\n",
       "      <td>54922</td>\n",
       "      <td>491</td>\n",
       "    </tr>\n",
       "    <tr>\n",
       "      <th>1</th>\n",
       "      <td>1.237650e+18</td>\n",
       "      <td>183.598371</td>\n",
       "      <td>0.135285</td>\n",
       "      <td>18.66280</td>\n",
       "      <td>17.21449</td>\n",
       "      <td>16.67637</td>\n",
       "      <td>16.48922</td>\n",
       "      <td>16.39150</td>\n",
       "      <td>752</td>\n",
       "      <td>301</td>\n",
       "      <td>4</td>\n",
       "      <td>267</td>\n",
       "      <td>3.638140e+17</td>\n",
       "      <td>STAR</td>\n",
       "      <td>-0.000055</td>\n",
       "      <td>323</td>\n",
       "      <td>51615</td>\n",
       "      <td>541</td>\n",
       "    </tr>\n",
       "    <tr>\n",
       "      <th>2</th>\n",
       "      <td>1.237650e+18</td>\n",
       "      <td>183.680207</td>\n",
       "      <td>0.126185</td>\n",
       "      <td>19.38298</td>\n",
       "      <td>18.19169</td>\n",
       "      <td>17.47428</td>\n",
       "      <td>17.08732</td>\n",
       "      <td>16.80125</td>\n",
       "      <td>752</td>\n",
       "      <td>301</td>\n",
       "      <td>4</td>\n",
       "      <td>268</td>\n",
       "      <td>3.232740e+17</td>\n",
       "      <td>GALAXY</td>\n",
       "      <td>0.123111</td>\n",
       "      <td>287</td>\n",
       "      <td>52023</td>\n",
       "      <td>513</td>\n",
       "    </tr>\n",
       "  </tbody>\n",
       "</table>\n",
       "</div>"
      ],
      "text/plain": [
       "          objid          ra       dec         u         g         r         i  \\\n",
       "0  1.237650e+18  183.531326  0.089693  19.47406  17.04240  15.94699  15.50342   \n",
       "1  1.237650e+18  183.598371  0.135285  18.66280  17.21449  16.67637  16.48922   \n",
       "2  1.237650e+18  183.680207  0.126185  19.38298  18.19169  17.47428  17.08732   \n",
       "\n",
       "          z  run  rerun  camcol  field     specobjid   class  redshift  plate  \\\n",
       "0  15.22531  752    301       4    267  3.722360e+18    STAR -0.000009   3306   \n",
       "1  16.39150  752    301       4    267  3.638140e+17    STAR -0.000055    323   \n",
       "2  16.80125  752    301       4    268  3.232740e+17  GALAXY  0.123111    287   \n",
       "\n",
       "     mjd  fiberid  \n",
       "0  54922      491  \n",
       "1  51615      541  \n",
       "2  52023      513  "
      ]
     },
     "execution_count": 2,
     "metadata": {},
     "output_type": "execute_result"
    }
   ],
   "source": [
    "DATA_PATH = \"Skyserver_SQL2_27_2018 6_51_39 PM.csv\"\n",
    "RESULTS_FOLDER = \"results\"\n",
    "\n",
    "# We load the data. Those that have nothing to do with the features of the objects are ignored.\n",
    "sdss_data = pd.read_csv(DATA_PATH)\n",
    "\n",
    "# We have a general look at the features\n",
    "sdss_data.head(3)"
   ]
  },
  {
   "cell_type": "markdown",
   "metadata": {
    "heading_collapsed": true
   },
   "source": [
    "## Drop not important features"
   ]
  },
  {
   "cell_type": "code",
   "execution_count": 3,
   "metadata": {
    "ExecuteTime": {
     "end_time": "2019-04-07T13:05:37.360954Z",
     "start_time": "2019-04-07T13:05:37.349762Z"
    },
    "hidden": true
   },
   "outputs": [
    {
     "name": "stdout",
     "output_type": "stream",
     "text": [
      "['objid' 'ra' 'dec' 'u' 'g' 'r' 'i' 'z' 'run' 'rerun' 'camcol' 'field'\n",
      " 'specobjid' 'class' 'redshift' 'plate' 'mjd' 'fiberid']\n"
     ]
    },
    {
     "data": {
      "text/html": [
       "<div>\n",
       "<style scoped>\n",
       "    .dataframe tbody tr th:only-of-type {\n",
       "        vertical-align: middle;\n",
       "    }\n",
       "\n",
       "    .dataframe tbody tr th {\n",
       "        vertical-align: top;\n",
       "    }\n",
       "\n",
       "    .dataframe thead th {\n",
       "        text-align: right;\n",
       "    }\n",
       "</style>\n",
       "<table border=\"1\" class=\"dataframe\">\n",
       "  <thead>\n",
       "    <tr style=\"text-align: right;\">\n",
       "      <th></th>\n",
       "      <th>ra</th>\n",
       "      <th>dec</th>\n",
       "      <th>u</th>\n",
       "      <th>g</th>\n",
       "      <th>r</th>\n",
       "      <th>i</th>\n",
       "      <th>z</th>\n",
       "      <th>class</th>\n",
       "      <th>redshift</th>\n",
       "    </tr>\n",
       "  </thead>\n",
       "  <tbody>\n",
       "    <tr>\n",
       "      <th>0</th>\n",
       "      <td>183.531326</td>\n",
       "      <td>0.089693</td>\n",
       "      <td>19.47406</td>\n",
       "      <td>17.0424</td>\n",
       "      <td>15.94699</td>\n",
       "      <td>15.50342</td>\n",
       "      <td>15.22531</td>\n",
       "      <td>STAR</td>\n",
       "      <td>-0.000009</td>\n",
       "    </tr>\n",
       "  </tbody>\n",
       "</table>\n",
       "</div>"
      ],
      "text/plain": [
       "           ra       dec         u        g         r         i         z  \\\n",
       "0  183.531326  0.089693  19.47406  17.0424  15.94699  15.50342  15.22531   \n",
       "\n",
       "  class  redshift  \n",
       "0  STAR -0.000009  "
      ]
     },
     "execution_count": 3,
     "metadata": {},
     "output_type": "execute_result"
    }
   ],
   "source": [
    "print(sdss_data.columns.values)\n",
    "sdss_data.drop(['objid', 'run', 'rerun', 'camcol', 'field',\n",
    "                'specobjid', 'fiberid', 'mjd', 'plate'], axis=1, inplace=True)\n",
    "sdss_data.head(1)"
   ]
  },
  {
   "cell_type": "markdown",
   "metadata": {
    "heading_collapsed": true
   },
   "source": [
    "## Split into train/test sets"
   ]
  },
  {
   "cell_type": "code",
   "execution_count": 4,
   "metadata": {
    "ExecuteTime": {
     "end_time": "2019-04-07T13:05:37.367476Z",
     "start_time": "2019-04-07T13:05:37.362732Z"
    },
    "hidden": true
   },
   "outputs": [],
   "source": [
    "X = sdss_data.drop(['class'], axis=1)\n",
    "y = sdss_data['class']\n",
    "\n",
    "X_train, X_test, y_train, y_test = train_test_split(X, y, random_state=42)"
   ]
  },
  {
   "cell_type": "markdown",
   "metadata": {
    "ExecuteTime": {
     "end_time": "2019-04-06T17:17:13.136981Z",
     "start_time": "2019-04-06T17:17:13.133356Z"
    }
   },
   "source": [
    "## Define helper methods"
   ]
  },
  {
   "cell_type": "code",
   "execution_count": 5,
   "metadata": {
    "ExecuteTime": {
     "end_time": "2019-04-07T13:05:37.391352Z",
     "start_time": "2019-04-07T13:05:37.368668Z"
    }
   },
   "outputs": [],
   "source": [
    "def cv_learn(clf, X_train, y_train, X_test, y_test,\n",
    "             cv_size=5, scoring_type=\"accuracy\", average_type=\"macro\"):\n",
    "    # 5xCV\n",
    "    y_scores = cross_val_score(clf, X_train, y_train,\n",
    "                               cv=cv_size, scoring=scoring_type)\n",
    "    # Test Prediction\n",
    "    pred = cross_val_predict(clf, X_test, y_test, cv=cv_size)\n",
    "\n",
    "    # Conf. Matrix\n",
    "    matrix = confusion_matrix(y_test, pred)\n",
    "\n",
    "    # CLF. Report\n",
    "    report_str = classification_report(y_test, pred)\n",
    "    report_dict = classification_report(y_test, pred, output_dict=True)\n",
    "\n",
    "    return (y_scores, pred, matrix, report_str, report_dict)\n",
    "\n",
    "\n",
    "def print_cv_scores(scores):\n",
    "    print(\"Accuracy: %0.3f (+/- %0.3f)\" % (scores.mean(), scores.std() * 2))\n",
    "\n",
    "\n",
    "def print_conf_matrix(clf_name, matrix):\n",
    "    print(clf_name, \":\\n\", matrix)\n",
    "\n",
    "\n",
    "def plot_confusion_matrix(clf_name, class_names, cm, figsize):\n",
    "    df_cm = pd.DataFrame(cm, index=[i for i in class_names],\n",
    "                         columns=[i for i in class_names])\n",
    "    plt.figure(figsize=figsize)\n",
    "    sns.heatmap(df_cm, annot=True, fmt=\"d\", cmap=\"jet\").set_title(\n",
    "        \"Confusion Matrix for: \" + str(clf_name))\n",
    "\n",
    "\n",
    "def print_learning_results_multiple(classifs, class_names, scores, matrices, reports):\n",
    "    for item in zip(classifs, scores, matrices, reports):\n",
    "        print(item[0])\n",
    "        print(item[1])\n",
    "        print_cv_scores(item[1])\n",
    "        print_conf_matrix(item[0], item[2])\n",
    "        # Plot non-normalized confusion matrix\n",
    "        plot_confusion_matrix(item[0], class_names, item[2], (10, 7))\n",
    "        print(item[3])\n",
    "        print(\"\\n\")\n",
    "\n",
    "\n",
    "def print_learning_results_single(clf, class_names, scores, matrix, report):\n",
    "    print(clf)\n",
    "    print(scores)\n",
    "    print_cv_scores(scores)\n",
    "    print_conf_matrix(clf, matrix)\n",
    "    # Plot non-normalized confusion matrix\n",
    "    plot_confusion_matrix(clf, class_names, matrix, (10, 7))\n",
    "    print(report)\n",
    "    print(\"\\n\")\n",
    "\n",
    "\n",
    "class_names = [\"GALAXY\", \"QSO\", \"STAR\"]\n",
    "\n",
    "\n",
    "class ResultSet:\n",
    "    def __init__(self, clf_name, scores, predictions, matrix, report_str, report_dict):\n",
    "        self.classifier_name = clf_name\n",
    "        self.scores = scores\n",
    "        self.predictions = predictions\n",
    "        self.matrix = matrix\n",
    "        self.report_str = report_str\n",
    "        self.report_dict = report_dict\n",
    "\n",
    "\n",
    "def print_kv_arr(ordered_by, arr):\n",
    "    print(ordered_by)\n",
    "    for kv in arr:\n",
    "        print(kv[0], kv[1])\n",
    "    print(\"\\n\")\n",
    "\n",
    "\n",
    "def roc_auc_score_multiclass(actual_class, pred_class, average=\"macro\"):\n",
    "    # creating a set of all the unique classes using the actual class list\n",
    "    unique_class = set(actual_class)\n",
    "    roc_auc_dict = {}\n",
    "    for per_class in unique_class:\n",
    "        # creating a list of all the classes except the current class\n",
    "        other_class = [x for x in unique_class if x != per_class]\n",
    "\n",
    "        # marking the current class as 1 and all other classes as 0\n",
    "        new_actual_class = [0 if x in other_class else 1 for x in actual_class]\n",
    "        new_pred_class = [0 if x in other_class else 1 for x in pred_class]\n",
    "\n",
    "        # using the sklearn metrics method to calculate the roc_auc_score\n",
    "        roc_auc = roc_auc_score(\n",
    "            new_actual_class, new_pred_class, average=average)\n",
    "        roc_auc_dict[per_class] = roc_auc\n",
    "\n",
    "    return roc_auc_dict\n",
    "\n",
    "\n",
    "def order_results(result_sets):\n",
    "    by_acc = {}\n",
    "    by_prec_micro = {}\n",
    "    by_recall_micro = {}\n",
    "    by_f1_micro = {}\n",
    "\n",
    "    by_acc_macro = {}\n",
    "    by_prec_macro = {}\n",
    "    by_recall_macro = {}\n",
    "    by_f1_macro = {}\n",
    "\n",
    "    for result_set in result_sets:\n",
    "        by_acc[result_set.classifier_name] = result_set.scores.mean()\n",
    "\n",
    "        micro_results = result_set.report_dict[\"micro avg\"]\n",
    "        macro_results = result_set.report_dict[\"macro avg\"]\n",
    "\n",
    "        by_prec_micro[result_set.classifier_name] = micro_results[\"precision\"]\n",
    "        by_prec_macro[result_set.classifier_name] = macro_results[\"precision\"]\n",
    "\n",
    "        by_recall_micro[result_set.classifier_name] = micro_results[\"recall\"]\n",
    "        by_recall_macro[result_set.classifier_name] = macro_results[\"recall\"]\n",
    "\n",
    "        by_f1_micro[result_set.classifier_name] = micro_results[\"f1-score\"]\n",
    "        by_f1_macro[result_set.classifier_name] = macro_results[\"f1-score\"]\n",
    "\n",
    "    sorted_acc = sorted(by_acc.items(), key=lambda kv: kv[1], reverse=True)\n",
    "\n",
    "    sorted_prec_micro = sorted(by_prec_micro.items(), key=lambda kv: kv[1], reverse=True)\n",
    "    sorted_recall_micro = sorted(by_recall_micro.items(), key=lambda kv: kv[1], reverse=True)\n",
    "    sorted_f1_micro = sorted(by_f1_micro.items(), key=lambda kv: kv[1], reverse=True)\n",
    "\n",
    "    sorted_prec_macro = sorted(by_prec_macro.items(), key=lambda kv: kv[1], reverse=True)\n",
    "    sorted_recall_macro = sorted(by_recall_macro.items(), key=lambda kv: kv[1], reverse=True)\n",
    "    sorted_f1_macro = sorted(by_f1_macro.items(), key=lambda kv: kv[1], reverse=True)\n",
    "\n",
    "    print_kv_arr(\"By Acc:\", sorted_acc)\n",
    "    print_kv_arr(\"By Precision(avg=micro):\", sorted_prec_micro)\n",
    "    print_kv_arr(\"By Recall(avg=micro):\", sorted_recall_micro)\n",
    "    print_kv_arr(\"By F1(avg=micro):\", sorted_f1_micro)\n",
    "    print_kv_arr(\"By Precision(avg=macro):\", sorted_prec_macro)\n",
    "    print_kv_arr(\"By Recall(avg=macro):\", sorted_recall_macro)\n",
    "    print_kv_arr(\"By F1(avg=macro):\", sorted_f1_macro)\n",
    "\n",
    "\n",
    "def do_stuff(clf, clf_name, class_names, X_train, y_train, X_test, y_test, result_sets):\n",
    "    scores, predictions, matrix, report_str, report_dict = cv_learn(\n",
    "        clf, X_train, y_train, X_test, y_test)\n",
    "\n",
    "    # append results for later use\n",
    "    result_sets.append(\n",
    "        ResultSet(clf_name, scores, predictions, matrix, report_str, report_dict))\n",
    "\n",
    "    # print results\n",
    "    print_learning_results_single(\n",
    "        clf_name, class_names, scores, matrix, report_str)\n",
    "\n",
    "\n",
    "def print_roc_auc_scores(result_sets, y_true):\n",
    "    for result_set in result_sets:\n",
    "        print(result_set.classifier_name)\n",
    "        # assuming your already have a list of actual_class and predicted_class\n",
    "        score = roc_auc_score_multiclass(y_true, result_set.predictions)\n",
    "        print(score)\n",
    "        print(\"\\n\")"
   ]
  },
  {
   "cell_type": "markdown",
   "metadata": {},
   "source": [
    "## Scale the data"
   ]
  },
  {
   "cell_type": "code",
   "execution_count": 6,
   "metadata": {
    "ExecuteTime": {
     "end_time": "2019-04-07T13:05:37.404011Z",
     "start_time": "2019-04-07T13:05:37.392593Z"
    }
   },
   "outputs": [],
   "source": [
    "robust_scaler = RobustScaler()\n",
    "\n",
    "X_train_rob_scaled = robust_scaler.fit_transform(X_train.astype(np.float64))\n",
    "X_test_rob_scaled = robust_scaler.fit_transform(X_test.astype(np.float64))"
   ]
  },
  {
   "cell_type": "markdown",
   "metadata": {
    "ExecuteTime": {
     "end_time": "2019-04-06T17:22:45.716743Z",
     "start_time": "2019-04-06T17:22:45.712665Z"
    }
   },
   "source": [
    "# Classification"
   ]
  },
  {
   "cell_type": "markdown",
   "metadata": {
    "ExecuteTime": {
     "end_time": "2019-04-06T17:23:46.005932Z",
     "start_time": "2019-04-06T17:23:46.001397Z"
    }
   },
   "source": [
    "## Prepare result sets"
   ]
  },
  {
   "cell_type": "code",
   "execution_count": 7,
   "metadata": {
    "ExecuteTime": {
     "end_time": "2019-04-07T13:05:37.407154Z",
     "start_time": "2019-04-07T13:05:37.405294Z"
    }
   },
   "outputs": [],
   "source": [
    "result_sets = []"
   ]
  },
  {
   "cell_type": "markdown",
   "metadata": {},
   "source": [
    "## KNN"
   ]
  },
  {
   "cell_type": "code",
   "execution_count": 8,
   "metadata": {
    "ExecuteTime": {
     "end_time": "2019-04-07T13:05:37.981588Z",
     "start_time": "2019-04-07T13:05:37.408387Z"
    }
   },
   "outputs": [
    {
     "name": "stdout",
     "output_type": "stream",
     "text": [
      "KNN\n",
      "[0.96535643 0.9586942  0.96866667 0.96931288 0.96597732]\n",
      "Accuracy: 0.966 (+/- 0.008)\n",
      "KNN :\n",
      " [[1133    5  108]\n",
      " [  17  225    0]\n",
      " [  28    0  984]]\n",
      "              precision    recall  f1-score   support\n",
      "\n",
      "      GALAXY       0.96      0.91      0.93      1246\n",
      "         QSO       0.98      0.93      0.95       242\n",
      "        STAR       0.90      0.97      0.94      1012\n",
      "\n",
      "   micro avg       0.94      0.94      0.94      2500\n",
      "   macro avg       0.95      0.94      0.94      2500\n",
      "weighted avg       0.94      0.94      0.94      2500\n",
      "\n",
      "\n",
      "\n"
     ]
    },
    {
     "data": {
      "image/png": "[encoded data removed]",
      "text/plain": [
       "<Figure size 720x504 with 2 Axes>"
      ]
     },
     "metadata": {
      "needs_background": "light"
     },
     "output_type": "display_data"
    }
   ],
   "source": [
    "knn_clf = KNeighborsClassifier()\n",
    "do_stuff(knn_clf, \"KNN\", class_names, X_train_rob_scaled, y_train, X_test_rob_scaled, y_test, result_sets)"
   ]
  },
  {
   "cell_type": "markdown",
   "metadata": {},
   "source": [
    "## SVC\n"
   ]
  },
  {
   "cell_type": "code",
   "execution_count": 9,
   "metadata": {
    "ExecuteTime": {
     "end_time": "2019-04-07T13:05:39.540139Z",
     "start_time": "2019-04-07T13:05:37.982743Z"
    }
   },
   "outputs": [
    {
     "name": "stdout",
     "output_type": "stream",
     "text": [
      "SVC\n",
      "[0.98067955 0.9733511  0.98466667 0.98599066 0.98332221]\n",
      "Accuracy: 0.982 (+/- 0.009)\n",
      "SVC :\n",
      " [[1198    3   45]\n",
      " [  16  226    0]\n",
      " [   0    2 1010]]\n",
      "              precision    recall  f1-score   support\n",
      "\n",
      "      GALAXY       0.99      0.96      0.97      1246\n",
      "         QSO       0.98      0.93      0.96       242\n",
      "        STAR       0.96      1.00      0.98      1012\n",
      "\n",
      "   micro avg       0.97      0.97      0.97      2500\n",
      "   macro avg       0.97      0.96      0.97      2500\n",
      "weighted avg       0.97      0.97      0.97      2500\n",
      "\n",
      "\n",
      "\n"
     ]
    },
    {
     "data": {
      "image/png": "[encoded data removed]",
      "text/plain": [
       "<Figure size 720x504 with 2 Axes>"
      ]
     },
     "metadata": {
      "needs_background": "light"
     },
     "output_type": "display_data"
    }
   ],
   "source": [
    "svm_clf = SVC(gamma=\"auto\", random_state=42)\n",
    "do_stuff(svm_clf, \"SVC\", class_names, X_train_rob_scaled, y_train, X_test_rob_scaled, y_test, result_sets)"
   ]
  },
  {
   "cell_type": "markdown",
   "metadata": {},
   "source": [
    "## Linear SVM"
   ]
  },
  {
   "cell_type": "code",
   "execution_count": 10,
   "metadata": {
    "ExecuteTime": {
     "end_time": "2019-04-07T13:05:41.226851Z",
     "start_time": "2019-04-07T13:05:39.541343Z"
    }
   },
   "outputs": [
    {
     "name": "stdout",
     "output_type": "stream",
     "text": [
      "LinearSVC\n",
      "[0.96868754 0.96802132 0.98133333 0.97798532 0.97331554]\n",
      "Accuracy: 0.974 (+/- 0.010)\n",
      "LinearSVC :\n",
      " [[1215    7   24]\n",
      " [  27  215    0]\n",
      " [  12    1  999]]\n",
      "              precision    recall  f1-score   support\n",
      "\n",
      "      GALAXY       0.97      0.98      0.97      1246\n",
      "         QSO       0.96      0.89      0.92       242\n",
      "        STAR       0.98      0.99      0.98      1012\n",
      "\n",
      "   micro avg       0.97      0.97      0.97      2500\n",
      "   macro avg       0.97      0.95      0.96      2500\n",
      "weighted avg       0.97      0.97      0.97      2500\n",
      "\n",
      "\n",
      "\n"
     ]
    },
    {
     "data": {
      "image/png": "[encoded data removed]",
      "text/plain": [
       "<Figure size 720x504 with 2 Axes>"
      ]
     },
     "metadata": {
      "needs_background": "light"
     },
     "output_type": "display_data"
    }
   ],
   "source": [
    "with warnings.catch_warnings():\n",
    "    warnings.simplefilter(\"ignore\")\n",
    "    lsvm_clf = LinearSVC(C=10, loss=\"hinge\", random_state=42)\n",
    "    do_stuff(lsvm_clf, \"LinearSVC\", class_names, X_train_rob_scaled, y_train, X_test_rob_scaled, y_test, result_sets)"
   ]
  },
  {
   "cell_type": "markdown",
   "metadata": {},
   "source": [
    "## Nu-SVM"
   ]
  },
  {
   "cell_type": "code",
   "execution_count": 11,
   "metadata": {
    "ExecuteTime": {
     "end_time": "2019-04-07T13:05:42.891594Z",
     "start_time": "2019-04-07T13:05:41.228151Z"
    },
    "code_folding": []
   },
   "outputs": [
    {
     "name": "stdout",
     "output_type": "stream",
     "text": [
      "NuSVC\n",
      "[0.98334444 0.97534977 0.986      0.98932622 0.98665777]\n",
      "Accuracy: 0.984 (+/- 0.010)\n",
      "NuSVC :\n",
      " [[1222    2   22]\n",
      " [  16  226    0]\n",
      " [   0    2 1010]]\n",
      "              precision    recall  f1-score   support\n",
      "\n",
      "      GALAXY       0.99      0.98      0.98      1246\n",
      "         QSO       0.98      0.93      0.96       242\n",
      "        STAR       0.98      1.00      0.99      1012\n",
      "\n",
      "   micro avg       0.98      0.98      0.98      2500\n",
      "   macro avg       0.98      0.97      0.98      2500\n",
      "weighted avg       0.98      0.98      0.98      2500\n",
      "\n",
      "\n",
      "\n"
     ]
    },
    {
     "data": {
      "image/png": "[encoded data removed]",
      "text/plain": [
       "<Figure size 720x504 with 2 Axes>"
      ]
     },
     "metadata": {
      "needs_background": "light"
     },
     "output_type": "display_data"
    }
   ],
   "source": [
    "nusvm_clf = NuSVC(nu=0.05, gamma=0.1)\n",
    "do_stuff(nusvm_clf, \"NuSVC\", class_names, X_train_rob_scaled, y_train, X_test_rob_scaled, y_test, result_sets)"
   ]
  },
  {
   "cell_type": "markdown",
   "metadata": {},
   "source": [
    "## RBF Kernel - SVM"
   ]
  },
  {
   "cell_type": "code",
   "execution_count": 12,
   "metadata": {
    "ExecuteTime": {
     "end_time": "2019-04-07T13:05:44.411174Z",
     "start_time": "2019-04-07T13:05:42.892823Z"
    }
   },
   "outputs": [
    {
     "name": "stdout",
     "output_type": "stream",
     "text": [
      "RbfKernelSVM\n",
      "[0.98734177 0.98467688 0.98733333 0.98932622 0.98398933]\n",
      "Accuracy: 0.987 (+/- 0.004)\n",
      "RbfKernelSVM :\n",
      " [[1223    4   19]\n",
      " [  15  227    0]\n",
      " [   4    1 1007]]\n",
      "              precision    recall  f1-score   support\n",
      "\n",
      "      GALAXY       0.98      0.98      0.98      1246\n",
      "         QSO       0.98      0.94      0.96       242\n",
      "        STAR       0.98      1.00      0.99      1012\n",
      "\n",
      "   micro avg       0.98      0.98      0.98      2500\n",
      "   macro avg       0.98      0.97      0.98      2500\n",
      "weighted avg       0.98      0.98      0.98      2500\n",
      "\n",
      "\n",
      "\n"
     ]
    },
    {
     "data": {
      "image/png": "[encoded data removed]",
      "text/plain": [
       "<Figure size 720x504 with 2 Axes>"
      ]
     },
     "metadata": {
      "needs_background": "light"
     },
     "output_type": "display_data"
    }
   ],
   "source": [
    "rbf_svm_clf = SVC(kernel=\"rbf\", gamma=0.1, C=1000)\n",
    "do_stuff(rbf_svm_clf, \"RbfKernelSVM\", class_names, X_train_rob_scaled, y_train, X_test_rob_scaled, y_test, result_sets)"
   ]
  },
  {
   "cell_type": "markdown",
   "metadata": {},
   "source": [
    "## Poly Kernel SVM"
   ]
  },
  {
   "cell_type": "code",
   "execution_count": 13,
   "metadata": {
    "ExecuteTime": {
     "end_time": "2019-04-07T13:06:30.470539Z",
     "start_time": "2019-04-07T13:05:44.412393Z"
    }
   },
   "outputs": [
    {
     "name": "stdout",
     "output_type": "stream",
     "text": [
      "PolyKernelSVM\n",
      "[0.99200533 0.98934044 0.994      0.99132755 0.98865911]\n",
      "Accuracy: 0.991 (+/- 0.004)\n",
      "PolyKernelSVM :\n",
      " [[1230    7    9]\n",
      " [  12  230    0]\n",
      " [   7    0 1005]]\n",
      "              precision    recall  f1-score   support\n",
      "\n",
      "      GALAXY       0.98      0.99      0.99      1246\n",
      "         QSO       0.97      0.95      0.96       242\n",
      "        STAR       0.99      0.99      0.99      1012\n",
      "\n",
      "   micro avg       0.99      0.99      0.99      2500\n",
      "   macro avg       0.98      0.98      0.98      2500\n",
      "weighted avg       0.99      0.99      0.99      2500\n",
      "\n",
      "\n",
      "\n"
     ]
    },
    {
     "data": {
      "image/png": "[encoded data removed]",
      "text/plain": [
       "<Figure size 720x504 with 2 Axes>"
      ]
     },
     "metadata": {
      "needs_background": "light"
     },
     "output_type": "display_data"
    }
   ],
   "source": [
    "poly_svm_clf = SVC(kernel=\"poly\", gamma=\"scale\", degree=3, coef0=100, C=5)\n",
    "do_stuff(poly_svm_clf, \"PolyKernelSVM\", class_names, X_train_rob_scaled, y_train, X_test_rob_scaled, y_test, result_sets)"
   ]
  },
  {
   "cell_type": "markdown",
   "metadata": {},
   "source": [
    "## Decision Tree"
   ]
  },
  {
   "cell_type": "code",
   "execution_count": 14,
   "metadata": {
    "ExecuteTime": {
     "end_time": "2019-04-07T13:06:30.930764Z",
     "start_time": "2019-04-07T13:06:30.472146Z"
    }
   },
   "outputs": [
    {
     "name": "stdout",
     "output_type": "stream",
     "text": [
      "DecisionTree\n",
      "[0.98600933 0.98600933 0.98866667 0.98198799 0.98732488]\n",
      "Accuracy: 0.986 (+/- 0.004)\n",
      "DecisionTree :\n",
      " [[1220   19    7]\n",
      " [  16  226    0]\n",
      " [   4    0 1008]]\n",
      "              precision    recall  f1-score   support\n",
      "\n",
      "      GALAXY       0.98      0.98      0.98      1246\n",
      "         QSO       0.92      0.93      0.93       242\n",
      "        STAR       0.99      1.00      0.99      1012\n",
      "\n",
      "   micro avg       0.98      0.98      0.98      2500\n",
      "   macro avg       0.97      0.97      0.97      2500\n",
      "weighted avg       0.98      0.98      0.98      2500\n",
      "\n",
      "\n",
      "\n"
     ]
    },
    {
     "data": {
      "image/png": "[encoded data removed]",
      "text/plain": [
       "<Figure size 720x504 with 2 Axes>"
      ]
     },
     "metadata": {
      "needs_background": "light"
     },
     "output_type": "display_data"
    }
   ],
   "source": [
    "tree_clf = DecisionTreeClassifier(random_state=42)\n",
    "do_stuff(tree_clf, \"DecisionTree\", class_names, X_train_rob_scaled, y_train, X_test_rob_scaled, y_test, result_sets)"
   ]
  },
  {
   "cell_type": "markdown",
   "metadata": {},
   "source": [
    "## Random Forest"
   ]
  },
  {
   "cell_type": "code",
   "execution_count": 15,
   "metadata": {
    "ExecuteTime": {
     "end_time": "2019-04-07T13:07:12.017639Z",
     "start_time": "2019-04-07T13:06:30.933913Z"
    }
   },
   "outputs": [
    {
     "name": "stdout",
     "output_type": "stream",
     "text": [
      "RandomForest\n",
      "[0.9853431  0.9853431  0.99133333 0.98799199 0.98999333]\n",
      "Accuracy: 0.988 (+/- 0.005)\n",
      "RandomForest :\n",
      " [[1232    4   10]\n",
      " [  14  228    0]\n",
      " [   1    0 1011]]\n",
      "              precision    recall  f1-score   support\n",
      "\n",
      "      GALAXY       0.99      0.99      0.99      1246\n",
      "         QSO       0.98      0.94      0.96       242\n",
      "        STAR       0.99      1.00      0.99      1012\n",
      "\n",
      "   micro avg       0.99      0.99      0.99      2500\n",
      "   macro avg       0.99      0.98      0.98      2500\n",
      "weighted avg       0.99      0.99      0.99      2500\n",
      "\n",
      "\n",
      "\n"
     ]
    },
    {
     "data": {
      "image/png": "[encoded data removed]",
      "text/plain": [
       "<Figure size 720x504 with 2 Axes>"
      ]
     },
     "metadata": {
      "needs_background": "light"
     },
     "output_type": "display_data"
    }
   ],
   "source": [
    "rnd_clf = RandomForestClassifier(n_estimators=1000, random_state=42)\n",
    "do_stuff(rnd_clf, \"RandomForest\", class_names, X_train_rob_scaled, y_train, X_test_rob_scaled, y_test, result_sets)"
   ]
  },
  {
   "cell_type": "markdown",
   "metadata": {},
   "source": [
    "## Logistic Regression"
   ]
  },
  {
   "cell_type": "code",
   "execution_count": 16,
   "metadata": {
    "ExecuteTime": {
     "end_time": "2019-04-07T13:07:12.536017Z",
     "start_time": "2019-04-07T13:07:12.018996Z"
    }
   },
   "outputs": [
    {
     "name": "stdout",
     "output_type": "stream",
     "text": [
      "LogisticRegression\n",
      "[0.9673551  0.96535643 0.97533333 0.9766511  0.9706471 ]\n",
      "Accuracy: 0.971 (+/- 0.009)\n",
      "LogisticRegression :\n",
      " [[1171    4   71]\n",
      " [  18  224    0]\n",
      " [  13    0  999]]\n",
      "              precision    recall  f1-score   support\n",
      "\n",
      "      GALAXY       0.97      0.94      0.96      1246\n",
      "         QSO       0.98      0.93      0.95       242\n",
      "        STAR       0.93      0.99      0.96      1012\n",
      "\n",
      "   micro avg       0.96      0.96      0.96      2500\n",
      "   macro avg       0.96      0.95      0.96      2500\n",
      "weighted avg       0.96      0.96      0.96      2500\n",
      "\n",
      "\n",
      "\n"
     ]
    },
    {
     "data": {
      "image/png": "[encoded data removed]",
      "text/plain": [
       "<Figure size 720x504 with 2 Axes>"
      ]
     },
     "metadata": {
      "needs_background": "light"
     },
     "output_type": "display_data"
    }
   ],
   "source": [
    "log_clf = LogisticRegression(\n",
    "    solver=\"liblinear\", random_state=42, multi_class='auto')\n",
    "do_stuff(log_clf, \"LogisticRegression\", class_names, X_train_rob_scaled, y_train, X_test_rob_scaled, y_test, result_sets)"
   ]
  },
  {
   "cell_type": "markdown",
   "metadata": {},
   "source": [
    "## Gradient Boosting"
   ]
  },
  {
   "cell_type": "code",
   "execution_count": 17,
   "metadata": {
    "ExecuteTime": {
     "end_time": "2019-04-07T13:07:18.297868Z",
     "start_time": "2019-04-07T13:07:12.537206Z"
    }
   },
   "outputs": [
    {
     "name": "stdout",
     "output_type": "stream",
     "text": [
      "XGB\n",
      "[0.98867422 0.98401066 0.99133333 0.98865911 0.99332889]\n",
      "Accuracy: 0.989 (+/- 0.006)\n",
      "XGB :\n",
      " [[1230    8    8]\n",
      " [  11  231    0]\n",
      " [   1    0 1011]]\n",
      "              precision    recall  f1-score   support\n",
      "\n",
      "      GALAXY       0.99      0.99      0.99      1246\n",
      "         QSO       0.97      0.95      0.96       242\n",
      "        STAR       0.99      1.00      1.00      1012\n",
      "\n",
      "   micro avg       0.99      0.99      0.99      2500\n",
      "   macro avg       0.98      0.98      0.98      2500\n",
      "weighted avg       0.99      0.99      0.99      2500\n",
      "\n",
      "\n",
      "\n"
     ]
    },
    {
     "data": {
      "image/png": "[encoded data removed]",
      "text/plain": [
       "<Figure size 720x504 with 2 Axes>"
      ]
     },
     "metadata": {
      "needs_background": "light"
     },
     "output_type": "display_data"
    }
   ],
   "source": [
    "# Xgboost parameters\n",
    "xgb_params = {'learning_rate': 0.05,\n",
    "              'max_depth': 4,\n",
    "              'subsample': 0.9,\n",
    "              'colsample_bytree': 0.9,\n",
    "              'objective': 'binary:logistic',\n",
    "              'silent': 1,\n",
    "              'n_estimators': 100,\n",
    "              'gamma': 1,\n",
    "              'min_child_weight': 4,\n",
    "              # ENABLE GPU COMPUTING BY UNCOMMENTING BELOW\n",
    "              # 'gpu_id': 0,\n",
    "              # 'tree_method': 'gpu_hist'\n",
    "              }\n",
    "xgb_clf = XGBClassifier(**xgb_params, seed=42)\n",
    "do_stuff(xgb_clf, \"XGB\", class_names, X_train_rob_scaled, y_train, X_test_rob_scaled, y_test, result_sets)"
   ]
  },
  {
   "cell_type": "markdown",
   "metadata": {},
   "source": [
    "## Bagging Classifier (DecisionTreeClassifier)"
   ]
  },
  {
   "cell_type": "code",
   "execution_count": 18,
   "metadata": {
    "ExecuteTime": {
     "end_time": "2019-04-07T13:07:22.693031Z",
     "start_time": "2019-04-07T13:07:18.299103Z"
    }
   },
   "outputs": [
    {
     "name": "stdout",
     "output_type": "stream",
     "text": [
      "BaggingCLF(DecisionTreeClassifier)\n",
      "[0.98201199 0.9793471  0.986      0.98599066 0.98799199]\n",
      "Accuracy: 0.984 (+/- 0.006)\n",
      "BaggingCLF(DecisionTreeClassifier) :\n",
      " [[1232    4   10]\n",
      " [  13  229    0]\n",
      " [   0    0 1012]]\n",
      "              precision    recall  f1-score   support\n",
      "\n",
      "      GALAXY       0.99      0.99      0.99      1246\n",
      "         QSO       0.98      0.95      0.96       242\n",
      "        STAR       0.99      1.00      1.00      1012\n",
      "\n",
      "   micro avg       0.99      0.99      0.99      2500\n",
      "   macro avg       0.99      0.98      0.98      2500\n",
      "weighted avg       0.99      0.99      0.99      2500\n",
      "\n",
      "\n",
      "\n"
     ]
    },
    {
     "data": {
      "image/png": "[encoded data removed]",
      "text/plain": [
       "<Figure size 720x504 with 2 Axes>"
      ]
     },
     "metadata": {
      "needs_background": "light"
     },
     "output_type": "display_data"
    }
   ],
   "source": [
    "bag_df_clf = BaggingClassifier(\n",
    "    DecisionTreeClassifier(splitter=\"random\", max_leaf_nodes=16, random_state=42),\n",
    "    n_estimators=500, max_samples=1.0, bootstrap=True, n_jobs=-1, random_state=42)\n",
    "do_stuff(bag_df_clf, \"BaggingCLF(DecisionTreeClassifier)\", class_names, X_train_rob_scaled, y_train, X_test_rob_scaled, y_test, result_sets)"
   ]
  },
  {
   "cell_type": "markdown",
   "metadata": {},
   "source": [
    "## Ada Boost"
   ]
  },
  {
   "cell_type": "code",
   "execution_count": 19,
   "metadata": {
    "ExecuteTime": {
     "end_time": "2019-04-07T13:07:54.587073Z",
     "start_time": "2019-04-07T13:07:22.694404Z"
    }
   },
   "outputs": [
    {
     "name": "stdout",
     "output_type": "stream",
     "text": [
      "AdaBoost(DecisionTreeClassifier)\n",
      "[0.67954697 0.93404397 0.66266667 0.82054703 0.74116077]\n",
      "Accuracy: 0.768 (+/- 0.200)\n",
      "AdaBoost(DecisionTreeClassifier) :\n",
      " [[1223   16    7]\n",
      " [ 125  117    0]\n",
      " [ 151    0  861]]\n",
      "              precision    recall  f1-score   support\n",
      "\n",
      "      GALAXY       0.82      0.98      0.89      1246\n",
      "         QSO       0.88      0.48      0.62       242\n",
      "        STAR       0.99      0.85      0.92      1012\n",
      "\n",
      "   micro avg       0.88      0.88      0.88      2500\n",
      "   macro avg       0.90      0.77      0.81      2500\n",
      "weighted avg       0.89      0.88      0.88      2500\n",
      "\n",
      "\n",
      "\n"
     ]
    },
    {
     "data": {
      "image/png": "[encoded data removed]",
      "text/plain": [
       "<Figure size 720x504 with 2 Axes>"
      ]
     },
     "metadata": {
      "needs_background": "light"
     },
     "output_type": "display_data"
    }
   ],
   "source": [
    "ada_clf = AdaBoostClassifier(\n",
    "    DecisionTreeClassifier(max_depth=1), n_estimators=500,\n",
    "    algorithm=\"SAMME.R\", learning_rate=0.5, random_state=42)\n",
    "do_stuff(ada_clf, \"AdaBoost(DecisionTreeClassifier)\", class_names, X_train_rob_scaled, y_train, X_test_rob_scaled, y_test, result_sets)"
   ]
  },
  {
   "cell_type": "markdown",
   "metadata": {},
   "source": [
    "## SGD"
   ]
  },
  {
   "cell_type": "code",
   "execution_count": 20,
   "metadata": {
    "ExecuteTime": {
     "end_time": "2019-04-07T13:07:56.829909Z",
     "start_time": "2019-04-07T13:07:54.588298Z"
    }
   },
   "outputs": [
    {
     "name": "stdout",
     "output_type": "stream",
     "text": [
      "SGDClassifier\n",
      "[0.96868754 0.96802132 0.97466667 0.9766511  0.97131421]\n",
      "Accuracy: 0.972 (+/- 0.007)\n",
      "SGDClassifier :\n",
      " [[1213    7   26]\n",
      " [  29  213    0]\n",
      " [  12    0 1000]]\n",
      "              precision    recall  f1-score   support\n",
      "\n",
      "      GALAXY       0.97      0.97      0.97      1246\n",
      "         QSO       0.97      0.88      0.92       242\n",
      "        STAR       0.97      0.99      0.98      1012\n",
      "\n",
      "   micro avg       0.97      0.97      0.97      2500\n",
      "   macro avg       0.97      0.95      0.96      2500\n",
      "weighted avg       0.97      0.97      0.97      2500\n",
      "\n",
      "\n",
      "\n"
     ]
    },
    {
     "data": {
      "image/png": "[encoded data removed]",
      "text/plain": [
       "<Figure size 720x504 with 2 Axes>"
      ]
     },
     "metadata": {
      "needs_background": "light"
     },
     "output_type": "display_data"
    }
   ],
   "source": [
    "sgd_clf = SGDClassifier(max_iter=500, tol=-np.infty, random_state=42)\n",
    "do_stuff(sgd_clf, \"SGDClassifier\", class_names, X_train_rob_scaled, y_train, X_test_rob_scaled, y_test, result_sets)"
   ]
  },
  {
   "cell_type": "markdown",
   "metadata": {},
   "source": [
    "## MLP"
   ]
  },
  {
   "cell_type": "code",
   "execution_count": 21,
   "metadata": {
    "ExecuteTime": {
     "end_time": "2019-04-07T13:08:26.099222Z",
     "start_time": "2019-04-07T13:07:56.831639Z"
    }
   },
   "outputs": [
    {
     "name": "stdout",
     "output_type": "stream",
     "text": [
      "MLP\n",
      "[0.98800799 0.98267821 0.99133333 0.99199466 0.98999333]\n",
      "Accuracy: 0.989 (+/- 0.007)\n",
      "MLP :\n",
      " [[1221    3   22]\n",
      " [  10  232    0]\n",
      " [   0    0 1012]]\n",
      "              precision    recall  f1-score   support\n",
      "\n",
      "      GALAXY       0.99      0.98      0.99      1246\n",
      "         QSO       0.99      0.96      0.97       242\n",
      "        STAR       0.98      1.00      0.99      1012\n",
      "\n",
      "   micro avg       0.99      0.99      0.99      2500\n",
      "   macro avg       0.99      0.98      0.98      2500\n",
      "weighted avg       0.99      0.99      0.99      2500\n",
      "\n",
      "\n",
      "\n"
     ]
    },
    {
     "data": {
      "image/png": "[encoded data removed]",
      "text/plain": [
       "<Figure size 720x504 with 2 Axes>"
      ]
     },
     "metadata": {
      "needs_background": "light"
     },
     "output_type": "display_data"
    }
   ],
   "source": [
    "mlp_clf = MLPClassifier(random_state=42, max_iter=2000)\n",
    "do_stuff(mlp_clf, \"MLP\", class_names, X_train_rob_scaled, y_train, X_test_rob_scaled, y_test, result_sets)"
   ]
  },
  {
   "cell_type": "markdown",
   "metadata": {},
   "source": [
    "## Extra Trees"
   ]
  },
  {
   "cell_type": "code",
   "execution_count": 22,
   "metadata": {
    "ExecuteTime": {
     "end_time": "2019-04-07T13:08:26.539017Z",
     "start_time": "2019-04-07T13:08:26.101261Z"
    }
   },
   "outputs": [
    {
     "name": "stdout",
     "output_type": "stream",
     "text": [
      "XTrees\n",
      "[0.98134577 0.97468354 0.984      0.98332221 0.98132088]\n",
      "Accuracy: 0.981 (+/- 0.007)\n",
      "XTrees :\n",
      " [[1214    4   28]\n",
      " [  15  227    0]\n",
      " [  11    1 1000]]\n",
      "              precision    recall  f1-score   support\n",
      "\n",
      "      GALAXY       0.98      0.97      0.98      1246\n",
      "         QSO       0.98      0.94      0.96       242\n",
      "        STAR       0.97      0.99      0.98      1012\n",
      "\n",
      "   micro avg       0.98      0.98      0.98      2500\n",
      "   macro avg       0.98      0.97      0.97      2500\n",
      "weighted avg       0.98      0.98      0.98      2500\n",
      "\n",
      "\n",
      "\n"
     ]
    },
    {
     "data": {
      "image/png": "[encoded data removed]",
      "text/plain": [
       "<Figure size 720x504 with 2 Axes>"
      ]
     },
     "metadata": {
      "needs_background": "light"
     },
     "output_type": "display_data"
    }
   ],
   "source": [
    "xtree_clf = ExtraTreesClassifier(n_estimators=10, random_state=42)\n",
    "do_stuff(xtree_clf, \"XTrees\", class_names, X_train_rob_scaled, y_train, X_test_rob_scaled, y_test, result_sets)"
   ]
  },
  {
   "cell_type": "markdown",
   "metadata": {},
   "source": [
    "## Passive Aggressive Classifier"
   ]
  },
  {
   "cell_type": "code",
   "execution_count": 23,
   "metadata": {
    "ExecuteTime": {
     "end_time": "2019-04-07T13:08:26.831305Z",
     "start_time": "2019-04-07T13:08:26.540362Z"
    }
   },
   "outputs": [
    {
     "name": "stdout",
     "output_type": "stream",
     "text": [
      "PassiveAggressiveClassifier\n",
      "[0.97001999 0.96069287 0.91466667 0.97598399 0.97531688]\n",
      "Accuracy: 0.959 (+/- 0.046)\n",
      "PassiveAggressiveClassifier :\n",
      " [[1213   13   20]\n",
      " [  68  174    0]\n",
      " [  43    1  968]]\n",
      "              precision    recall  f1-score   support\n",
      "\n",
      "      GALAXY       0.92      0.97      0.94      1246\n",
      "         QSO       0.93      0.72      0.81       242\n",
      "        STAR       0.98      0.96      0.97      1012\n",
      "\n",
      "   micro avg       0.94      0.94      0.94      2500\n",
      "   macro avg       0.94      0.88      0.91      2500\n",
      "weighted avg       0.94      0.94      0.94      2500\n",
      "\n",
      "\n",
      "\n"
     ]
    },
    {
     "data": {
      "image/png": "[encoded data removed]",
      "text/plain": [
       "<Figure size 720x504 with 2 Axes>"
      ]
     },
     "metadata": {
      "needs_background": "light"
     },
     "output_type": "display_data"
    }
   ],
   "source": [
    "pa_clf = PassiveAggressiveClassifier(max_iter=5000, random_state=0, tol=1e-3)\n",
    "do_stuff(pa_clf, \"PassiveAggressiveClassifier\", class_names, X_train_rob_scaled, y_train, X_test_rob_scaled, y_test, result_sets)"
   ]
  },
  {
   "cell_type": "markdown",
   "metadata": {},
   "source": [
    "## Ridge Classifier"
   ]
  },
  {
   "cell_type": "code",
   "execution_count": 24,
   "metadata": {
    "ExecuteTime": {
     "end_time": "2019-04-07T13:08:27.170886Z",
     "start_time": "2019-04-07T13:08:26.832398Z"
    }
   },
   "outputs": [
    {
     "name": "stdout",
     "output_type": "stream",
     "text": [
      "RidgeClassifier\n",
      "[0.92071952 0.90672885 0.93266667 0.92261508 0.91661107]\n",
      "Accuracy: 0.920 (+/- 0.017)\n",
      "RidgeClassifier :\n",
      " [[1112    0  134]\n",
      " [  36  188   18]\n",
      " [  87    1  924]]\n",
      "              precision    recall  f1-score   support\n",
      "\n",
      "      GALAXY       0.90      0.89      0.90      1246\n",
      "         QSO       0.99      0.78      0.87       242\n",
      "        STAR       0.86      0.91      0.89      1012\n",
      "\n",
      "   micro avg       0.89      0.89      0.89      2500\n",
      "   macro avg       0.92      0.86      0.88      2500\n",
      "weighted avg       0.89      0.89      0.89      2500\n",
      "\n",
      "\n",
      "\n"
     ]
    },
    {
     "data": {
      "image/png": "[encoded data removed]",
      "text/plain": [
       "<Figure size 720x504 with 2 Axes>"
      ]
     },
     "metadata": {
      "needs_background": "light"
     },
     "output_type": "display_data"
    }
   ],
   "source": [
    "r_clf = RidgeClassifier()\n",
    "do_stuff(r_clf, \"RidgeClassifier\", class_names, X_train_rob_scaled, y_train, X_test_rob_scaled, y_test, result_sets)"
   ]
  },
  {
   "cell_type": "markdown",
   "metadata": {},
   "source": [
    "## Naive Bayes"
   ]
  },
  {
   "cell_type": "code",
   "execution_count": 25,
   "metadata": {
    "ExecuteTime": {
     "end_time": "2019-04-07T13:08:27.429313Z",
     "start_time": "2019-04-07T13:08:27.172128Z"
    }
   },
   "outputs": [
    {
     "name": "stdout",
     "output_type": "stream",
     "text": [
      "NaiveBayes\n",
      "[0.98001332 0.9733511  0.98066667 0.97464977 0.98465644]\n",
      "Accuracy: 0.979 (+/- 0.008)\n",
      "NaiveBayes :\n",
      " [[1218   21    7]\n",
      " [  11  231    0]\n",
      " [   3    7 1002]]\n",
      "              precision    recall  f1-score   support\n",
      "\n",
      "      GALAXY       0.99      0.98      0.98      1246\n",
      "         QSO       0.89      0.95      0.92       242\n",
      "        STAR       0.99      0.99      0.99      1012\n",
      "\n",
      "   micro avg       0.98      0.98      0.98      2500\n",
      "   macro avg       0.96      0.97      0.97      2500\n",
      "weighted avg       0.98      0.98      0.98      2500\n",
      "\n",
      "\n",
      "\n"
     ]
    },
    {
     "data": {
      "image/png": "[encoded data removed]",
      "text/plain": [
       "<Figure size 720x504 with 2 Axes>"
      ]
     },
     "metadata": {
      "needs_background": "light"
     },
     "output_type": "display_data"
    }
   ],
   "source": [
    "nb_clf = GaussianNB()\n",
    "do_stuff(nb_clf, \"NaiveBayes\", class_names, X_train_rob_scaled, y_train, X_test_rob_scaled, y_test, result_sets)"
   ]
  },
  {
   "cell_type": "markdown",
   "metadata": {},
   "source": [
    "## Multinomial Naive Bayes"
   ]
  },
  {
   "cell_type": "code",
   "execution_count": 26,
   "metadata": {
    "ExecuteTime": {
     "end_time": "2019-04-07T13:08:27.726606Z",
     "start_time": "2019-04-07T13:08:27.430902Z"
    }
   },
   "outputs": [
    {
     "name": "stdout",
     "output_type": "stream",
     "text": [
      "MultinomialNaiveBayes\n",
      "[0.92071952 0.90672885 0.93266667 0.92261508 0.91661107]\n",
      "Accuracy: 0.920 (+/- 0.017)\n",
      "MultinomialNaiveBayes :\n",
      " [[1112    0  134]\n",
      " [  36  188   18]\n",
      " [  87    1  924]]\n",
      "              precision    recall  f1-score   support\n",
      "\n",
      "      GALAXY       0.90      0.89      0.90      1246\n",
      "         QSO       0.99      0.78      0.87       242\n",
      "        STAR       0.86      0.91      0.89      1012\n",
      "\n",
      "   micro avg       0.89      0.89      0.89      2500\n",
      "   macro avg       0.92      0.86      0.88      2500\n",
      "weighted avg       0.89      0.89      0.89      2500\n",
      "\n",
      "\n",
      "\n"
     ]
    },
    {
     "data": {
      "image/png": "[encoded data removed]",
      "text/plain": [
       "<Figure size 720x504 with 2 Axes>"
      ]
     },
     "metadata": {
      "needs_background": "light"
     },
     "output_type": "display_data"
    }
   ],
   "source": [
    "mnb_clf = MultinomialNB()\n",
    "do_stuff(r_clf, \"MultinomialNaiveBayes\", class_names, X_train_rob_scaled, y_train, X_test_rob_scaled, y_test, result_sets)"
   ]
  },
  {
   "cell_type": "markdown",
   "metadata": {},
   "source": [
    "## LDA"
   ]
  },
  {
   "cell_type": "code",
   "execution_count": 27,
   "metadata": {
    "ExecuteTime": {
     "end_time": "2019-04-07T13:08:28.088092Z",
     "start_time": "2019-04-07T13:08:27.727712Z"
    }
   },
   "outputs": [
    {
     "name": "stdout",
     "output_type": "stream",
     "text": [
      "LDA\n",
      "[0.93537642 0.91672219 0.946      0.9299533  0.92328219]\n",
      "Accuracy: 0.930 (+/- 0.020)\n",
      "LDA :\n",
      " [[1131    0  115]\n",
      " [  45  185   12]\n",
      " [  74    2  936]]\n",
      "              precision    recall  f1-score   support\n",
      "\n",
      "      GALAXY       0.90      0.91      0.91      1246\n",
      "         QSO       0.99      0.76      0.86       242\n",
      "        STAR       0.88      0.92      0.90      1012\n",
      "\n",
      "   micro avg       0.90      0.90      0.90      2500\n",
      "   macro avg       0.92      0.87      0.89      2500\n",
      "weighted avg       0.90      0.90      0.90      2500\n",
      "\n",
      "\n",
      "\n"
     ]
    },
    {
     "data": {
      "image/png": "[encoded data removed]",
      "text/plain": [
       "<Figure size 720x504 with 2 Axes>"
      ]
     },
     "metadata": {
      "needs_background": "light"
     },
     "output_type": "display_data"
    }
   ],
   "source": [
    "lda_clf = LinearDiscriminantAnalysis()\n",
    "do_stuff(lda_clf, \"LDA\", class_names, X_train_rob_scaled, y_train, X_test_rob_scaled, y_test, result_sets)"
   ]
  },
  {
   "cell_type": "markdown",
   "metadata": {},
   "source": [
    "## QDA"
   ]
  },
  {
   "cell_type": "code",
   "execution_count": 28,
   "metadata": {
    "ExecuteTime": {
     "end_time": "2019-04-07T13:08:28.360099Z",
     "start_time": "2019-04-07T13:08:28.090101Z"
    }
   },
   "outputs": [
    {
     "name": "stdout",
     "output_type": "stream",
     "text": [
      "QDA\n",
      "[0.9793471  0.98134577 0.98666667 0.98865911 0.98732488]\n",
      "Accuracy: 0.985 (+/- 0.007)\n",
      "QDA :\n",
      " [[1225   15    6]\n",
      " [   5  237    0]\n",
      " [   9    2 1001]]\n",
      "              precision    recall  f1-score   support\n",
      "\n",
      "      GALAXY       0.99      0.98      0.99      1246\n",
      "         QSO       0.93      0.98      0.96       242\n",
      "        STAR       0.99      0.99      0.99      1012\n",
      "\n",
      "   micro avg       0.99      0.99      0.99      2500\n",
      "   macro avg       0.97      0.98      0.98      2500\n",
      "weighted avg       0.99      0.99      0.99      2500\n",
      "\n",
      "\n",
      "\n"
     ]
    },
    {
     "data": {
      "image/png": "[encoded data removed]",
      "text/plain": [
       "<Figure size 720x504 with 2 Axes>"
      ]
     },
     "metadata": {
      "needs_background": "light"
     },
     "output_type": "display_data"
    }
   ],
   "source": [
    "qda_clf = QuadraticDiscriminantAnalysis()\n",
    "do_stuff(qda_clf, \"QDA\", class_names, X_train_rob_scaled, y_train, X_test_rob_scaled, y_test, result_sets)"
   ]
  },
  {
   "cell_type": "markdown",
   "metadata": {},
   "source": [
    "## Voting Classifier"
   ]
  },
  {
   "cell_type": "code",
   "execution_count": 30,
   "metadata": {
    "ExecuteTime": {
     "end_time": "2019-04-07T13:09:55.646118Z",
     "start_time": "2019-04-07T13:08:58.331690Z"
    }
   },
   "outputs": [
    {
     "name": "stdout",
     "output_type": "stream",
     "text": [
      "VotingClassifier\n",
      "[0.98600933 0.98401066 0.99066667 0.98932622 0.99132755]\n",
      "Accuracy: 0.988 (+/- 0.006)\n",
      "VotingClassifier :\n",
      " [[1233    4    9]\n",
      " [  13  229    0]\n",
      " [   1    0 1011]]\n",
      "              precision    recall  f1-score   support\n",
      "\n",
      "      GALAXY       0.99      0.99      0.99      1246\n",
      "         QSO       0.98      0.95      0.96       242\n",
      "        STAR       0.99      1.00      1.00      1012\n",
      "\n",
      "   micro avg       0.99      0.99      0.99      2500\n",
      "   macro avg       0.99      0.98      0.98      2500\n",
      "weighted avg       0.99      0.99      0.99      2500\n",
      "\n",
      "\n",
      "\n"
     ]
    },
    {
     "data": {
      "image/png": "[encoded data removed]",
      "text/plain": [
       "<Figure size 720x504 with 2 Axes>"
      ]
     },
     "metadata": {
      "needs_background": "light"
     },
     "output_type": "display_data"
    }
   ],
   "source": [
    "with warnings.catch_warnings():\n",
    "    warnings.simplefilter(\"ignore\")\n",
    "    v_clf = VotingClassifier(estimators=[\n",
    "        (\"SVC\", svm_clf),\n",
    "        (\"NuSVC\", nusvm_clf),\n",
    "        (\"RbfSVC\", rbf_svm_clf),\n",
    "        (\"PolySVC\", poly_svm_clf),\n",
    "        (\"Tree\", tree_clf),\n",
    "        (\"RF\", rnd_clf),\n",
    "        (\"XGB\", xgb_clf),\n",
    "        (\"Bagging\", bag_df_clf),\n",
    "        (\"MLP\", mlp_clf),\n",
    "        (\"XTrees\", xtree_clf),\n",
    "        (\"NaiveBayes\", nb_clf),\n",
    "        (\"QDA\", qda_clf),\n",
    "    ], voting=\"hard\", n_jobs=-1)\n",
    "    do_stuff(v_clf, \"VotingClassifier\", class_names, X_train_rob_scaled, y_train, X_test_rob_scaled, y_test, result_sets)"
   ]
  },
  {
   "cell_type": "markdown",
   "metadata": {
    "ExecuteTime": {
     "end_time": "2019-04-06T20:26:08.248485Z",
     "start_time": "2019-04-06T20:26:08.243302Z"
    }
   },
   "source": [
    "# Results"
   ]
  },
  {
   "cell_type": "markdown",
   "metadata": {},
   "source": [
    "## Ordered results"
   ]
  },
  {
   "cell_type": "code",
   "execution_count": 31,
   "metadata": {
    "ExecuteTime": {
     "end_time": "2019-04-07T13:10:06.344483Z",
     "start_time": "2019-04-07T13:10:06.338246Z"
    },
    "scrolled": false
   },
   "outputs": [
    {
     "name": "stdout",
     "output_type": "stream",
     "text": [
      "By Acc:\n",
      "PolyKernelSVM 0.9910664854517715\n",
      "XGB 0.9892012404153661\n",
      "MLP 0.9888015069043735\n",
      "VotingClassifier 0.9882680845043337\n",
      "RandomForest 0.9880009732152473\n",
      "RbfKernelSVM 0.9865335062519287\n",
      "DecisionTree 0.9859996392294693\n",
      "QDA 0.9846687054823876\n",
      "BaggingCLF(DecisionTreeClassifier) 0.9842683498081554\n",
      "NuSVC 0.9841356386380615\n",
      "SVC 0.9816020376305353\n",
      "XTrees 0.9809344818375475\n",
      "NaiveBayes 0.9786674589040558\n",
      "LinearSVC 0.9738686122675315\n",
      "SGDClassifier 0.971868167526593\n",
      "LogisticRegression 0.9710686115564199\n",
      "KNN 0.9656014986080734\n",
      "PassiveAggressiveClassifier 0.9593360784012201\n",
      "LDA 0.9302668182519191\n",
      "RidgeClassifier 0.919868237037735\n",
      "MultinomialNaiveBayes 0.919868237037735\n",
      "AdaBoost(DecisionTreeClassifier) 0.7675930822487772\n",
      "\n",
      "\n",
      "By Precision(avg=micro):\n",
      "BaggingCLF(DecisionTreeClassifier) 0.9892\n",
      "VotingClassifier 0.9892\n",
      "XGB 0.9888\n",
      "RandomForest 0.9884\n",
      "PolyKernelSVM 0.986\n",
      "MLP 0.986\n",
      "QDA 0.9852\n",
      "NuSVC 0.9832\n",
      "RbfKernelSVM 0.9828\n",
      "DecisionTree 0.9816\n",
      "NaiveBayes 0.9804\n",
      "XTrees 0.9764\n",
      "SVC 0.9736\n",
      "LinearSVC 0.9716\n",
      "SGDClassifier 0.9704\n",
      "LogisticRegression 0.9576\n",
      "PassiveAggressiveClassifier 0.942\n",
      "KNN 0.9368\n",
      "LDA 0.9008\n",
      "RidgeClassifier 0.8896\n",
      "MultinomialNaiveBayes 0.8896\n",
      "AdaBoost(DecisionTreeClassifier) 0.8804\n",
      "\n",
      "\n",
      "By Recall(avg=micro):\n",
      "BaggingCLF(DecisionTreeClassifier) 0.9892\n",
      "VotingClassifier 0.9892\n",
      "XGB 0.9888\n",
      "RandomForest 0.9884\n",
      "PolyKernelSVM 0.986\n",
      "MLP 0.986\n",
      "QDA 0.9852\n",
      "NuSVC 0.9832\n",
      "RbfKernelSVM 0.9828\n",
      "DecisionTree 0.9816\n",
      "NaiveBayes 0.9804\n",
      "XTrees 0.9764\n",
      "SVC 0.9736\n",
      "LinearSVC 0.9716\n",
      "SGDClassifier 0.9704\n",
      "LogisticRegression 0.9576\n",
      "PassiveAggressiveClassifier 0.942\n",
      "KNN 0.9368\n",
      "LDA 0.9008\n",
      "RidgeClassifier 0.8896\n",
      "MultinomialNaiveBayes 0.8896\n",
      "AdaBoost(DecisionTreeClassifier) 0.8804\n",
      "\n",
      "\n",
      "By F1(avg=micro):\n",
      "BaggingCLF(DecisionTreeClassifier) 0.9892\n",
      "VotingClassifier 0.9892\n",
      "XGB 0.9888\n",
      "RandomForest 0.9884\n",
      "PolyKernelSVM 0.986\n",
      "MLP 0.986\n",
      "QDA 0.9852\n",
      "NuSVC 0.9832\n",
      "RbfKernelSVM 0.9828\n",
      "DecisionTree 0.9816\n",
      "NaiveBayes 0.9804\n",
      "XTrees 0.9764\n",
      "SVC 0.9736\n",
      "LinearSVC 0.9716\n",
      "SGDClassifier 0.9704\n",
      "LogisticRegression 0.9576\n",
      "PassiveAggressiveClassifier 0.942\n",
      "KNN 0.9368\n",
      "LDA 0.9008\n",
      "RidgeClassifier 0.8896\n",
      "MultinomialNaiveBayes 0.8896\n",
      "AdaBoost(DecisionTreeClassifier) 0.8804\n",
      "\n",
      "\n",
      "By Precision(avg=macro):\n",
      "VotingClassifier 0.9875940479822617\n",
      "BaggingCLF(DecisionTreeClassifier) 0.987535371715115\n",
      "RandomForest 0.9869784773695196\n",
      "MLP 0.9859446566534732\n",
      "XGB 0.9830048422509329\n",
      "NuSVC 0.9827889317041395\n",
      "PolyKernelSVM 0.9821254085467793\n",
      "RbfKernelSVM 0.9815439502470986\n",
      "XTrees 0.9767477266136607\n",
      "SVC 0.9741737927516795\n",
      "QDA 0.9719377130523926\n",
      "SGDClassifier 0.9700484375922972\n",
      "LinearSVC 0.9698548905040107\n",
      "DecisionTree 0.9664744652032115\n",
      "LogisticRegression 0.963436883582108\n",
      "NaiveBayes 0.9578635645285795\n",
      "KNN 0.9470531437018482\n",
      "PassiveAggressiveClassifier 0.9404840473026059\n",
      "LDA 0.9248772079155788\n",
      "RidgeClassifier 0.9179499708293811\n",
      "MultinomialNaiveBayes 0.9179499708293811\n",
      "AdaBoost(DecisionTreeClassifier) 0.8958373278307564\n",
      "\n",
      "\n",
      "By Recall(avg=macro):\n",
      "QDA 0.9838717817245151\n",
      "XGB 0.9802387402533959\n",
      "MLP 0.9795378268309832\n",
      "BaggingCLF(DecisionTreeClassifier) 0.9783483455597858\n",
      "VotingClassifier 0.9782864875350552\n",
      "PolyKernelSVM 0.976885045200096\n",
      "RandomForest 0.9766415543273029\n",
      "NaiveBayes 0.9740640405027312\n",
      "RbfKernelSVM 0.9715389161474342\n",
      "NuSVC 0.9708821252321718\n",
      "DecisionTree 0.9696883182249794\n",
      "XTrees 0.9668255461433949\n",
      "SVC 0.9644615794857835\n",
      "LogisticRegression 0.9508604561786602\n",
      "LinearSVC 0.9502347624988298\n",
      "SGDClassifier 0.9472742768474882\n",
      "KNN 0.9371312910860808\n",
      "PassiveAggressiveClassifier 0.8830150841297973\n",
      "LDA 0.8656895501945908\n",
      "RidgeClassifier 0.8607862803803649\n",
      "MultinomialNaiveBayes 0.8607862803803649\n",
      "AdaBoost(DecisionTreeClassifier) 0.7719341730644302\n",
      "\n",
      "\n",
      "By F1(avg=macro):\n",
      "VotingClassifier 0.9828196471878409\n",
      "BaggingCLF(DecisionTreeClassifier) 0.9828183616654865\n",
      "MLP 0.9826212157006653\n",
      "RandomForest 0.9816606740623275\n",
      "XGB 0.9816045421943392\n",
      "PolyKernelSVM 0.979469546155259\n",
      "QDA 0.9777135481140583\n",
      "NuSVC 0.9765941253627292\n",
      "RbfKernelSVM 0.976382875669132\n",
      "XTrees 0.9716224707955017\n",
      "SVC 0.9689493362713324\n",
      "DecisionTree 0.9680670191803545\n",
      "NaiveBayes 0.9655982862309832\n",
      "LinearSVC 0.9595164548712937\n",
      "SGDClassifier 0.9579440636563307\n",
      "LogisticRegression 0.9565150048137608\n",
      "KNN 0.9411898430288992\n",
      "PassiveAggressiveClassifier 0.9070903990589088\n",
      "LDA 0.8902965123898858\n",
      "RidgeClassifier 0.8846199997491134\n",
      "MultinomialNaiveBayes 0.8846199997491134\n",
      "AdaBoost(DecisionTreeClassifier) 0.8103440426823755\n",
      "\n",
      "\n"
     ]
    }
   ],
   "source": [
    "order_results(result_sets)"
   ]
  },
  {
   "cell_type": "markdown",
   "metadata": {},
   "source": [
    "## ROC AUC scores"
   ]
  },
  {
   "cell_type": "code",
   "execution_count": 32,
   "metadata": {
    "ExecuteTime": {
     "end_time": "2019-04-07T13:10:07.734001Z",
     "start_time": "2019-04-07T13:10:07.578245Z"
    }
   },
   "outputs": [
    {
     "name": "stdout",
     "output_type": "stream",
     "text": [
      "KNN\n",
      "{'GALAXY': 0.9367123119340741, 'QSO': 0.9637688585671514, 'STAR': 0.9498756853244933}\n",
      "\n",
      "\n",
      "SVC\n",
      "{'GALAXY': 0.9743587774338808, 'QSO': 0.9658349742696308, 'STAR': 0.9838908899655744}\n",
      "\n",
      "\n",
      "LinearSVC\n",
      "{'GALAXY': 0.9720099533819226, 'QSO': 0.9424433968479383, 'STAR': 0.985512558969782}\n",
      "\n",
      "\n",
      "NuSVC\n",
      "{'GALAXY': 0.9839895960534636, 'QSO': 0.9660564091677708, 'STAR': 0.9916193845892304}\n",
      "\n",
      "\n",
      "RbfKernelSVM\n",
      "{'GALAXY': 0.9831947079138091, 'QSO': 0.9679010899721101, 'STAR': 0.991145235666624}\n",
      "\n",
      "\n",
      "PolyKernelSVM\n",
      "{'GALAXY': 0.986003696677854, 'QSO': 0.9736565672832684, 'STAR': 0.9935173084278975}\n",
      "\n",
      "\n",
      "DecisionTree\n",
      "{'GALAXY': 0.9815921315034266, 'QSO': 0.9627348856956716, 'STAR': 0.9956715648773853}\n",
      "\n",
      "\n",
      "RandomForest\n",
      "{'GALAXY': 0.9884011612278909, 'QSO': 0.9701886405727295, 'STAR': 0.9961457137999914}\n",
      "\n",
      "\n",
      "LogisticRegression\n",
      "{'GALAXY': 0.9575432452428313, 'QSO': 0.9619241777628121, 'STAR': 0.9697195482170937}\n",
      "\n",
      "\n",
      "XGB\n",
      "{'GALAXY': 0.9887947652583963, 'QSO': 0.9755012480876077, 'STAR': 0.9968177568107441}\n",
      "\n",
      "\n",
      "BaggingCLF(DecisionTreeClassifier)\n",
      "{'GALAXY': 0.9891986093937603, 'QSO': 0.9722547562752087, 'STAR': 0.9966397849462366}\n",
      "\n",
      "\n",
      "AdaBoost(DecisionTreeClassifier)\n",
      "{'GALAXY': 0.8807226185996143, 'QSO': 0.7381925788198435, 'STAR': 0.9230431063793617}\n",
      "\n",
      "\n",
      "SGDClassifier\n",
      "{'GALAXY': 0.9704099369977548, 'QSO': 0.9385326003411196, 'STAR': 0.9853345871052744}\n",
      "\n",
      "\n",
      "MLP\n",
      "{'GALAXY': 0.9859806564419219, 'QSO': 0.9786745382807867, 'STAR': 0.9926075268817205}\n",
      "\n",
      "\n",
      "XTrees\n",
      "{'GALAXY': 0.9767920823509232, 'QSO': 0.9679010899721101, 'STAR': 0.9846625440945217}\n",
      "\n",
      "\n",
      "PassiveAggressiveClassifier\n",
      "{'GALAXY': 0.9424992511923322, 'QSO': 0.8564040436574457, 'STAR': 0.9715404394576905}\n",
      "\n",
      "\n",
      "RidgeClassifier\n",
      "{'GALAXY': 0.8971848671730399, 'QSO': 0.8882083171679758, 'STAR': 0.9054464703132304}\n",
      "\n",
      "\n",
      "NaiveBayes\n",
      "{'GALAXY': 0.9831819077827357, 'QSO': 0.9710725501248088, 'STAR': 0.9927071379999148}\n",
      "\n",
      "\n",
      "MultinomialNaiveBayes\n",
      "{'GALAXY': 0.8971848671730399, 'QSO': 0.8882083171679758, 'STAR': 0.9054464703132304}\n",
      "\n",
      "\n",
      "LDA\n",
      "{'GALAXY': 0.9064041615786145, 'QSO': 0.8817885351623979, 'STAR': 0.9197758617025799}\n",
      "\n",
      "\n",
      "QDA\n",
      "{'GALAXY': 0.9859908965467806, 'QSO': 0.9859050282192242, 'STAR': 0.9925490883590463}\n",
      "\n",
      "\n",
      "VotingClassifier\n",
      "{'GALAXY': 0.9892011694199749, 'QSO': 0.9722547562752087, 'STAR': 0.9964817353053678}\n",
      "\n",
      "\n"
     ]
    }
   ],
   "source": [
    "print_roc_auc_scores(result_sets, y_test)"
   ]
  },
  {
   "cell_type": "code",
   "execution_count": null,
   "metadata": {},
   "outputs": [],
   "source": []
  }
 ],
 "metadata": {
  "hide_input": false,
  "kernelspec": {
   "display_name": "Python3 (deep)",
   "language": "python",
   "name": "deep"
  },
  "language_info": {
   "codemirror_mode": {
    "name": "ipython",
    "version": 3
   },
   "file_extension": ".py",
   "mimetype": "text/x-python",
   "name": "python",
   "nbconvert_exporter": "python",
   "pygments_lexer": "ipython3",
   "version": "3.6.8"
  },
  "toc": {
   "base_numbering": 1,
   "nav_menu": {},
   "number_sections": true,
   "sideBar": true,
   "skip_h1_title": false,
   "title_cell": "Table of Contents",
   "title_sidebar": "Contents",
   "toc_cell": false,
   "toc_position": {},
   "toc_section_display": true,
   "toc_window_display": false
  }
 },
 "nbformat": 4,
 "nbformat_minor": 2
}
