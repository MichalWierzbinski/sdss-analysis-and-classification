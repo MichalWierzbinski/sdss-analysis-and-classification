{
 "cells": [
  {
   "cell_type": "markdown",
   "metadata": {},
   "source": [
    "# Genetic optimization of Ridge classifier for the SDSS data"
   ]
  },
  {
   "cell_type": "markdown",
   "metadata": {},
   "source": [
    "## Load data"
   ]
  },
  {
   "cell_type": "code",
   "execution_count": 2,
   "metadata": {
    "ExecuteTime": {
     "end_time": "2019-05-12T07:54:55.879511Z",
     "start_time": "2019-05-12T07:54:55.206941Z"
    }
   },
   "outputs": [
    {
     "name": "stdout",
     "output_type": "stream",
     "text": [
      "['objid' 'ra' 'dec' 'u' 'g' 'r' 'i' 'z' 'run' 'rerun' 'camcol' 'field'\n",
      " 'specobjid' 'class' 'redshift' 'plate' 'mjd' 'fiberid']\n"
     ]
    }
   ],
   "source": [
    "# To support both python 2 and python 3\n",
    "from __future__ import division, print_function, unicode_literals\n",
    "import warnings\n",
    "import helpers\n",
    "from helpers import DataSet\n",
    "import matplotlib as mpl\n",
    "import os\n",
    "import random\n",
    "\n",
    "# Common imports\n",
    "import pandas as pd\n",
    "import numpy as np\n",
    "import seaborn as sns\n",
    "\n",
    "# Imports for ML\n",
    "from sklearn.ensemble import RandomForestClassifier, VotingClassifier, BaggingClassifier, GradientBoostingClassifier, AdaBoostClassifier, ExtraTreesClassifier\n",
    "from sklearn.linear_model import LogisticRegression, SGDClassifier, PassiveAggressiveClassifier, RidgeClassifier\n",
    "from sklearn.svm import SVC, LinearSVC, NuSVC\n",
    "from sklearn.neighbors import KNeighborsClassifier\n",
    "from xgboost import XGBClassifier\n",
    "from sklearn.preprocessing import RobustScaler, StandardScaler, MaxAbsScaler\n",
    "from sklearn.model_selection import train_test_split, StratifiedKFold\n",
    "from sklearn.tree import DecisionTreeClassifier\n",
    "from sklearn.neural_network import MLPClassifier\n",
    "from sklearn.naive_bayes import GaussianNB, MultinomialNB\n",
    "from sklearn.discriminant_analysis import LinearDiscriminantAnalysis, QuadraticDiscriminantAnalysis\n",
    "from sklearn.decomposition import PCA\n",
    "\n",
    "# to make this notebook's output stable across runs\n",
    "np.random.seed(42)\n",
    "\n",
    "# To plot pretty figures\n",
    "%matplotlib inline\n",
    "mpl.rc('axes', labelsize=14)\n",
    "mpl.rc('xtick', labelsize=12)\n",
    "mpl.rc('ytick', labelsize=12)\n",
    "sns.set_style('whitegrid')\n",
    "\n",
    "# Where to save the figures\n",
    "PROJECT_ROOT_DIR = \".\"\n",
    "CHAPTER_ID = \"results\"\n",
    "IMAGES_PATH = os.path.join(PROJECT_ROOT_DIR, \"images\", CHAPTER_ID)\n",
    "\n",
    "# Helper functioins and structures\n",
    "# Ignore useless warnings (see SciPy issue #5998)\n",
    "warnings.filterwarnings(action=\"ignore\", message=\"^internal gelsd\")\n",
    "\n",
    "DATA_PATH = \"Skyserver_SQL2_27_2018 6_51_39 PM.csv\"\n",
    "RESULTS_FOLDER = \"results\"\n",
    "\n",
    "# We load the data. Those that have nothing to do with the features of the objects are ignored.\n",
    "sdss_data = pd.read_csv(DATA_PATH)\n",
    "\n",
    "# We have a general look at the features\n",
    "sdss_data.head(3)\n",
    "\n",
    "print(sdss_data.columns.values)\n",
    "sdss_data.drop(['objid', 'run', 'rerun', 'camcol', 'field',\n",
    "                'specobjid', 'fiberid', 'mjd', 'plate'], axis=1, inplace=True)\n",
    "sdss_data.head(1)\n",
    "\n",
    "sdss_df_fe = sdss_data\n",
    "\n",
    "# Principal Component Analysis\n",
    "pca = PCA(n_components=3)\n",
    "ugriz = pca.fit_transform(sdss_df_fe[['u', 'g', 'r', 'i', 'z']])\n",
    "\n",
    "# update dataframe \n",
    "sdss_df_fe = pd.concat((sdss_df_fe, pd.DataFrame(ugriz)), axis=1)\n",
    "sdss_df_fe.rename({0: 'PCA_1', 1: 'PCA_2', 2: 'PCA_3'}, axis=1, inplace = True)\n",
    "sdss_df_fe.drop(['u', 'g', 'r', 'i', 'z'], axis=1, inplace=True)\n",
    "sdss_df_fe.head()\n",
    "\n",
    "X = sdss_data.drop(['class'], axis=1)\n",
    "y = sdss_data['class']\n",
    "\n",
    "class_names = [\"GALAXY\", \"QSO\", \"STAR\"]\n",
    "\n",
    "std_scaler = StandardScaler()\n",
    "X_train, X_test, y_train, y_test = train_test_split(X, y, random_state=42)\n",
    "\n",
    "X_test = std_scaler.fit_transform(X_test.astype(np.float64))\n",
    "X_train = std_scaler.fit_transform(X_train.astype(np.float64))"
   ]
  },
  {
   "cell_type": "markdown",
   "metadata": {},
   "source": [
    "## Optimize"
   ]
  },
  {
   "cell_type": "code",
   "execution_count": 8,
   "metadata": {
    "ExecuteTime": {
     "end_time": "2019-05-11T19:38:25.777169Z",
     "start_time": "2019-05-11T19:37:19.713977Z"
    }
   },
   "outputs": [
    {
     "name": "stdout",
     "output_type": "stream",
     "text": [
      "Types [2, 1, 1, 1, 1, 1, 1, 1] and maxint [25, 1, 1, 1, 0, 1, 6, 0] detected\n"
     ]
    },
    {
     "name": "stderr",
     "output_type": "stream",
     "text": [
      "/home/ljosfer/anaconda3/envs/deep/lib/python3.6/site-packages/deap/creator.py:141: RuntimeWarning: A class named 'FitnessMax' has already been created and it will be overwritten. Consider deleting previous creation of that class or rename it.\n",
      "  RuntimeWarning)\n",
      "/home/ljosfer/anaconda3/envs/deep/lib/python3.6/site-packages/deap/creator.py:141: RuntimeWarning: A class named 'Individual' has already been created and it will be overwritten. Consider deleting previous creation of that class or rename it.\n",
      "  RuntimeWarning)\n"
     ]
    },
    {
     "name": "stdout",
     "output_type": "stream",
     "text": [
      "--- Evolve in 2912 possible combinations ---\n",
      "gen\tnevals\tavg     \tmin   \tmax  \tstd     \n",
      "0  \t50    \t0.823204\t0.4998\t0.912\t0.112418\n",
      "1  \t36    \t0.877924\t0.6729\t0.912\t0.0558317\n",
      "2  \t24    \t0.895212\t0.6786\t0.912\t0.0442282\n",
      "3  \t21    \t0.911222\t0.9069\t0.912\t0.00138062\n",
      "4  \t29    \t0.911108\t0.8941\t0.912\t0.00331662\n",
      "5  \t28    \t0.911938\t0.9089\t0.912\t0.000434  \n",
      "6  \t30    \t0.911776\t0.9008\t0.912\t0.001568  \n",
      "7  \t32    \t0.910574\t0.8519\t0.912\t0.00852734\n",
      "8  \t34    \t0.912   \t0.912 \t0.912\t0         \n",
      "9  \t29    \t0.907818\t0.7212\t0.912\t0.026723  \n",
      "10 \t28    \t0.911934\t0.9087\t0.912\t0.000462  \n",
      "11 \t28    \t0.909514\t0.7989\t0.912\t0.0158796 \n",
      "12 \t24    \t0.912   \t0.912 \t0.912\t0         \n",
      "13 \t36    \t0.91021 \t0.8259\t0.912\t0.0120537 \n",
      "14 \t34    \t0.911802\t0.9061\t0.912\t0.000946254\n",
      "15 \t30    \t0.911332\t0.8796\t0.912\t0.0045353  \n",
      "Best individual is: {'alpha': 0.11006941712522103, 'fit_intercept': False, 'normalize': False, 'copy_X': True, 'max_iter': 3000, 'class_weight': None, 'solver': 'cholesky', 'random_state': 42}\n",
      "with fitness: 0.912\n"
     ]
    }
   ],
   "source": [
    "from evolutionary_search import EvolutionaryAlgorithmSearchCV\n",
    "\n",
    "alpha = np.logspace(-3,4,base=10,num=25).tolist()\n",
    "alpha.append(1)\n",
    "\n",
    "paramgrid = {\"alpha\": alpha,\n",
    "             \"fit_intercept\":[True,False],\n",
    "             \"normalize\":[True,False],\n",
    "             \"copy_X\":[True,False],\n",
    "             \"max_iter\":[3000],\n",
    "             \"class_weight\":[None, \"balanced\"],\n",
    "             \"solver\":[\"auto\",\"svd\",\"cholesky\",\"lsqr\",\"sparse_cg\",\"sag\",\"saga\"],\n",
    "             \"random_state\":[42]\n",
    "             }\n",
    "\n",
    "random.seed(1)\n",
    "\n",
    "cv = EvolutionaryAlgorithmSearchCV(estimator=RidgeClassifier(),\n",
    "                                   params=paramgrid,\n",
    "                                   scoring=\"accuracy\",\n",
    "                                   cv=StratifiedKFold(n_splits=5),\n",
    "                                   verbose=1,\n",
    "                                   population_size=50,\n",
    "                                   gene_mutation_prob=0.10,\n",
    "                                   gene_crossover_prob=0.5,\n",
    "                                   tournament_size=3,\n",
    "                                   generations_number=15,\n",
    "                                   n_jobs=8,\n",
    "                                   error_score=0.0)\n",
    "\n",
    "with warnings.catch_warnings():\n",
    "    warnings.simplefilter(\"ignore\")\n",
    "    result = cv.fit(X, y)"
   ]
  },
  {
   "cell_type": "code",
   "execution_count": 3,
   "metadata": {
    "ExecuteTime": {
     "end_time": "2019-05-12T07:54:58.362045Z",
     "start_time": "2019-05-12T07:54:58.022042Z"
    },
    "scrolled": true
   },
   "outputs": [
    {
     "name": "stdout",
     "output_type": "stream",
     "text": [
      "==========================================================\n",
      "==========================================================\n",
      "Data Set Type:  Standard Scaled\n",
      "QuadraticDiscriminantAnalysis\n",
      "[0.9260493  0.91538974 0.938      0.9179453  0.91861241]\n",
      "Accuracy: 0.923 (+/- 0.016)\n",
      "QuadraticDiscriminantAnalysis :\n",
      " [[1055   15  176]\n",
      " [  19  222    1]\n",
      " [  43    2  967]]\n",
      "              precision    recall  f1-score   support\n",
      "\n",
      "      GALAXY       0.94      0.85      0.89      1246\n",
      "         QSO       0.93      0.92      0.92       242\n",
      "        STAR       0.85      0.96      0.90      1012\n",
      "\n",
      "   micro avg       0.90      0.90      0.90      2500\n",
      "   macro avg       0.91      0.91      0.90      2500\n",
      "weighted avg       0.90      0.90      0.90      2500\n",
      "\n",
      "\n",
      "\n",
      "By Acc:\n",
      "QuadraticDiscriminantAnalysis 0.9231993491552662\n",
      "\n",
      "\n",
      "By Precision(avg=micro):\n",
      "QuadraticDiscriminantAnalysis 0.8976\n",
      "\n",
      "\n",
      "By Recall(avg=micro):\n",
      "QuadraticDiscriminantAnalysis 0.8976\n",
      "\n",
      "\n",
      "By F1(avg=micro):\n",
      "QuadraticDiscriminantAnalysis 0.8976\n",
      "\n",
      "\n",
      "By Precision(avg=macro):\n",
      "QuadraticDiscriminantAnalysis 0.9062147313360964\n",
      "\n",
      "\n",
      "By Recall(avg=macro):\n",
      "QuadraticDiscriminantAnalysis 0.9065328130145823\n",
      "\n",
      "\n",
      "By F1(avg=macro):\n",
      "QuadraticDiscriminantAnalysis 0.9043470585396708\n",
      "\n",
      "\n",
      "QuadraticDiscriminantAnalysis\n",
      "{'QSO': 0.9549132926820342, 'STAR': 0.9182909919673595, 'GALAXY': 0.8986338420105423}\n",
      "\n",
      "\n"
     ]
    },
    {
     "data": {
      "image/png": "[encoded data removed]",
      "text/plain": [
       "<Figure size 720x504 with 2 Axes>"
      ]
     },
     "metadata": {
      "needs_background": "light"
     },
     "output_type": "display_data"
    }
   ],
   "source": [
    "best_indiv = RidgeClassifier(alpha=0.11006941712522103,\n",
    "                             fit_intercept=False,\n",
    "                             normalize=False,\n",
    "                             copy_X=True, \n",
    "                             max_iter=3000,\n",
    "                             class_weight=None,\n",
    "                             solver='cholesky',\n",
    "                             random_state=42)\n",
    "\n",
    "clf_names = [\"QuadraticDiscriminantAnalysis\"]\n",
    "class_names = [\"GALAXY\", \"QSO\", \"STAR\"]\n",
    "\n",
    "clfs=[best_indiv]\n",
    "data_sets = []\n",
    "std_scaled_set = DataSet(\"Standard Scaled\", X_train, y_train, X_test, y_test)\n",
    "data_sets.append(std_scaled_set)\n",
    "\n",
    "with warnings.catch_warnings():\n",
    "    warnings.simplefilter(\"ignore\")\n",
    "    helpers.learning_loop_for_sets(clfs, clf_names, class_names, data_sets)"
   ]
  },
  {
   "cell_type": "code",
   "execution_count": null,
   "metadata": {},
   "outputs": [],
   "source": []
  }
 ],
 "metadata": {
  "hide_input": false,
  "kernelspec": {
   "display_name": "Python3 (deep)",
   "language": "python",
   "name": "deep"
  },
  "language_info": {
   "codemirror_mode": {
    "name": "ipython",
    "version": 3
   },
   "file_extension": ".py",
   "mimetype": "text/x-python",
   "name": "python",
   "nbconvert_exporter": "python",
   "pygments_lexer": "ipython3",
   "version": "3.6.8"
  },
  "toc": {
   "base_numbering": 1,
   "nav_menu": {},
   "number_sections": true,
   "sideBar": true,
   "skip_h1_title": false,
   "title_cell": "Table of Contents",
   "title_sidebar": "Contents",
   "toc_cell": false,
   "toc_position": {},
   "toc_section_display": true,
   "toc_window_display": false
  }
 },
 "nbformat": 4,
 "nbformat_minor": 2
}
