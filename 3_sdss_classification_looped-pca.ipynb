{
 "cells": [
  {
   "cell_type": "markdown",
   "metadata": {
    "pycharm": {}
   },
   "source": [
    "# Data prep"
   ]
  },
  {
   "cell_type": "markdown",
   "metadata": {
    "pycharm": {}
   },
   "source": [
    "## Import packages"
   ]
  },
  {
   "cell_type": "code",
   "execution_count": 1,
   "metadata": {
    "ExecuteTime": {
     "end_time": "2020-06-05T20:28:53.555561Z",
     "start_time": "2020-06-05T20:28:52.988939Z"
    },
    "code_folding": [],
    "pycharm": {}
   },
   "outputs": [],
   "source": [
    "# To support both python 2 and python 3\n",
    "from __future__ import division, print_function, unicode_literals\n",
    "import warnings\n",
    "import helpers\n",
    "from helpers import DataSet\n",
    "import matplotlib as mpl\n",
    "import os\n",
    "\n",
    "# Common imports\n",
    "import pandas as pd\n",
    "import numpy as np\n",
    "import seaborn as sns\n",
    "\n",
    "# Imports for ML\n",
    "from sklearn.ensemble import RandomForestClassifier, VotingClassifier, BaggingClassifier, GradientBoostingClassifier, AdaBoostClassifier, ExtraTreesClassifier\n",
    "from sklearn.linear_model import LogisticRegression, SGDClassifier, PassiveAggressiveClassifier, RidgeClassifier\n",
    "from sklearn.svm import SVC, LinearSVC, NuSVC\n",
    "from sklearn.neighbors import KNeighborsClassifier\n",
    "from xgboost import XGBClassifier\n",
    "from sklearn.preprocessing import RobustScaler, StandardScaler, MaxAbsScaler\n",
    "from sklearn.model_selection import train_test_split\n",
    "from sklearn.tree import DecisionTreeClassifier\n",
    "from sklearn.neural_network import MLPClassifier\n",
    "from sklearn.naive_bayes import GaussianNB, MultinomialNB\n",
    "from sklearn.discriminant_analysis import LinearDiscriminantAnalysis, QuadraticDiscriminantAnalysis\n",
    "from sklearn.decomposition import PCA\n",
    "\n",
    "# to make this notebook's output stable across runs\n",
    "np.random.seed(42)\n",
    "\n",
    "# To plot pretty figures\n",
    "%matplotlib inline\n",
    "mpl.rc('axes', labelsize=14)\n",
    "mpl.rc('xtick', labelsize=12)\n",
    "mpl.rc('ytick', labelsize=12)\n",
    "sns.set_style('whitegrid')\n",
    "\n",
    "# Where to save the figures\n",
    "PROJECT_ROOT_DIR = \".\"\n",
    "CHAPTER_ID = \"results\"\n",
    "IMAGES_PATH = os.path.join(PROJECT_ROOT_DIR, \"images\", CHAPTER_ID)\n",
    "\n",
    "# Helper functioins and structures\n",
    "# Ignore useless warnings (see SciPy issue #5998)\n",
    "warnings.filterwarnings(action=\"ignore\", message=\"^internal gelsd\")"
   ]
  },
  {
   "cell_type": "markdown",
   "metadata": {
    "pycharm": {}
   },
   "source": [
    "## Load data"
   ]
  },
  {
   "cell_type": "code",
   "execution_count": 2,
   "metadata": {
    "ExecuteTime": {
     "end_time": "2020-06-05T20:28:53.585743Z",
     "start_time": "2020-06-05T20:28:53.556631Z"
    },
    "pycharm": {}
   },
   "outputs": [
    {
     "data": {
      "text/html": [
       "<div>\n",
       "<style scoped>\n",
       "    .dataframe tbody tr th:only-of-type {\n",
       "        vertical-align: middle;\n",
       "    }\n",
       "\n",
       "    .dataframe tbody tr th {\n",
       "        vertical-align: top;\n",
       "    }\n",
       "\n",
       "    .dataframe thead th {\n",
       "        text-align: right;\n",
       "    }\n",
       "</style>\n",
       "<table border=\"1\" class=\"dataframe\">\n",
       "  <thead>\n",
       "    <tr style=\"text-align: right;\">\n",
       "      <th></th>\n",
       "      <th>objid</th>\n",
       "      <th>ra</th>\n",
       "      <th>dec</th>\n",
       "      <th>u</th>\n",
       "      <th>g</th>\n",
       "      <th>r</th>\n",
       "      <th>i</th>\n",
       "      <th>z</th>\n",
       "      <th>run</th>\n",
       "      <th>rerun</th>\n",
       "      <th>camcol</th>\n",
       "      <th>field</th>\n",
       "      <th>specobjid</th>\n",
       "      <th>class</th>\n",
       "      <th>redshift</th>\n",
       "      <th>plate</th>\n",
       "      <th>mjd</th>\n",
       "      <th>fiberid</th>\n",
       "    </tr>\n",
       "  </thead>\n",
       "  <tbody>\n",
       "    <tr>\n",
       "      <th>0</th>\n",
       "      <td>1.237650e+18</td>\n",
       "      <td>183.531326</td>\n",
       "      <td>0.089693</td>\n",
       "      <td>19.47406</td>\n",
       "      <td>17.04240</td>\n",
       "      <td>15.94699</td>\n",
       "      <td>15.50342</td>\n",
       "      <td>15.22531</td>\n",
       "      <td>752</td>\n",
       "      <td>301</td>\n",
       "      <td>4</td>\n",
       "      <td>267</td>\n",
       "      <td>3.722360e+18</td>\n",
       "      <td>STAR</td>\n",
       "      <td>-0.000009</td>\n",
       "      <td>3306</td>\n",
       "      <td>54922</td>\n",
       "      <td>491</td>\n",
       "    </tr>\n",
       "    <tr>\n",
       "      <th>1</th>\n",
       "      <td>1.237650e+18</td>\n",
       "      <td>183.598371</td>\n",
       "      <td>0.135285</td>\n",
       "      <td>18.66280</td>\n",
       "      <td>17.21449</td>\n",
       "      <td>16.67637</td>\n",
       "      <td>16.48922</td>\n",
       "      <td>16.39150</td>\n",
       "      <td>752</td>\n",
       "      <td>301</td>\n",
       "      <td>4</td>\n",
       "      <td>267</td>\n",
       "      <td>3.638140e+17</td>\n",
       "      <td>STAR</td>\n",
       "      <td>-0.000055</td>\n",
       "      <td>323</td>\n",
       "      <td>51615</td>\n",
       "      <td>541</td>\n",
       "    </tr>\n",
       "    <tr>\n",
       "      <th>2</th>\n",
       "      <td>1.237650e+18</td>\n",
       "      <td>183.680207</td>\n",
       "      <td>0.126185</td>\n",
       "      <td>19.38298</td>\n",
       "      <td>18.19169</td>\n",
       "      <td>17.47428</td>\n",
       "      <td>17.08732</td>\n",
       "      <td>16.80125</td>\n",
       "      <td>752</td>\n",
       "      <td>301</td>\n",
       "      <td>4</td>\n",
       "      <td>268</td>\n",
       "      <td>3.232740e+17</td>\n",
       "      <td>GALAXY</td>\n",
       "      <td>0.123111</td>\n",
       "      <td>287</td>\n",
       "      <td>52023</td>\n",
       "      <td>513</td>\n",
       "    </tr>\n",
       "  </tbody>\n",
       "</table>\n",
       "</div>"
      ],
      "text/plain": [
       "          objid          ra       dec         u         g         r         i  \\\n",
       "0  1.237650e+18  183.531326  0.089693  19.47406  17.04240  15.94699  15.50342   \n",
       "1  1.237650e+18  183.598371  0.135285  18.66280  17.21449  16.67637  16.48922   \n",
       "2  1.237650e+18  183.680207  0.126185  19.38298  18.19169  17.47428  17.08732   \n",
       "\n",
       "          z  run  rerun  camcol  field     specobjid   class  redshift  plate  \\\n",
       "0  15.22531  752    301       4    267  3.722360e+18    STAR -0.000009   3306   \n",
       "1  16.39150  752    301       4    267  3.638140e+17    STAR -0.000055    323   \n",
       "2  16.80125  752    301       4    268  3.232740e+17  GALAXY  0.123111    287   \n",
       "\n",
       "     mjd  fiberid  \n",
       "0  54922      491  \n",
       "1  51615      541  \n",
       "2  52023      513  "
      ]
     },
     "execution_count": 2,
     "metadata": {},
     "output_type": "execute_result"
    }
   ],
   "source": [
    "DATA_PATH = \"Skyserver_SQL2_27_2018 6_51_39 PM.csv\"\n",
    "RESULTS_FOLDER = \"results\"\n",
    "\n",
    "# We load the data. Those that have nothing to do with the features of the objects are ignored.\n",
    "sdss_data = pd.read_csv(DATA_PATH)\n",
    "\n",
    "# We have a general look at the features\n",
    "sdss_data.head(3)"
   ]
  },
  {
   "cell_type": "markdown",
   "metadata": {
    "pycharm": {}
   },
   "source": [
    "## Drop not important features"
   ]
  },
  {
   "cell_type": "code",
   "execution_count": 3,
   "metadata": {
    "ExecuteTime": {
     "end_time": "2020-06-05T20:28:53.597603Z",
     "start_time": "2020-06-05T20:28:53.586779Z"
    },
    "pycharm": {}
   },
   "outputs": [
    {
     "name": "stdout",
     "output_type": "stream",
     "text": [
      "['objid' 'ra' 'dec' 'u' 'g' 'r' 'i' 'z' 'run' 'rerun' 'camcol' 'field'\n",
      " 'specobjid' 'class' 'redshift' 'plate' 'mjd' 'fiberid']\n"
     ]
    },
    {
     "data": {
      "text/html": [
       "<div>\n",
       "<style scoped>\n",
       "    .dataframe tbody tr th:only-of-type {\n",
       "        vertical-align: middle;\n",
       "    }\n",
       "\n",
       "    .dataframe tbody tr th {\n",
       "        vertical-align: top;\n",
       "    }\n",
       "\n",
       "    .dataframe thead th {\n",
       "        text-align: right;\n",
       "    }\n",
       "</style>\n",
       "<table border=\"1\" class=\"dataframe\">\n",
       "  <thead>\n",
       "    <tr style=\"text-align: right;\">\n",
       "      <th></th>\n",
       "      <th>ra</th>\n",
       "      <th>dec</th>\n",
       "      <th>u</th>\n",
       "      <th>g</th>\n",
       "      <th>r</th>\n",
       "      <th>i</th>\n",
       "      <th>z</th>\n",
       "      <th>class</th>\n",
       "      <th>redshift</th>\n",
       "    </tr>\n",
       "  </thead>\n",
       "  <tbody>\n",
       "    <tr>\n",
       "      <th>0</th>\n",
       "      <td>183.531326</td>\n",
       "      <td>0.089693</td>\n",
       "      <td>19.47406</td>\n",
       "      <td>17.0424</td>\n",
       "      <td>15.94699</td>\n",
       "      <td>15.50342</td>\n",
       "      <td>15.22531</td>\n",
       "      <td>STAR</td>\n",
       "      <td>-0.000009</td>\n",
       "    </tr>\n",
       "  </tbody>\n",
       "</table>\n",
       "</div>"
      ],
      "text/plain": [
       "           ra       dec         u        g         r         i         z  \\\n",
       "0  183.531326  0.089693  19.47406  17.0424  15.94699  15.50342  15.22531   \n",
       "\n",
       "  class  redshift  \n",
       "0  STAR -0.000009  "
      ]
     },
     "execution_count": 3,
     "metadata": {},
     "output_type": "execute_result"
    }
   ],
   "source": [
    "print(sdss_data.columns.values)\n",
    "sdss_data.drop(['objid', 'run', 'rerun', 'camcol', 'field',\n",
    "                'specobjid', 'fiberid', 'mjd', 'plate'], axis=1, inplace=True)\n",
    "sdss_data.head(1)"
   ]
  },
  {
   "cell_type": "markdown",
   "metadata": {
    "pycharm": {}
   },
   "source": [
    "## Feature engineering "
   ]
  },
  {
   "cell_type": "code",
   "execution_count": 4,
   "metadata": {
    "ExecuteTime": {
     "end_time": "2020-06-05T20:28:53.628732Z",
     "start_time": "2020-06-05T20:28:53.598661Z"
    },
    "pycharm": {}
   },
   "outputs": [
    {
     "data": {
      "text/html": [
       "<div>\n",
       "<style scoped>\n",
       "    .dataframe tbody tr th:only-of-type {\n",
       "        vertical-align: middle;\n",
       "    }\n",
       "\n",
       "    .dataframe tbody tr th {\n",
       "        vertical-align: top;\n",
       "    }\n",
       "\n",
       "    .dataframe thead th {\n",
       "        text-align: right;\n",
       "    }\n",
       "</style>\n",
       "<table border=\"1\" class=\"dataframe\">\n",
       "  <thead>\n",
       "    <tr style=\"text-align: right;\">\n",
       "      <th></th>\n",
       "      <th>ra</th>\n",
       "      <th>dec</th>\n",
       "      <th>class</th>\n",
       "      <th>redshift</th>\n",
       "      <th>PCA_1</th>\n",
       "      <th>PCA_2</th>\n",
       "      <th>PCA_3</th>\n",
       "    </tr>\n",
       "  </thead>\n",
       "  <tbody>\n",
       "    <tr>\n",
       "      <th>0</th>\n",
       "      <td>183.531326</td>\n",
       "      <td>0.089693</td>\n",
       "      <td>STAR</td>\n",
       "      <td>-0.000009</td>\n",
       "      <td>-1.507202</td>\n",
       "      <td>-1.377293</td>\n",
       "      <td>-0.265119</td>\n",
       "    </tr>\n",
       "    <tr>\n",
       "      <th>1</th>\n",
       "      <td>183.598371</td>\n",
       "      <td>0.135285</td>\n",
       "      <td>STAR</td>\n",
       "      <td>-0.000055</td>\n",
       "      <td>-0.195758</td>\n",
       "      <td>-0.028410</td>\n",
       "      <td>-0.155695</td>\n",
       "    </tr>\n",
       "    <tr>\n",
       "      <th>2</th>\n",
       "      <td>183.680207</td>\n",
       "      <td>0.126185</td>\n",
       "      <td>GALAXY</td>\n",
       "      <td>0.123111</td>\n",
       "      <td>1.297604</td>\n",
       "      <td>-0.590023</td>\n",
       "      <td>0.140338</td>\n",
       "    </tr>\n",
       "    <tr>\n",
       "      <th>3</th>\n",
       "      <td>183.870529</td>\n",
       "      <td>0.049911</td>\n",
       "      <td>STAR</td>\n",
       "      <td>-0.000111</td>\n",
       "      <td>-1.446117</td>\n",
       "      <td>0.566685</td>\n",
       "      <td>-0.009272</td>\n",
       "    </tr>\n",
       "    <tr>\n",
       "      <th>4</th>\n",
       "      <td>183.883288</td>\n",
       "      <td>0.102557</td>\n",
       "      <td>STAR</td>\n",
       "      <td>0.000590</td>\n",
       "      <td>-0.849271</td>\n",
       "      <td>1.287505</td>\n",
       "      <td>-0.397689</td>\n",
       "    </tr>\n",
       "  </tbody>\n",
       "</table>\n",
       "</div>"
      ],
      "text/plain": [
       "           ra       dec   class  redshift     PCA_1     PCA_2     PCA_3\n",
       "0  183.531326  0.089693    STAR -0.000009 -1.507202 -1.377293 -0.265119\n",
       "1  183.598371  0.135285    STAR -0.000055 -0.195758 -0.028410 -0.155695\n",
       "2  183.680207  0.126185  GALAXY  0.123111  1.297604 -0.590023  0.140338\n",
       "3  183.870529  0.049911    STAR -0.000111 -1.446117  0.566685 -0.009272\n",
       "4  183.883288  0.102557    STAR  0.000590 -0.849271  1.287505 -0.397689"
      ]
     },
     "execution_count": 4,
     "metadata": {},
     "output_type": "execute_result"
    }
   ],
   "source": [
    "sdss_df_fe = sdss_data\n",
    "\n",
    "# Principal Component Analysis\n",
    "pca = PCA(n_components=3)\n",
    "ugriz = pca.fit_transform(sdss_df_fe[['u', 'g', 'r', 'i', 'z']])\n",
    "\n",
    "# update dataframe \n",
    "sdss_df_fe = pd.concat((sdss_df_fe, pd.DataFrame(ugriz)), axis=1)\n",
    "sdss_df_fe.rename({0: 'PCA_1', 1: 'PCA_2', 2: 'PCA_3'}, axis=1, inplace = True)\n",
    "sdss_df_fe.drop(['u', 'g', 'r', 'i', 'z'], axis=1, inplace=True)\n",
    "sdss_df_fe.head()"
   ]
  },
  {
   "cell_type": "markdown",
   "metadata": {
    "pycharm": {}
   },
   "source": [
    "## Split into train/test sets"
   ]
  },
  {
   "cell_type": "code",
   "execution_count": 5,
   "metadata": {
    "ExecuteTime": {
     "end_time": "2020-06-05T20:28:53.636324Z",
     "start_time": "2020-06-05T20:28:53.629787Z"
    },
    "pycharm": {}
   },
   "outputs": [],
   "source": [
    "X = sdss_data.drop(['class'], axis=1)\n",
    "y = sdss_data['class']\n",
    "\n",
    "class_names = [\"GALAXY\", \"QSO\", \"STAR\"]\n",
    "\n",
    "X_train, X_test, y_train, y_test = train_test_split(X, y, random_state=42)"
   ]
  },
  {
   "cell_type": "markdown",
   "metadata": {
    "pycharm": {}
   },
   "source": [
    "## Scale the data"
   ]
  },
  {
   "cell_type": "code",
   "execution_count": 6,
   "metadata": {
    "ExecuteTime": {
     "end_time": "2020-06-05T20:28:53.671861Z",
     "start_time": "2020-06-05T20:28:53.638208Z"
    },
    "pycharm": {}
   },
   "outputs": [],
   "source": [
    "robust_scaler = RobustScaler()\n",
    "std_scaler = StandardScaler()\n",
    "maxabs_scaler = MaxAbsScaler()\n",
    "\n",
    "X_train_std_scaled = std_scaler.fit_transform(X_train.astype(np.float64))\n",
    "X_test_std_scaled = std_scaler.fit_transform(X_test.astype(np.float64))\n",
    "\n",
    "X_train_rob_scaled = robust_scaler.fit_transform(X_train.astype(np.float64))\n",
    "X_test_rob_scaled = robust_scaler.fit_transform(X_test.astype(np.float64))\n",
    "\n",
    "X_train_maxabs_scaled = maxabs_scaler.fit_transform(X_train.astype(np.float64))\n",
    "X_test_maxabs_scaled = maxabs_scaler.fit_transform(X_test.astype(np.float64))\n",
    "\n",
    "data_sets = []\n",
    "\n",
    "std_scaled_set = DataSet(\"Standard Scaled\", X_train_std_scaled, y_train, X_test_std_scaled, y_test)\n",
    "robust_scaled_set = DataSet(\"Robust Scaled\", X_train_rob_scaled, y_train, X_test_rob_scaled, y_test)\n",
    "max_abs_set = DataSet(\"MaxABS Scaled\", X_train_maxabs_scaled, y_train, X_test_maxabs_scaled, y_test)\n",
    "\n",
    "data_sets.append(std_scaled_set)\n",
    "data_sets.append(robust_scaled_set)\n",
    "data_sets.append(max_abs_set)"
   ]
  },
  {
   "cell_type": "markdown",
   "metadata": {
    "ExecuteTime": {
     "end_time": "2019-04-06T17:22:45.716743Z",
     "start_time": "2019-04-06T17:22:45.712665Z"
    },
    "pycharm": {}
   },
   "source": [
    "# Classification"
   ]
  },
  {
   "cell_type": "markdown",
   "metadata": {
    "ExecuteTime": {
     "end_time": "2019-04-06T17:23:46.005932Z",
     "start_time": "2019-04-06T17:23:46.001397Z"
    },
    "pycharm": {}
   },
   "source": [
    "## Prepare result sets"
   ]
  },
  {
   "cell_type": "code",
   "execution_count": 7,
   "metadata": {
    "ExecuteTime": {
     "end_time": "2020-06-05T20:28:53.687156Z",
     "start_time": "2020-06-05T20:28:53.673038Z"
    },
    "pycharm": {}
   },
   "outputs": [],
   "source": [
    "result_sets = []\n",
    "\n",
    "# Classfiers\n",
    "knn_clf = KNeighborsClassifier()\n",
    "svm_clf = SVC(random_state=42)\n",
    "lsvm_clf = LinearSVC(loss=\"hinge\", random_state=42)\n",
    "nusvm_clf = NuSVC(nu=0.05)\n",
    "rbf_svm_clf = SVC(kernel=\"rbf\")\n",
    "poly_svm_clf = SVC(kernel=\"poly\")\n",
    "tree_clf = DecisionTreeClassifier(random_state=42)\n",
    "rnd_clf = RandomForestClassifier(random_state=42)\n",
    "log_clf = LogisticRegression(random_state=42, multi_class='auto')\n",
    "gb_clf = GradientBoostingClassifier(random_state=42)\n",
    "# Xgboost parameters\n",
    "xgb_params = {'max_depth': 4,\n",
    "              'silent': 1,\n",
    "              # ENABLE GPU COMPUTING BY UNCOMMENTING BELOW\n",
    "              # 'gpu_id': 0,\n",
    "              # 'tree_method': 'gpu_hist'\n",
    "              }\n",
    "xgb_clf = XGBClassifier(**xgb_params, seed=42)\n",
    "bag_df_clf = BaggingClassifier(\n",
    "    DecisionTreeClassifier(random_state=42),\n",
    "    n_jobs=-1, random_state=42)\n",
    "ada_clf = AdaBoostClassifier(\n",
    "    DecisionTreeClassifier(), random_state=42)\n",
    "sgd_clf = SGDClassifier(max_iter=500, tol=-np.infty, random_state=42)\n",
    "mlp_clf = MLPClassifier(random_state=42, max_iter=1000)\n",
    "xtree_clf = ExtraTreesClassifier(random_state=42)\n",
    "pa_clf = PassiveAggressiveClassifier(random_state=42)\n",
    "r_clf = RidgeClassifier()\n",
    "nb_clf = GaussianNB()\n",
    "mnb_clf = MultinomialNB()\n",
    "lda_clf = LinearDiscriminantAnalysis()\n",
    "qda_clf = QuadraticDiscriminantAnalysis()\n",
    "v_clf = VotingClassifier(estimators=[\n",
    "    (\"NuSVC\", nusvm_clf),\n",
    "    (\"RbfSVC\", rbf_svm_clf),\n",
    "    (\"PolySVC\", poly_svm_clf),\n",
    "    (\"Tree\", tree_clf),\n",
    "    (\"RF\", rnd_clf),\n",
    "    (\"XGB\", xgb_clf),\n",
    "    (\"Bagging\", bag_df_clf),\n",
    "    (\"MLP\", mlp_clf),\n",
    "    (\"XTrees\", xtree_clf),\n",
    "    (\"NaiveBayes\", nb_clf),\n",
    "    ('QuadraticDiscriminantAnalysis', qda_clf)\n",
    "], voting=\"hard\", n_jobs=-1)\n",
    "\n",
    "# CLF names\n",
    "clf_names = [\n",
    "#     \"KNN\",\n",
    "#     \"SVC\",\n",
    "#     \"LinearSVM\",\n",
    "#     \"NuSVC\",\n",
    "#     \"RbfKernelSVM\",\n",
    "#     \"PolyKernelSVM\",\n",
    "#     \"DecisionTreeClassifier\",\n",
    "#     \"RandomForestClassifier\",\n",
    "#     \"LogisticRegression\",\n",
    "#     \"GradientBoostingClassifier\",\n",
    "#     \"XGBClassifier\",\n",
    "#     \"BaggingClassifier\",\n",
    "#     \"AdaBoostClassifier\",\n",
    "#     \"SGDClassifier\",\n",
    "#     \"MLPClassifier\",\n",
    "#     \"ExtraTreesClassifier\",\n",
    "#     \"PassiveAggressiveClassifier\",\n",
    "#     \"RidgeClassifier\",\n",
    "#     \"GaussianNB\",\n",
    "#     \"MultinomialNB\",\n",
    "#     \"LinearDiscriminantAnalysis\",\n",
    "#     \"QuadraticDiscriminantAnalysis\",\n",
    "    \"VotingClassifier\"\n",
    "]\n",
    "\n",
    "clfs = [\n",
    "#     knn_clf,\n",
    "#     svm_clf,\n",
    "#     lsvm_clf,\n",
    "#     nusvm_clf,\n",
    "#     rbf_svm_clf,\n",
    "#     poly_svm_clf,\n",
    "#     tree_clf,\n",
    "#     rnd_clf,\n",
    "#     log_clf,\n",
    "#     gb_clf,\n",
    "#     xgb_clf,\n",
    "#     bag_df_clf,\n",
    "#     ada_clf,\n",
    "#     sgd_clf,\n",
    "#     mlp_clf,\n",
    "#     xtree_clf,\n",
    "#     pa_clf,\n",
    "#     r_clf,\n",
    "#     nb_clf,\n",
    "#     mnb_clf,\n",
    "#     lda_clf,\n",
    "#     qda_clf,\n",
    "    v_clf\n",
    "]"
   ]
  },
  {
   "cell_type": "markdown",
   "metadata": {
    "pycharm": {}
   },
   "source": [
    "## Run"
   ]
  },
  {
   "cell_type": "code",
   "execution_count": 8,
   "metadata": {
    "ExecuteTime": {
     "end_time": "2020-06-05T20:31:39.443437Z",
     "start_time": "2020-06-05T20:28:53.688182Z"
    },
    "pycharm": {},
    "scrolled": true
   },
   "outputs": [
    {
     "name": "stdout",
     "output_type": "stream",
     "text": [
      "==========================================================\n",
      "==========================================================\n",
      "Data Set Type:  Standard Scaled\n",
      "[0.98666667 0.98533333 0.99       0.98933333 0.99133333]\n",
      "Accuracy: 0.989 (+/- 0.004)\n",
      "VotingClassifier :\n",
      " [[1231    5   10]\n",
      " [  14  228    0]\n",
      " [   1    0 1011]]\n"
     ]
    },
    {
     "data": {
      "image/png": "[encoded data removed]",
      "text/plain": [
       "<Figure size 432x288 with 2 Axes>"
      ]
     },
     "metadata": {},
     "output_type": "display_data"
    },
    {
     "name": "stdout",
     "output_type": "stream",
     "text": [
      "              precision    recall  f1-score   support\n",
      "\n",
      "      GALAXY       0.99      0.99      0.99      1246\n",
      "         QSO       0.98      0.94      0.96       242\n",
      "        STAR       0.99      1.00      0.99      1012\n",
      "\n",
      "    accuracy                           0.99      2500\n",
      "   macro avg       0.99      0.98      0.98      2500\n",
      "weighted avg       0.99      0.99      0.99      2500\n",
      "\n",
      "\n",
      "\n",
      "By Acc:\n",
      "VotingClassifier 0.9885333333333332\n",
      "\n",
      "\n",
      "By Precision(avg=macro):\n",
      "VotingClassifier 0.9855693099876338\n",
      "\n",
      "\n",
      "By Recall(avg=macro):\n",
      "VotingClassifier 0.97637403158787\n",
      "\n",
      "\n",
      "By F1(avg=macro):\n",
      "VotingClassifier 0.9808502512187219\n",
      "\n",
      "\n",
      "VotingClassifier\n",
      "{'QSO': 0.9699672056745895, 'STAR': 0.9961457137999914, 'GALAXY': 0.9879998771187416}\n",
      "\n",
      "\n",
      "==========================================================\n",
      "==========================================================\n",
      "Data Set Type:  Robust Scaled\n",
      "[0.98733333 0.98466667 0.99       0.99       0.99133333]\n",
      "Accuracy: 0.989 (+/- 0.005)\n",
      "VotingClassifier :\n",
      " [[1231    5   10]\n",
      " [  15  227    0]\n",
      " [   1    0 1011]]\n"
     ]
    },
    {
     "data": {
      "image/png": "[encoded data removed]",
      "text/plain": [
       "<Figure size 432x288 with 2 Axes>"
      ]
     },
     "metadata": {},
     "output_type": "display_data"
    },
    {
     "name": "stdout",
     "output_type": "stream",
     "text": [
      "              precision    recall  f1-score   support\n",
      "\n",
      "      GALAXY       0.99      0.99      0.99      1246\n",
      "         QSO       0.98      0.94      0.96       242\n",
      "        STAR       0.99      1.00      0.99      1012\n",
      "\n",
      "    accuracy                           0.99      2500\n",
      "   macro avg       0.99      0.97      0.98      2500\n",
      "weighted avg       0.99      0.99      0.99      2500\n",
      "\n",
      "\n",
      "\n",
      "By Acc:\n",
      "VotingClassifier 0.9886666666666667\n",
      "\n",
      "\n",
      "By Precision(avg=macro):\n",
      "VotingClassifier 0.9852743875539623\n",
      "\n",
      "\n",
      "By Recall(avg=macro):\n",
      "VotingClassifier 0.9749966211195504\n",
      "\n",
      "\n",
      "By F1(avg=macro):\n",
      "VotingClassifier 0.9799867888715571\n",
      "\n",
      "\n",
      "VotingClassifier\n",
      "{'QSO': 0.9699672056745895, 'STAR': 0.9961457137999914, 'GALAXY': 0.9879998771187416}\n",
      "\n",
      "\n",
      "VotingClassifier\n",
      "{'QSO': 0.9679010899721101, 'STAR': 0.9961457137999914, 'GALAXY': 0.987601153035807}\n",
      "\n",
      "\n",
      "==========================================================\n",
      "==========================================================\n",
      "Data Set Type:  MaxABS Scaled\n",
      "[0.98666667 0.984      0.98866667 0.98933333 0.99133333]\n",
      "Accuracy: 0.988 (+/- 0.005)\n",
      "VotingClassifier :\n",
      " [[1230    5   11]\n",
      " [  14  228    0]\n",
      " [   1    0 1011]]\n"
     ]
    },
    {
     "data": {
      "image/png": "[encoded data removed]",
      "text/plain": [
       "<Figure size 432x288 with 2 Axes>"
      ]
     },
     "metadata": {},
     "output_type": "display_data"
    },
    {
     "name": "stdout",
     "output_type": "stream",
     "text": [
      "              precision    recall  f1-score   support\n",
      "\n",
      "      GALAXY       0.99      0.99      0.99      1246\n",
      "         QSO       0.98      0.94      0.96       242\n",
      "        STAR       0.99      1.00      0.99      1012\n",
      "\n",
      "    accuracy                           0.99      2500\n",
      "   macro avg       0.99      0.98      0.98      2500\n",
      "weighted avg       0.99      0.99      0.99      2500\n",
      "\n",
      "\n",
      "\n",
      "By Acc:\n",
      "VotingClassifier 0.9879999999999999\n",
      "\n",
      "\n",
      "By Precision(avg=macro):\n",
      "VotingClassifier 0.9852431234559194\n",
      "\n",
      "\n",
      "By Recall(avg=macro):\n",
      "VotingClassifier 0.9761065088484372\n",
      "\n",
      "\n",
      "By F1(avg=macro):\n",
      "VotingClassifier 0.9805518312335421\n",
      "\n",
      "\n",
      "VotingClassifier\n",
      "{'QSO': 0.9699672056745895, 'STAR': 0.9961457137999914, 'GALAXY': 0.9879998771187416}\n",
      "\n",
      "\n",
      "VotingClassifier\n",
      "{'QSO': 0.9679010899721101, 'STAR': 0.9961457137999914, 'GALAXY': 0.987601153035807}\n",
      "\n",
      "\n",
      "VotingClassifier\n",
      "{'QSO': 0.9699672056745895, 'STAR': 0.995809692294615, 'GALAXY': 0.9875985930095924}\n",
      "\n",
      "\n"
     ]
    }
   ],
   "source": [
    "with warnings.catch_warnings():\n",
    "    warnings.simplefilter(\"ignore\")\n",
    "    sns.set_context(\"paper\", rc={\"font.size\":15,\n",
    "                          \"axes.titlesize\":15,\n",
    "                         \"axes.labelsize\":15,\n",
    "                          \"xtick.labelsize\":15,\n",
    "                          \"ytick.labelsize\":15,\n",
    "#                         \"legend.fontsize\":27\n",
    "                            }) \n",
    "    results = helpers.learning_loop_for_sets(clfs, clf_names, class_names, data_sets)\n",
    "    data = []\n",
    "    for item in results:\n",
    "        d = item.report_dict['macro avg']\n",
    "        d['accuracy'] = item.scores.mean()\n",
    "        d['classifier'] = item.classifier_name\n",
    "        d['dataset_type'] = item.dataset_type\n",
    "        data.append(d)\n",
    "\n",
    "    df = pd.DataFrame(data=data)"
   ]
  },
  {
   "cell_type": "code",
   "execution_count": 9,
   "metadata": {
    "ExecuteTime": {
     "end_time": "2020-06-05T20:31:39.447663Z",
     "start_time": "2020-06-05T20:31:39.444681Z"
    }
   },
   "outputs": [
    {
     "data": {
      "text/plain": [
       "3"
      ]
     },
     "execution_count": 9,
     "metadata": {},
     "output_type": "execute_result"
    }
   ],
   "source": [
    "len(results)"
   ]
  },
  {
   "cell_type": "code",
   "execution_count": 10,
   "metadata": {
    "ExecuteTime": {
     "end_time": "2020-06-05T20:31:39.460864Z",
     "start_time": "2020-06-05T20:31:39.448763Z"
    }
   },
   "outputs": [
    {
     "data": {
      "text/html": [
       "<div>\n",
       "<style scoped>\n",
       "    .dataframe tbody tr th:only-of-type {\n",
       "        vertical-align: middle;\n",
       "    }\n",
       "\n",
       "    .dataframe tbody tr th {\n",
       "        vertical-align: top;\n",
       "    }\n",
       "\n",
       "    .dataframe thead th {\n",
       "        text-align: right;\n",
       "    }\n",
       "</style>\n",
       "<table border=\"1\" class=\"dataframe\">\n",
       "  <thead>\n",
       "    <tr style=\"text-align: right;\">\n",
       "      <th></th>\n",
       "      <th>precision</th>\n",
       "      <th>recall</th>\n",
       "      <th>f1-score</th>\n",
       "      <th>support</th>\n",
       "      <th>accuracy</th>\n",
       "      <th>classifier</th>\n",
       "      <th>dataset_type</th>\n",
       "    </tr>\n",
       "  </thead>\n",
       "  <tbody>\n",
       "    <tr>\n",
       "      <th>0</th>\n",
       "      <td>0.985569</td>\n",
       "      <td>0.976374</td>\n",
       "      <td>0.980850</td>\n",
       "      <td>2500</td>\n",
       "      <td>0.988533</td>\n",
       "      <td>VotingClassifier</td>\n",
       "      <td>Standard Scaled</td>\n",
       "    </tr>\n",
       "    <tr>\n",
       "      <th>1</th>\n",
       "      <td>0.985274</td>\n",
       "      <td>0.974997</td>\n",
       "      <td>0.979987</td>\n",
       "      <td>2500</td>\n",
       "      <td>0.988667</td>\n",
       "      <td>VotingClassifier</td>\n",
       "      <td>Robust Scaled</td>\n",
       "    </tr>\n",
       "    <tr>\n",
       "      <th>2</th>\n",
       "      <td>0.985243</td>\n",
       "      <td>0.976107</td>\n",
       "      <td>0.980552</td>\n",
       "      <td>2500</td>\n",
       "      <td>0.988000</td>\n",
       "      <td>VotingClassifier</td>\n",
       "      <td>MaxABS Scaled</td>\n",
       "    </tr>\n",
       "  </tbody>\n",
       "</table>\n",
       "</div>"
      ],
      "text/plain": [
       "   precision    recall  f1-score  support  accuracy        classifier  \\\n",
       "0   0.985569  0.976374  0.980850     2500  0.988533  VotingClassifier   \n",
       "1   0.985274  0.974997  0.979987     2500  0.988667  VotingClassifier   \n",
       "2   0.985243  0.976107  0.980552     2500  0.988000  VotingClassifier   \n",
       "\n",
       "      dataset_type  \n",
       "0  Standard Scaled  \n",
       "1    Robust Scaled  \n",
       "2    MaxABS Scaled  "
      ]
     },
     "execution_count": 10,
     "metadata": {},
     "output_type": "execute_result"
    }
   ],
   "source": [
    "df.head(50)"
   ]
  },
  {
   "cell_type": "code",
   "execution_count": 11,
   "metadata": {
    "ExecuteTime": {
     "end_time": "2020-06-05T20:31:39.464144Z",
     "start_time": "2020-06-05T20:31:39.462106Z"
    }
   },
   "outputs": [],
   "source": [
    "#df.to_csv('results_no_opt.csv', encoding='utf-8', float_format='%.4f', index=False)"
   ]
  }
 ],
 "metadata": {
  "hide_input": false,
  "kernelspec": {
   "display_name": "Python 3",
   "language": "python",
   "name": "python3"
  },
  "language_info": {
   "codemirror_mode": {
    "name": "ipython",
    "version": 3
   },
   "file_extension": ".py",
   "mimetype": "text/x-python",
   "name": "python",
   "nbconvert_exporter": "python",
   "pygments_lexer": "ipython3",
   "version": "3.7.7"
  },
  "toc": {
   "base_numbering": 1,
   "nav_menu": {},
   "number_sections": true,
   "sideBar": true,
   "skip_h1_title": false,
   "title_cell": "Table of Contents",
   "title_sidebar": "Contents",
   "toc_cell": false,
   "toc_position": {},
   "toc_section_display": true,
   "toc_window_display": false
  }
 },
 "nbformat": 4,
 "nbformat_minor": 2
}
