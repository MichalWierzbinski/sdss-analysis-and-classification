{
 "cells": [
  {
   "cell_type": "markdown",
   "metadata": {},
   "source": [
    "# Genetic optimisation of SVC classifier for the SDSS data"
   ]
  },
  {
   "cell_type": "markdown",
   "metadata": {},
   "source": [
    "## Load data"
   ]
  },
  {
   "cell_type": "code",
   "execution_count": 3,
   "metadata": {
    "ExecuteTime": {
     "end_time": "2019-05-11T18:53:57.334423Z",
     "start_time": "2019-05-11T18:53:57.237497Z"
    }
   },
   "outputs": [
    {
     "name": "stdout",
     "output_type": "stream",
     "text": [
      "['objid' 'ra' 'dec' 'u' 'g' 'r' 'i' 'z' 'run' 'rerun' 'camcol' 'field'\n",
      " 'specobjid' 'class' 'redshift' 'plate' 'mjd' 'fiberid']\n"
     ]
    }
   ],
   "source": [
    "# To support both python 2 and python 3\n",
    "from __future__ import division, print_function, unicode_literals\n",
    "import warnings\n",
    "import helpers\n",
    "from helpers import DataSet\n",
    "import matplotlib as mpl\n",
    "import os\n",
    "import random\n",
    "\n",
    "# Common imports\n",
    "import pandas as pd\n",
    "import numpy as np\n",
    "import seaborn as sns\n",
    "\n",
    "# Imports for ML\n",
    "from sklearn.ensemble import RandomForestClassifier, VotingClassifier, BaggingClassifier, GradientBoostingClassifier, AdaBoostClassifier, ExtraTreesClassifier\n",
    "from sklearn.linear_model import LogisticRegression, SGDClassifier, PassiveAggressiveClassifier, RidgeClassifier\n",
    "from sklearn.svm import SVC, LinearSVC, NuSVC\n",
    "from sklearn.neighbors import KNeighborsClassifier\n",
    "from xgboost import XGBClassifier\n",
    "from sklearn.preprocessing import RobustScaler, StandardScaler, MaxAbsScaler\n",
    "from sklearn.model_selection import train_test_split, StratifiedKFold\n",
    "from sklearn.tree import DecisionTreeClassifier\n",
    "from sklearn.neural_network import MLPClassifier\n",
    "from sklearn.naive_bayes import GaussianNB, MultinomialNB\n",
    "from sklearn.discriminant_analysis import LinearDiscriminantAnalysis, QuadraticDiscriminantAnalysis\n",
    "from sklearn.decomposition import PCA\n",
    "\n",
    "# to make this notebook's output stable across runs\n",
    "np.random.seed(42)\n",
    "\n",
    "# To plot pretty figures\n",
    "%matplotlib inline\n",
    "mpl.rc('axes', labelsize=14)\n",
    "mpl.rc('xtick', labelsize=12)\n",
    "mpl.rc('ytick', labelsize=12)\n",
    "sns.set_style('whitegrid')\n",
    "\n",
    "# Where to save the figures\n",
    "PROJECT_ROOT_DIR = \".\"\n",
    "CHAPTER_ID = \"results\"\n",
    "IMAGES_PATH = os.path.join(PROJECT_ROOT_DIR, \"images\", CHAPTER_ID)\n",
    "\n",
    "# Helper functioins and structures\n",
    "# Ignore useless warnings (see SciPy issue #5998)\n",
    "warnings.filterwarnings(action=\"ignore\", message=\"^internal gelsd\")\n",
    "\n",
    "DATA_PATH = \"Skyserver_SQL2_27_2018 6_51_39 PM.csv\"\n",
    "RESULTS_FOLDER = \"results\"\n",
    "\n",
    "# We load the data. Those that have nothing to do with the features of the objects are ignored.\n",
    "sdss_data = pd.read_csv(DATA_PATH)\n",
    "\n",
    "# We have a general look at the features\n",
    "sdss_data.head(3)\n",
    "\n",
    "print(sdss_data.columns.values)\n",
    "sdss_data.drop(['objid', 'run', 'rerun', 'camcol', 'field',\n",
    "                'specobjid', 'fiberid', 'mjd', 'plate'], axis=1, inplace=True)\n",
    "sdss_data.head(1)\n",
    "\n",
    "sdss_df_fe = sdss_data\n",
    "\n",
    "# Principal Component Analysis\n",
    "pca = PCA(n_components=3)\n",
    "ugriz = pca.fit_transform(sdss_df_fe[['u', 'g', 'r', 'i', 'z']])\n",
    "\n",
    "# update dataframe \n",
    "sdss_df_fe = pd.concat((sdss_df_fe, pd.DataFrame(ugriz)), axis=1)\n",
    "sdss_df_fe.rename({0: 'PCA_1', 1: 'PCA_2', 2: 'PCA_3'}, axis=1, inplace = True)\n",
    "sdss_df_fe.drop(['u', 'g', 'r', 'i', 'z'], axis=1, inplace=True)\n",
    "sdss_df_fe.head()\n",
    "\n",
    "X = sdss_data.drop(['class'], axis=1)\n",
    "y = sdss_data['class']\n",
    "\n",
    "class_names = [\"GALAXY\", \"QSO\", \"STAR\"]\n",
    "\n",
    "std_scaler = StandardScaler()\n",
    "X_train, X_test, y_train, y_test = train_test_split(X, y, random_state=42)\n",
    "\n",
    "X_test = std_scaler.fit_transform(X_test.astype(np.float64))\n",
    "X_train = std_scaler.fit_transform(X_train.astype(np.float64))"
   ]
  },
  {
   "cell_type": "markdown",
   "metadata": {},
   "source": [
    "## Optimize"
   ]
  },
  {
   "cell_type": "code",
   "execution_count": 11,
   "metadata": {
    "ExecuteTime": {
     "end_time": "2019-05-11T19:05:50.149163Z",
     "start_time": "2019-05-11T19:02:30.962023Z"
    },
    "scrolled": true
   },
   "outputs": [
    {
     "name": "stdout",
     "output_type": "stream",
     "text": [
      "Types [1, 1, 2, 2, 1, 1, 2, 1, 1, 1, 2, 2, 1, 1, 1, 1] and maxint [8, 2, 24, 24, 1, 1, 24, 0, 0, 3, 8, 24, 0, 0, 1, 11] detected\n"
     ]
    },
    {
     "name": "stderr",
     "output_type": "stream",
     "text": [
      "/home/ljosfer/anaconda3/envs/deep/lib/python3.6/site-packages/deap/creator.py:141: RuntimeWarning: A class named 'FitnessMax' has already been created and it will be overwritten. Consider deleting previous creation of that class or rename it.\n",
      "  RuntimeWarning)\n",
      "/home/ljosfer/anaconda3/envs/deep/lib/python3.6/site-packages/deap/creator.py:141: RuntimeWarning: A class named 'Individual' has already been created and it will be overwritten. Consider deleting previous creation of that class or rename it.\n",
      "  RuntimeWarning)\n"
     ]
    },
    {
     "name": "stdout",
     "output_type": "stream",
     "text": [
      "--- Evolve in 36450000000 possible combinations ---\n",
      "gen\tnevals\tavg     \tmin     \tmax     \tstd    \n",
      "0  \t50    \t0.544139\t0.106933\t0.966267\t0.29641\n",
      "1  \t34    \t0.768963\t0.107067\t0.9672  \t0.219782\n",
      "2  \t27    \t0.9084  \t0.292267\t0.968667\t0.0946031\n",
      "3  \t29    \t0.930192\t0.6764  \t0.968667\t0.0486466\n",
      "4  \t37    \t0.90756 \t0.1784  \t0.9784  \t0.14782  \n",
      "5  \t32    \t0.942629\t0.404667\t0.985067\t0.0834828\n",
      "6  \t26    \t0.951621\t0.178667\t0.985067\t0.110946 \n",
      "7  \t21    \t0.959029\t0.1704  \t0.981867\t0.112953 \n",
      "8  \t37    \t0.978645\t0.9688  \t0.985067\t0.00289224\n",
      "9  \t25    \t0.977195\t0.843333\t0.985067\t0.022166  \n",
      "10 \t31    \t0.971389\t0.676667\t0.985067\t0.0470655 \n",
      "11 \t42    \t0.966421\t0.6768  \t0.985067\t0.0597934 \n",
      "12 \t33    \t0.975371\t0.836533\t0.985067\t0.0320349 \n",
      "13 \t33    \t0.970851\t0.4468  \t0.985067\t0.0763435 \n",
      "14 \t30    \t0.943891\t0.329333\t0.985067\t0.134396  \n",
      "15 \t28    \t0.969072\t0.343467\t0.985067\t0.0911578 \n",
      "16 \t23    \t0.979395\t0.836533\t0.985067\t0.0230688 \n",
      "17 \t39    \t0.953805\t0.377067\t0.985067\t0.101186  \n",
      "18 \t36    \t0.981691\t0.8336  \t0.985067\t0.0212506 \n",
      "19 \t23    \t0.978627\t0.836533\t0.985067\t0.025812  \n",
      "20 \t29    \t0.968928\t0.676667\t0.985067\t0.0581836 \n",
      "21 \t25    \t0.973525\t0.676667\t0.985067\t0.0501874 \n",
      "22 \t31    \t0.971723\t0.676667\t0.985067\t0.0526955 \n",
      "23 \t27    \t0.959376\t0.446667\t0.985067\t0.0912018 \n",
      "24 \t31    \t0.977389\t0.749467\t0.985067\t0.0370857 \n",
      "25 \t31    \t0.961376\t0.6496  \t0.985067\t0.0814288 \n",
      "26 \t29    \t0.973875\t0.6768  \t0.985067\t0.0465932 \n",
      "27 \t29    \t0.970144\t0.676533\t0.985067\t0.0612407 \n",
      "28 \t27    \t0.982459\t0.938133\t0.985067\t0.00871054\n",
      "29 \t36    \t0.972365\t0.354267\t0.985067\t0.0883008 \n",
      "30 \t29    \t0.967488\t0.434933\t0.985067\t0.0811255 \n",
      "Best individual is: {'loss': 'perceptron', 'penalty': 'l1', 'alpha': 0.00510896977450693, 'l1_ratio': 0.014677992676220698, 'fit_intercept': True, 'shuffle': True, 'epsilon': 0.4216965034285822, 'n_jobs': 4, 'random_state': 42, 'learning_rate': 'optimal', 'eta0': 0.2, 'power_t': 0.014677992676220698, 'early_stopping': True, 'n_iter_no_change': 5, 'class_weight': None, 'average': False}\n",
      "with fitness: 0.9850666666666666\n"
     ]
    }
   ],
   "source": [
    "from evolutionary_search import EvolutionaryAlgorithmSearchCV\n",
    "\n",
    "paramgrid = {\n",
    "    \"loss\":[\"hinge\",\n",
    "            \"log\",\n",
    "            \"modified_huber\",\n",
    "            \"squared_hinge\",\n",
    "            \"perceptron\",\n",
    "            \"squared_loss\",\n",
    "            \"huber\",\n",
    "            \"epsilon_insensitive\",\n",
    "            \"squared_epsilon_insensitive\"],\n",
    "    \"penalty\":[\"l1\",\"l2\",\"elasticnet\"],\n",
    "    \"alpha\":np.logspace(-5,0,base=10,num=25),\n",
    "    \"l1_ratio\":np.logspace(-2,0,base=10,num=25), \n",
    "    \"fit_intercept\":[True, False],\n",
    "    \"shuffle\":[True, False], \n",
    "    \"epsilon\":np.logspace(-2,1,base=10,num=25),\n",
    "    \"n_jobs\":[4],\n",
    "    \"random_state\":[42],\n",
    "    \"learning_rate\":[\"optimal\", \"constant\", \"invscaling\", \"adaptive\"],\n",
    "    \"eta0\":[0.001, 0.002, 0.005, 0.01, 0.02, 0.05, 0.1, 0.15, 0.2], \n",
    "    \"power_t\":np.logspace(-2,0,base=10,num=25),\n",
    "    \"early_stopping\":[True],\n",
    "    \"n_iter_no_change\":[5],\n",
    "    \"class_weight\":[None, \"balanced\"],\n",
    "    \"average\":[False, 1, 2, 4, 5, 6, 7, 10, 15, 20, 30, 50]\n",
    "}\n",
    "\n",
    "random.seed(1)\n",
    "\n",
    "cv = EvolutionaryAlgorithmSearchCV(estimator=SGDClassifier(),\n",
    "                                   params=paramgrid,\n",
    "                                   scoring=\"accuracy\",\n",
    "                                   cv=StratifiedKFold(n_splits=5),\n",
    "                                   verbose=1,\n",
    "                                   population_size=50,\n",
    "                                   gene_mutation_prob=0.10,\n",
    "                                   gene_crossover_prob=0.5,\n",
    "                                   tournament_size=3,\n",
    "                                   generations_number=30,\n",
    "                                   n_jobs=8,\n",
    "                                   error_score=0.0)\n",
    "\n",
    "with warnings.catch_warnings():\n",
    "    warnings.simplefilter(\"ignore\")\n",
    "    result = cv.fit(X_train, y_train)"
   ]
  },
  {
   "cell_type": "code",
   "execution_count": 12,
   "metadata": {
    "ExecuteTime": {
     "end_time": "2019-05-11T19:14:35.342486Z",
     "start_time": "2019-05-11T19:14:33.867378Z"
    }
   },
   "outputs": [
    {
     "name": "stdout",
     "output_type": "stream",
     "text": [
      "==========================================================\n",
      "==========================================================\n",
      "Data Set Type:  Standard Scaled\n",
      "SGDClassifier\n",
      "[0.97734843 0.98267821 0.988      0.98665777 0.99066044]\n",
      "Accuracy: 0.985 (+/- 0.009)\n",
      "SGDClassifier :\n",
      " [[1230    3   13]\n",
      " [  22  220    0]\n",
      " [ 146    2  864]]\n",
      "              precision    recall  f1-score   support\n",
      "\n",
      "      GALAXY       0.88      0.99      0.93      1246\n",
      "         QSO       0.98      0.91      0.94       242\n",
      "        STAR       0.99      0.85      0.91      1012\n",
      "\n",
      "   micro avg       0.93      0.93      0.93      2500\n",
      "   macro avg       0.95      0.92      0.93      2500\n",
      "weighted avg       0.93      0.93      0.93      2500\n",
      "\n",
      "\n",
      "\n",
      "By Acc:\n",
      "SGDClassifier 0.985068972208432\n",
      "\n",
      "\n",
      "By Precision(avg=micro):\n",
      "SGDClassifier 0.9256\n",
      "\n",
      "\n",
      "By Recall(avg=micro):\n",
      "SGDClassifier 0.9256\n",
      "\n",
      "\n",
      "By F1(avg=micro):\n",
      "SGDClassifier 0.9256\n",
      "\n",
      "\n",
      "By Precision(avg=macro):\n",
      "SGDClassifier 0.9475942809468632\n",
      "\n",
      "\n",
      "By Recall(avg=macro):\n",
      "SGDClassifier 0.9166682527698647\n",
      "\n",
      "\n",
      "By F1(avg=macro):\n",
      "SGDClassifier 0.9291207818719869\n",
      "\n",
      "\n",
      "SGDClassifier\n",
      "{'QSO': 0.9534382800547548, 'STAR': 0.9225091907858387, 'GALAXY': 0.9265938083205971}\n",
      "\n",
      "\n"
     ]
    },
    {
     "data": {
      "image/png": "[encoded data removed]",
      "text/plain": [
       "<Figure size 720x504 with 2 Axes>"
      ]
     },
     "metadata": {},
     "output_type": "display_data"
    }
   ],
   "source": [
    "best_indiv = SGDClassifier(loss='perceptron',\n",
    "                           penalty='l1',\n",
    "                           alpha=0.00510896977450693,\n",
    "                           l1_ratio=0.014677992676220698,\n",
    "                           fit_intercept=True,\n",
    "                           shuffle=True,\n",
    "                           epsilon=0.4216965034285822,\n",
    "                           n_jobs=4,\n",
    "                           random_state=42,\n",
    "                           learning_rate='optimal',\n",
    "                           eta0=0.2,\n",
    "                           power_t=0.014677992676220698,\n",
    "                           early_stopping=True,\n",
    "                           n_iter_no_change=5,\n",
    "                           class_weight=None,\n",
    "                           average=False)\n",
    "\n",
    "clf_names = [\"SGDClassifier\"]\n",
    "class_names = [\"GALAXY\", \"QSO\", \"STAR\"]\n",
    "\n",
    "clfs = [best_indiv]\n",
    "data_sets = []\n",
    "std_scaled_set = DataSet(\"Standard Scaled\", X_train, y_train, X_test, y_test)\n",
    "data_sets.append(std_scaled_set)\n",
    "\n",
    "with warnings.catch_warnings():\n",
    "    warnings.simplefilter(\"ignore\")\n",
    "    helpers.learning_loop_for_sets(clfs, clf_names, class_names, data_sets)"
   ]
  },
  {
   "cell_type": "code",
   "execution_count": null,
   "metadata": {},
   "outputs": [],
   "source": []
  }
 ],
 "metadata": {
  "hide_input": false,
  "kernelspec": {
   "display_name": "Python3 (deep)",
   "language": "python",
   "name": "deep"
  },
  "language_info": {
   "codemirror_mode": {
    "name": "ipython",
    "version": 3
   },
   "file_extension": ".py",
   "mimetype": "text/x-python",
   "name": "python",
   "nbconvert_exporter": "python",
   "pygments_lexer": "ipython3",
   "version": "3.6.8"
  },
  "toc": {
   "base_numbering": 1,
   "nav_menu": {},
   "number_sections": true,
   "sideBar": true,
   "skip_h1_title": false,
   "title_cell": "Table of Contents",
   "title_sidebar": "Contents",
   "toc_cell": false,
   "toc_position": {},
   "toc_section_display": true,
   "toc_window_display": false
  }
 },
 "nbformat": 4,
 "nbformat_minor": 2
}
