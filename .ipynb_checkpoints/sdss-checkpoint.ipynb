{
 "cells": [
  {
   "cell_type": "markdown",
   "metadata": {},
   "source": [
    "# Setup"
   ]
  },
  {
   "cell_type": "code",
   "execution_count": 1,
   "metadata": {
    "ExecuteTime": {
     "end_time": "2019-03-24T12:16:14.628610Z",
     "start_time": "2019-03-24T12:16:14.337862Z"
    }
   },
   "outputs": [],
   "source": [
    "# To support both python 2 and python 3\n",
    "from __future__ import division, print_function, unicode_literals\n",
    "\n",
    "# Common imports\n",
    "import numpy as np\n",
    "import os\n",
    "\n",
    "# to make this notebook's output stable across runs\n",
    "np.random.seed(42)\n",
    "\n",
    "# To plot pretty figures\n",
    "%matplotlib inline\n",
    "import matplotlib as mpl\n",
    "import matplotlib.pyplot as plt\n",
    "mpl.rc('axes', labelsize=14)\n",
    "mpl.rc('xtick', labelsize=12)\n",
    "mpl.rc('ytick', labelsize=12)\n",
    "\n",
    "# Where to save the figures\n",
    "PROJECT_ROOT_DIR = \".\"\n",
    "CHAPTER_ID = \"results\"\n",
    "IMAGES_PATH = os.path.join(PROJECT_ROOT_DIR, \"images\", CHAPTER_ID)\n",
    "\n",
    "# Helper functioins and structures\n",
    "import helpers\n",
    "# Ignore useless warnings (see SciPy issue #5998)\n",
    "import warnings\n",
    "warnings.filterwarnings(action=\"ignore\", message=\"^internal gelsd\")"
   ]
  },
  {
   "cell_type": "markdown",
   "metadata": {
    "ExecuteTime": {
     "end_time": "2019-03-24T12:16:22.374945Z",
     "start_time": "2019-03-24T12:16:22.353029Z"
    }
   },
   "source": [
    "# Use of machine learning techniques for heavenly bodies classification based on Sloan Digital Sky Survey\n",
    "\n",
    "## Wprowadzenie\n",
    "W tym notebooku spróbujemy przeprowadzić klasyfikację obiektów niebieskich jako gwiazdę, galaktykę lub kwazar. W tym celu spróbujemy kompletnego pojjścia jakim kierują się ludzie z dziłu tzw. Data Science. Na to podejście będzie się analiza danych, wybór cech, proces uczenia maszynowego wraz z selekcją cech oraz analiza otrzymanych wyników.\n",
    "\n",
    "Cały proces zostanie przeprowadzony na zbiorze Sloan Digital Sky Survey.\n",
    "### O zbiorze danych\n",
    "\n",
    "Sloan Digital Sky Survey jest projektem, który oferuje publicznie dostępne dane o obserwacjach obiektów niebieskich. Dane te były zbierane od 1998r. i zostały udostępnione dla każdego, kto był zainteresowany.\n",
    "\n",
    "Dla tego celu wykorzystany został specjalny teleskop od średnicy 2.5m, który zbudowano w Nowym Meksyku w obserwatorium Apache Point Observatory w USA. Teleskop używa kamery składającej się z 30 chipów CCD o rozdzielczości 2048x2048 każdy. Chipy są ułożone w 5 rzędów po 6 w każdym.Każdy rząd obserwuje przestrzeń kosmiczną przez zróżne optyczne filtry (u, g, r, i, z) w różnych długościach fal - 354, 476, 628, 769, 925 nm.\n",
    "\n",
    "Teleskop pokrywa swym zasięgiem około 1/4 ziemskiego nieba - przez co skupia swój wzork na północnej części nieba.\n",
    "\n",
    "\n",
    "## Analiza danych\n",
    "\n",
    "### Zawartość\n",
    "Zbiór składa się z 10 tys. obserwacji ciał niebieskich zebranych przez SDSS. Każda obserwacja jest opisana przez 17 atrybutów i jednej klasy przynależności - gwiazda, galaktyka lub kwazar.\n",
    "\n",
    "### Opis cech\n",
    "\n",
    "Zbiór powstał poprzez wykonaie kwerendy, która łączy ze sobą dwa widoki SQL. \"PhotoObj\", który zawiera fotometryczne dane oraz \"SpecObj\" zawierający dane spektralne.\n",
    "\n",
    "View \"PhotoObj\"<br>\n",
    "* **objid = Object Identifier**<br>\n",
    "* **ra = J2000 Right Ascension (r-band)**<br>\n",
    "* **dec = J2000 Declination (r-band)**<br>\n",
    "\n",
    "Rektascensja, α (łac. recta ascensio – \"wznoszenie proste\") – jedna ze współrzędnych astronomicznych, określających położenie ciała niebieskiego na sferze niebieskiej w układzie współrzędnych astronomicznych zwanym układem równikowym równonocnym.\n",
    "\n",
    "Definiujemy ją jako kąt dwuścienny pomiędzy płaszczyzną koła godzinnego punktu równonocy wiosennej (rektascensja równa 0h) a płaszczyzną koła godzinnego obiektu. Rektascensję nalicza się w kierunku na wschód, zgodnym z rocznym ruchem Słońca. Przyjmuje ona wartości z zakresu od 0h do 24h.\n",
    "\n",
    "Współrzędna ta nie ulega zmianie na skutek ruchu obrotowego Ziemi, jak w przypadku kąta godzinnego. Zmianę współrzędnych, w tym deklinacji, powoduje precesja (ruch punktu Barana).\n",
    "\n",
    "Deklinacja (łac. declinatio – „odchylenie”, oznaczana symbolem δ) – jedna ze współrzędnych określających położenie ciała w obydwu układach równikowych: równonocnym i godzinnym. Definiujemy ją jako kąt pomiędzy kierunkiem poprowadzonym od obserwatora do obiektu a płaszczyzną równika niebieskiego. Obiekty położone na północnej półkuli nieba mają deklinację dodatnią (od 0° do 90°), a na południowej ujemną (od 0° do -90°).\n",
    "\n",
    "Zjawisko precesji skutkuje powolną zmianą współrzędnych astronomicznych (w tym rektascensji). Dlatego też oprócz nich podaje się również epokę, dla której zostały one wyznaczone (np. J2000.0).\n",
    "\n",
    "Source: https://en.wikipedia.org/wiki/Right_ascension\n",
    "\n",
    "u = better of DeV/Exp magnitude fit\n",
    "g = better of DeV/Exp magnitude fit\n",
    "r = better of DeV/Exp magnitude fit\n",
    "i = better of DeV/Exp magnitude fit\n",
    "z = better of DeV/Exp magnitude fit\n",
    "The Thuan-Gunn astronomic magnitude system. u, g, r, i, z represent the response of the 5 bands of the telescope.\n",
    "\n",
    "Further education: https://www.astro.umd.edu/~ssm/ASTR620/mags.html\n",
    "<br>\n",
    "* **run = Run Number**<br>\n",
    "* **rereun = Rerun Number**<br>\n",
    "* **camcol = Camera column**<br>\n",
    "* **field = Field number**<br>\n",
    "\n",
    "run, rerun, camcol oraz field są cechami, które opisują pole wewnątrz obrazu wykonanego przez SDSS. Pole jest po porstu częścią całego obrazu odpowiadającego 2048x1489 pikseli. Pole może być identyfikowane przez: \n",
    "* run number - identyfikator skanu,\n",
    "* camcol - kolumna kamery, numer od 1 do 6, które identyfikujące linię skanu oraz \n",
    "* field - numer pola. Numer pola zazwyczaj zaczyna się na 11 (po początkowym okresie wznoszenia) i może osiągnąć wartość 800 dla wyjątkowo długich obserwacji.\n",
    "* dodatkowo numer rerun, oznacza jak obraz był przetwarzany\n",
    "\n",
    "View \"SpecObj\"<br>\n",
    "* **specobjid = Object Identifier**<br>\n",
    "* **class = object class (galaxy, star or quasar object)**<br>\n",
    "Class identyfikuje objekt jako gwiazdę, galaktykę lub kawazar. Jest to zmienna, którą będziemy chcieli przewidzieć.\n",
    "<br>\n",
    "* **redshift = Final Redshift**<br>\n",
    "* **plate = plate number**<br>\n",
    "* **mjd = MJD of observation**<br>\n",
    "* **fiberid = fiber ID**<br>\n",
    "\n",
    "W fizyce, redshift (przesunięcie ku czerwieni) występuje, kiedy śiwatło lub inne promieniowanie elektormagnetyczne obiektu jest podwyższone w długości fali lub przesunięte w stronę czerwonego końca spektrum.\n",
    "\n",
    "Każda ekspozycja spektoskopiczna wykorzystuje dużą, cieńką, okrągłą metalową płytę, która pozycjonuje światłowody przez dziury wywiercone w lokacjach obrazów w centrum skupienia teleskopu. Światłowdy te, następnie przekazują dane do spektrografów. Każda płyta ma unikalny numer seryjny, który jest wykorzystywany w widokach takich jak \"SpecObj\".  \n",
    "mjd jest Zmodyfikowaną Datą Julianową, która określa dzień w którym dokonano pomiaru danej próbki SDSS.\n",
    "\n",
    "Spektograf SDSS wykorzystuje światłowody do przekazywania światła do płaszczyzny ogniskowej z poszczególnych obiektów do \"szczeliny\"?? Każdy obiekt ma przypisane odpowiadające mu fiberID. \n",
    "\n",
    "Więcej informacji o SDSS i atrybutach:\n",
    "\n",
    "http://www.sdss3.org/dr9/imaging/imaging_basics.php\n",
    "\n",
    "http://www.sdss3.org/dr8/glossary.php"
   ]
  },
  {
   "cell_type": "markdown",
   "metadata": {},
   "source": []
  }
 ],
 "metadata": {
  "kernelspec": {
   "display_name": "Python3 (deep)",
   "language": "python",
   "name": "deep"
  },
  "language_info": {
   "codemirror_mode": {
    "name": "ipython",
    "version": 3
   },
   "file_extension": ".py",
   "mimetype": "text/x-python",
   "name": "python",
   "nbconvert_exporter": "python",
   "pygments_lexer": "ipython3",
   "version": "3.6.8"
  },
  "toc": {
   "base_numbering": 1,
   "nav_menu": {},
   "number_sections": true,
   "sideBar": true,
   "skip_h1_title": false,
   "title_cell": "Table of Contents",
   "title_sidebar": "Contents",
   "toc_cell": false,
   "toc_position": {},
   "toc_section_display": true,
   "toc_window_display": false
  }
 },
 "nbformat": 4,
 "nbformat_minor": 2
}
