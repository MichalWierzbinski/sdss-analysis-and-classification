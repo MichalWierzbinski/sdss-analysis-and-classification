{
 "cells": [
  {
   "cell_type": "markdown",
   "metadata": {},
   "source": [
    "# Genetic optimization of Linear-SVM classifier for the SDSS data"
   ]
  },
  {
   "cell_type": "markdown",
   "metadata": {},
   "source": [
    "## Load data"
   ]
  },
  {
   "cell_type": "code",
   "execution_count": 2,
   "metadata": {
    "ExecuteTime": {
     "end_time": "2019-05-12T08:20:37.005276Z",
     "start_time": "2019-05-12T08:20:36.540104Z"
    }
   },
   "outputs": [
    {
     "name": "stdout",
     "output_type": "stream",
     "text": [
      "['objid' 'ra' 'dec' 'u' 'g' 'r' 'i' 'z' 'run' 'rerun' 'camcol' 'field'\n",
      " 'specobjid' 'class' 'redshift' 'plate' 'mjd' 'fiberid']\n"
     ]
    }
   ],
   "source": [
    "# To support both python 2 and python 3\n",
    "from __future__ import division, print_function, unicode_literals\n",
    "import warnings\n",
    "import helpers\n",
    "from helpers import DataSet\n",
    "import matplotlib as mpl\n",
    "import os\n",
    "import random\n",
    "\n",
    "# Common imports\n",
    "import pandas as pd\n",
    "import numpy as np\n",
    "import seaborn as sns\n",
    "\n",
    "# Imports for ML\n",
    "from sklearn.ensemble import RandomForestClassifier, VotingClassifier, BaggingClassifier, GradientBoostingClassifier, AdaBoostClassifier, ExtraTreesClassifier\n",
    "from sklearn.linear_model import LogisticRegression, SGDClassifier, PassiveAggressiveClassifier, RidgeClassifier\n",
    "from sklearn.svm import SVC, LinearSVC, NuSVC\n",
    "from sklearn.neighbors import KNeighborsClassifier\n",
    "from xgboost import XGBClassifier\n",
    "from sklearn.preprocessing import RobustScaler, StandardScaler, MaxAbsScaler\n",
    "from sklearn.model_selection import train_test_split, StratifiedKFold\n",
    "from sklearn.tree import DecisionTreeClassifier\n",
    "from sklearn.neural_network import MLPClassifier\n",
    "from sklearn.naive_bayes import GaussianNB, MultinomialNB\n",
    "from sklearn.discriminant_analysis import LinearDiscriminantAnalysis, QuadraticDiscriminantAnalysis\n",
    "from sklearn.decomposition import PCA\n",
    "\n",
    "# to make this notebook's output stable across runs\n",
    "np.random.seed(42)\n",
    "\n",
    "# To plot pretty figures\n",
    "%matplotlib inline\n",
    "mpl.rc('axes', labelsize=14)\n",
    "mpl.rc('xtick', labelsize=12)\n",
    "mpl.rc('ytick', labelsize=12)\n",
    "sns.set_style('whitegrid')\n",
    "\n",
    "# Where to save the figures\n",
    "PROJECT_ROOT_DIR = \".\"\n",
    "CHAPTER_ID = \"results\"\n",
    "IMAGES_PATH = os.path.join(PROJECT_ROOT_DIR, \"images\", CHAPTER_ID)\n",
    "\n",
    "# Helper functioins and structures\n",
    "# Ignore useless warnings (see SciPy issue #5998)\n",
    "warnings.filterwarnings(action=\"ignore\", message=\"^internal gelsd\")\n",
    "\n",
    "DATA_PATH = \"Skyserver_SQL2_27_2018 6_51_39 PM.csv\"\n",
    "RESULTS_FOLDER = \"results\"\n",
    "\n",
    "# We load the data. Those that have nothing to do with the features of the objects are ignored.\n",
    "sdss_data = pd.read_csv(DATA_PATH)\n",
    "\n",
    "# We have a general look at the features\n",
    "sdss_data.head(3)\n",
    "\n",
    "print(sdss_data.columns.values)\n",
    "sdss_data.drop(['objid', 'run', 'rerun', 'camcol', 'field',\n",
    "                'specobjid', 'fiberid', 'mjd', 'plate'], axis=1, inplace=True)\n",
    "sdss_data.head(1)\n",
    "\n",
    "sdss_df_fe = sdss_data\n",
    "\n",
    "# Principal Component Analysis\n",
    "pca = PCA(n_components=3)\n",
    "ugriz = pca.fit_transform(sdss_df_fe[['u', 'g', 'r', 'i', 'z']])\n",
    "\n",
    "# update dataframe \n",
    "sdss_df_fe = pd.concat((sdss_df_fe, pd.DataFrame(ugriz)), axis=1)\n",
    "sdss_df_fe.rename({0: 'PCA_1', 1: 'PCA_2', 2: 'PCA_3'}, axis=1, inplace = True)\n",
    "sdss_df_fe.drop(['u', 'g', 'r', 'i', 'z'], axis=1, inplace=True)\n",
    "sdss_df_fe.head()\n",
    "\n",
    "X = sdss_data.drop(['class'], axis=1)\n",
    "y = sdss_data['class']\n",
    "\n",
    "class_names = [\"GALAXY\", \"QSO\", \"STAR\"]\n",
    "\n",
    "std_scaler = StandardScaler()\n",
    "X_train, X_test, y_train, y_test = train_test_split(X, y, random_state=42)\n",
    "\n",
    "X_test = std_scaler.fit_transform(X_test.astype(np.float64))\n",
    "X_train = std_scaler.fit_transform(X_train.astype(np.float64))"
   ]
  },
  {
   "cell_type": "markdown",
   "metadata": {},
   "source": [
    "## Optimize"
   ]
  },
  {
   "cell_type": "code",
   "execution_count": 5,
   "metadata": {
    "ExecuteTime": {
     "end_time": "2019-05-12T09:12:05.990398Z",
     "start_time": "2019-05-12T09:04:24.508631Z"
    }
   },
   "outputs": [
    {
     "name": "stdout",
     "output_type": "stream",
     "text": [
      "Types [1, 1, 1, 2, 1, 1, 2, 1, 1, 1, 1] and maxint [1, 1, 1, 29, 0, 1, 39, 1, 0, 0, 0] detected\n"
     ]
    },
    {
     "name": "stderr",
     "output_type": "stream",
     "text": [
      "/home/ljosfer/anaconda3/envs/deep/lib/python3.6/site-packages/deap/creator.py:141: RuntimeWarning: A class named 'FitnessMax' has already been created and it will be overwritten. Consider deleting previous creation of that class or rename it.\n",
      "  RuntimeWarning)\n",
      "/home/ljosfer/anaconda3/envs/deep/lib/python3.6/site-packages/deap/creator.py:141: RuntimeWarning: A class named 'Individual' has already been created and it will be overwritten. Consider deleting previous creation of that class or rename it.\n",
      "  RuntimeWarning)\n"
     ]
    },
    {
     "name": "stdout",
     "output_type": "stream",
     "text": [
      "--- Evolve in 38400 possible combinations ---\n",
      "gen\tnevals\tavg     \tmin\tmax   \tstd     \n",
      "0  \t50    \t0.381416\t0  \t0.9804\t0.416425\n",
      "1  \t21    \t0.699555\t0  \t0.9816\t0.354592\n",
      "2  \t33    \t0.90324 \t0  \t0.982133\t0.158306\n",
      "3  \t26    \t0.945085\t0  \t0.982267\t0.137537\n",
      "4  \t23    \t0.978251\t0.9268\t0.9824  \t0.00764002\n",
      "5  \t31    \t0.9478  \t0     \t0.9824  \t0.152427  \n",
      "6  \t34    \t0.961656\t0     \t0.9824  \t0.137384  \n",
      "7  \t26    \t0.979816\t0.924133\t0.9824  \t0.0113699 \n",
      "8  \t32    \t0.978349\t0.924133\t0.9824  \t0.0135997 \n",
      "9  \t30    \t0.979947\t0.924133\t0.9824  \t0.0114051 \n",
      "10 \t29    \t0.979925\t0.924133\t0.9824  \t0.0100473 \n",
      "11 \t30    \t0.970384\t0.520667\t0.9824  \t0.0652329 \n",
      "12 \t26    \t0.980877\t0.943867\t0.9824  \t0.00663358\n",
      "13 \t24    \t0.961261\t0       \t0.9824  \t0.137568  \n",
      "14 \t27    \t0.961123\t0       \t0.9824  \t0.13757   \n",
      "15 \t30    \t0.981403\t0.954267\t0.9824  \t0.00477477\n",
      "16 \t29    \t0.982331\t0.978933\t0.9824  \t0.000485333\n",
      "17 \t32    \t0.961099\t0.522133\t0.9824  \t0.0873771  \n",
      "18 \t30    \t0.980709\t0.925067\t0.9824  \t0.0085835  \n",
      "19 \t27    \t0.981128\t0.924133\t0.9824  \t0.0081604  \n",
      "20 \t33    \t0.953565\t0       \t0.9824  \t0.139109   \n",
      "Best individual is: {'penalty': 'l2', 'loss': 'squared_hinge', 'dual': False, 'C': 303919.53823132074, 'multi_class': 'ovr', 'fit_intercept': True, 'intercept_scaling': 1.0, 'class_weight': 'balanced', 'verbose': False, 'max_iter': 10000, 'random_state': 42}\n",
      "with fitness: 0.9824\n"
     ]
    }
   ],
   "source": [
    "from evolutionary_search import EvolutionaryAlgorithmSearchCV\n",
    "\n",
    "paramgrid = {\"penalty\": [\"l1\", \"l2\"],\n",
    "             \"loss\": [\"hinge\",\"squared_hinge\"],\n",
    "             \"dual\": [True, False],\n",
    "             \"C\": np.logspace(-9, 6, num=30, base=10),\n",
    "             \"multi_class\": [\"ovr\"],\n",
    "             \"fit_intercept\": [True, False],\n",
    "             \"intercept_scaling\": np.logspace(-6,3,num=40,base=10),\n",
    "             \"class_weight\": [None,\"balanced\"],\n",
    "             \"verbose\": [False],\n",
    "             \"max_iter\": [10000],\n",
    "             \"random_state\": [42]\n",
    "             }\n",
    "\n",
    "random.seed(1)\n",
    "\n",
    "cv = EvolutionaryAlgorithmSearchCV(estimator=LinearSVC(),\n",
    "                                   params=paramgrid,\n",
    "                                   scoring=\"accuracy\",\n",
    "                                   cv=StratifiedKFold(n_splits=5),\n",
    "                                   verbose=1,\n",
    "                                   population_size=50,\n",
    "                                   gene_mutation_prob=0.10,\n",
    "                                   gene_crossover_prob=0.5,\n",
    "                                   tournament_size=3,\n",
    "                                   generations_number=20,\n",
    "                                   n_jobs=8,\n",
    "                                   error_score=0.0)\n",
    "\n",
    "with warnings.catch_warnings():\n",
    "    warnings.simplefilter(\"ignore\")\n",
    "    result = cv.fit(X_train, y_train)"
   ]
  },
  {
   "cell_type": "code",
   "execution_count": 6,
   "metadata": {
    "ExecuteTime": {
     "end_time": "2019-05-12T09:17:02.896918Z",
     "start_time": "2019-05-12T09:17:02.251798Z"
    },
    "scrolled": true
   },
   "outputs": [
    {
     "name": "stdout",
     "output_type": "stream",
     "text": [
      "==========================================================\n",
      "==========================================================\n",
      "Data Set Type:  Standard Scaled\n",
      "LinearSVC\n",
      "[0.97734843 0.97668221 0.988      0.98599066 0.98398933]\n",
      "Accuracy: 0.982 (+/- 0.009)\n",
      "LinearSVC :\n",
      " [[1222   11   13]\n",
      " [  14  228    0]\n",
      " [   4    1 1007]]\n",
      "              precision    recall  f1-score   support\n",
      "\n",
      "      GALAXY       0.99      0.98      0.98      1246\n",
      "         QSO       0.95      0.94      0.95       242\n",
      "        STAR       0.99      1.00      0.99      1012\n",
      "\n",
      "   micro avg       0.98      0.98      0.98      2500\n",
      "   macro avg       0.97      0.97      0.97      2500\n",
      "weighted avg       0.98      0.98      0.98      2500\n",
      "\n",
      "\n",
      "\n",
      "By Acc:\n",
      "LinearSVC 0.9824021265787228\n",
      "\n",
      "\n",
      "By Precision(avg=micro):\n",
      "LinearSVC 0.9828\n",
      "\n",
      "\n",
      "By Recall(avg=micro):\n",
      "LinearSVC 0.9828\n",
      "\n",
      "\n",
      "By F1(avg=micro):\n",
      "LinearSVC 0.9828\n",
      "\n",
      "\n",
      "By Precision(avg=macro):\n",
      "LinearSVC 0.9742462576428421\n",
      "\n",
      "\n",
      "By Recall(avg=macro):\n",
      "LinearSVC 0.9726488038763209\n",
      "\n",
      "\n",
      "By F1(avg=macro):\n",
      "LinearSVC 0.9734350712516027\n",
      "\n",
      "\n",
      "LinearSVC\n",
      "{'QSO': 0.9684171613876098, 'GALAXY': 0.9831921478875945, 'STAR': 0.993161364698882}\n",
      "\n",
      "\n"
     ]
    },
    {
     "data": {
      "image/png": "[encoded data removed]",
      "text/plain": [
       "<Figure size 720x504 with 2 Axes>"
      ]
     },
     "metadata": {
      "needs_background": "light"
     },
     "output_type": "display_data"
    }
   ],
   "source": [
    "best_indiv = LinearSVC(penalty='l2',\n",
    "                       loss='squared_hinge',\n",
    "                       dual=False,\n",
    "                       C=303919.53823132074,\n",
    "                       multi_class='ovr',\n",
    "                       fit_intercept=True,\n",
    "                       intercept_scaling=1.0,\n",
    "                       class_weight='balanced',\n",
    "                       verbose=False,\n",
    "                       max_iter=10000,\n",
    "                       random_state=42)\n",
    "\n",
    "clf_names = [\"LinearSVC\"]\n",
    "class_names = [\"GALAXY\", \"QSO\", \"STAR\"]\n",
    "\n",
    "clfs = [best_indiv]\n",
    "data_sets = []\n",
    "std_scaled_set = DataSet(\"Standard Scaled\", X_train, y_train, X_test, y_test)\n",
    "data_sets.append(std_scaled_set)\n",
    "\n",
    "with warnings.catch_warnings():\n",
    "    warnings.simplefilter(\"ignore\")\n",
    "    helpers.learning_loop_for_sets(clfs, clf_names, class_names, data_sets)"
   ]
  },
  {
   "cell_type": "code",
   "execution_count": null,
   "metadata": {},
   "outputs": [],
   "source": []
  }
 ],
 "metadata": {
  "hide_input": false,
  "kernelspec": {
   "display_name": "Python3 (deep)",
   "language": "python",
   "name": "deep"
  },
  "language_info": {
   "codemirror_mode": {
    "name": "ipython",
    "version": 3
   },
   "file_extension": ".py",
   "mimetype": "text/x-python",
   "name": "python",
   "nbconvert_exporter": "python",
   "pygments_lexer": "ipython3",
   "version": "3.6.8"
  },
  "toc": {
   "base_numbering": 1,
   "nav_menu": {},
   "number_sections": true,
   "sideBar": true,
   "skip_h1_title": false,
   "title_cell": "Table of Contents",
   "title_sidebar": "Contents",
   "toc_cell": false,
   "toc_position": {},
   "toc_section_display": true,
   "toc_window_display": false
  }
 },
 "nbformat": 4,
 "nbformat_minor": 2
}
