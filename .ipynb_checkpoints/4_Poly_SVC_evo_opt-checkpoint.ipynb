{
 "cells": [
  {
   "cell_type": "markdown",
   "metadata": {},
   "source": [
    "# Genetic optimization of poly-kernel SVC classifier for the SDSS data"
   ]
  },
  {
   "cell_type": "markdown",
   "metadata": {},
   "source": [
    "## Load data"
   ]
  },
  {
   "cell_type": "code",
   "execution_count": 2,
   "metadata": {
    "ExecuteTime": {
     "end_time": "2019-05-12T08:12:19.346106Z",
     "start_time": "2019-05-12T08:12:18.965198Z"
    }
   },
   "outputs": [
    {
     "name": "stdout",
     "output_type": "stream",
     "text": [
      "['objid' 'ra' 'dec' 'u' 'g' 'r' 'i' 'z' 'run' 'rerun' 'camcol' 'field'\n",
      " 'specobjid' 'class' 'redshift' 'plate' 'mjd' 'fiberid']\n"
     ]
    }
   ],
   "source": [
    "# To support both python 2 and python 3\n",
    "from __future__ import division, print_function, unicode_literals\n",
    "import warnings\n",
    "import helpers\n",
    "from helpers import DataSet\n",
    "import matplotlib as mpl\n",
    "import os\n",
    "\n",
    "# Common imports\n",
    "import pandas as pd\n",
    "import numpy as np\n",
    "import seaborn as sns\n",
    "\n",
    "# Imports for ML\n",
    "from sklearn.ensemble import RandomForestClassifier, VotingClassifier, BaggingClassifier, GradientBoostingClassifier, AdaBoostClassifier, ExtraTreesClassifier\n",
    "from sklearn.linear_model import LogisticRegression, SGDClassifier, PassiveAggressiveClassifier, RidgeClassifier\n",
    "from sklearn.svm import SVC, LinearSVC, NuSVC\n",
    "from sklearn.neighbors import KNeighborsClassifier\n",
    "from xgboost import XGBClassifier\n",
    "from sklearn.preprocessing import RobustScaler, StandardScaler, MaxAbsScaler\n",
    "from sklearn.model_selection import train_test_split\n",
    "from sklearn.tree import DecisionTreeClassifier\n",
    "from sklearn.neural_network import MLPClassifier\n",
    "from sklearn.naive_bayes import GaussianNB, MultinomialNB\n",
    "from sklearn.discriminant_analysis import LinearDiscriminantAnalysis, QuadraticDiscriminantAnalysis\n",
    "from sklearn.decomposition import PCA\n",
    "\n",
    "# to make this notebook's output stable across runs\n",
    "np.random.seed(42)\n",
    "\n",
    "# To plot pretty figures\n",
    "%matplotlib inline\n",
    "mpl.rc('axes', labelsize=14)\n",
    "mpl.rc('xtick', labelsize=12)\n",
    "mpl.rc('ytick', labelsize=12)\n",
    "sns.set_style('whitegrid')\n",
    "\n",
    "# Where to save the figures\n",
    "PROJECT_ROOT_DIR = \".\"\n",
    "CHAPTER_ID = \"results\"\n",
    "IMAGES_PATH = os.path.join(PROJECT_ROOT_DIR, \"images\", CHAPTER_ID)\n",
    "\n",
    "# Helper functioins and structures\n",
    "# Ignore useless warnings (see SciPy issue #5998)\n",
    "warnings.filterwarnings(action=\"ignore\", message=\"^internal gelsd\")\n",
    "\n",
    "DATA_PATH = \"Skyserver_SQL2_27_2018 6_51_39 PM.csv\"\n",
    "RESULTS_FOLDER = \"results\"\n",
    "\n",
    "# We load the data. Those that have nothing to do with the features of the objects are ignored.\n",
    "sdss_data = pd.read_csv(DATA_PATH)\n",
    "\n",
    "# We have a general look at the features\n",
    "sdss_data.head(3)\n",
    "\n",
    "print(sdss_data.columns.values)\n",
    "sdss_data.drop(['objid', 'run', 'rerun', 'camcol', 'field',\n",
    "                'specobjid', 'fiberid', 'mjd', 'plate'], axis=1, inplace=True)\n",
    "sdss_data.head(1)\n",
    "\n",
    "sdss_df_fe = sdss_data\n",
    "\n",
    "# Principal Component Analysis\n",
    "pca = PCA(n_components=3)\n",
    "ugriz = pca.fit_transform(sdss_df_fe[['u', 'g', 'r', 'i', 'z']])\n",
    "\n",
    "# update dataframe\n",
    "sdss_df_fe = pd.concat((sdss_df_fe, pd.DataFrame(ugriz)), axis=1)\n",
    "sdss_df_fe.rename({0: 'PCA_1', 1: 'PCA_2', 2: 'PCA_3'}, axis=1, inplace=True)\n",
    "sdss_df_fe.drop(['u', 'g', 'r', 'i', 'z'], axis=1, inplace=True)\n",
    "sdss_df_fe.head()\n",
    "\n",
    "X = sdss_data.drop(['class'], axis=1)\n",
    "y = sdss_data['class']\n",
    "\n",
    "class_names = [\"GALAXY\", \"QSO\", \"STAR\"]\n",
    "\n",
    "std_scaler = StandardScaler()\n",
    "X_train, X_test, y_train, y_test = train_test_split(X, y, random_state=42)\n",
    "\n",
    "X_test = std_scaler.fit_transform(X_test.astype(np.float64))\n",
    "X_train = std_scaler.fit_transform(X_train.astype(np.float64))"
   ]
  },
  {
   "cell_type": "markdown",
   "metadata": {},
   "source": [
    "## Optimize"
   ]
  },
  {
   "cell_type": "code",
   "execution_count": 3,
   "metadata": {
    "ExecuteTime": {
     "end_time": "2019-05-12T09:52:46.542377Z",
     "start_time": "2019-05-12T08:12:20.076754Z"
    },
    "scrolled": true
   },
   "outputs": [
    {
     "name": "stdout",
     "output_type": "stream",
     "text": [
      "Types [1, 2, 1, 1, 2, 1, 1, 2, 1, 1, 1, 1, 1] and maxint [0, 29, 31, 6, 29, 1, 1, 0, 3, 1, 0, 0, 0] detected\n",
      "--- Evolve in 6451200 possible combinations ---\n",
      "gen\tnevals\tavg     \tmin     \tmax \tstd     \n",
      "0  \t50    \t0.612949\t0.148533\t0.99\t0.233136\n",
      "1  \t26    \t0.796827\t0.148533\t0.99\t0.184373\n",
      "2  \t28    \t0.928859\t0.522267\t0.99\t0.0932576\n",
      "3  \t29    \t0.978093\t0.785867\t0.990267\t0.0297326\n",
      "4  \t32    \t0.954104\t0.418667\t0.990267\t0.10188  \n",
      "5  \t35    \t0.966219\t0.148533\t0.990667\t0.118927 \n",
      "6  \t27    \t0.947133\t0.276933\t0.990667\t0.13021  \n",
      "7  \t30    \t0.979464\t0.500267\t0.990667\t0.0684703\n",
      "8  \t20    \t0.965251\t0.500267\t0.990667\t0.101702 \n",
      "9  \t32    \t0.990317\t0.984133\t0.990667\t0.00102342\n",
      "10 \t33    \t0.968789\t0.501067\t0.990667\t0.0917185 \n",
      "11 \t27    \t0.9838  \t0.735067\t0.990667\t0.0375221 \n",
      "12 \t33    \t0.976803\t0.500267\t0.990667\t0.072081  \n",
      "13 \t36    \t0.969707\t0.500267\t0.990667\t0.0962521 \n",
      "14 \t25    \t0.980859\t0.500267\t0.990667\t0.068656  \n",
      "15 \t32    \t0.973131\t0.505867\t0.990667\t0.0837829 \n",
      "16 \t34    \t0.979203\t0.500267\t0.990667\t0.0693503 \n",
      "17 \t35    \t0.958581\t0.443867\t0.990667\t0.121187  \n",
      "18 \t34    \t0.982421\t0.5784  \t0.990667\t0.0577173 \n",
      "19 \t21    \t0.990667\t0.990667\t0.990667\t1.11022e-16\n",
      "20 \t27    \t0.976512\t0.501067\t0.990667\t0.0706188  \n",
      "21 \t34    \t0.966384\t0.500267\t0.990667\t0.098032   \n",
      "22 \t29    \t0.964288\t0.500267\t0.990667\t0.10588    \n",
      "23 \t25    \t0.990659\t0.990267\t0.990667\t5.6e-05    \n",
      "24 \t26    \t0.989243\t0.925867\t0.990667\t0.00907731 \n",
      "25 \t30    \t0.979072\t0.500267\t0.990667\t0.0694544  \n",
      "26 \t31    \t0.990539\t0.984267\t0.990667\t0.000896   \n",
      "27 \t23    \t0.967933\t0.500267\t0.990667\t0.097847   \n",
      "28 \t34    \t0.964349\t0.500267\t0.990667\t0.100149   \n",
      "29 \t25    \t0.976773\t0.501067\t0.990667\t0.0731796  \n",
      "30 \t23    \t0.98256 \t0.666667\t0.990667\t0.0460594  \n",
      "31 \t28    \t0.973043\t0.500267\t0.990667\t0.0856409  \n",
      "32 \t32    \t0.971675\t0.500267\t0.990667\t0.092753   \n",
      "33 \t24    \t0.990667\t0.990667\t0.990667\t1.11022e-16\n",
      "34 \t38    \t0.990584\t0.986533\t0.990667\t0.000578667\n",
      "35 \t34    \t0.986104\t0.801333\t0.990667\t0.0269188  \n",
      "36 \t31    \t0.973272\t0.500267\t0.990667\t0.0856795  \n",
      "37 \t35    \t0.990533\t0.986933\t0.990667\t0.000658078\n",
      "38 \t35    \t0.988573\t0.909733\t0.990667\t0.0113852  \n",
      "39 \t26    \t0.980699\t0.500267\t0.990667\t0.0686423  \n",
      "40 \t31    \t0.975264\t0.500267\t0.990667\t0.0777529  \n",
      "Best individual is: {'kernel': 'poly', 'C': 788.0462815669937, 'gamma': 0.0004893900918477499, 'degree': 4, 'coef0': 22.122162910704503, 'shrinking': False, 'probability': False, 'tol': 0.001, 'cache_size': 50, 'class_weight': None, 'verbose': False, 'max_iter': 100000, 'random_state': 42}\n",
      "with fitness: 0.9906666666666667\n"
     ]
    }
   ],
   "source": [
    "from evolutionary_search import EvolutionaryAlgorithmSearchCV\n",
    "import random\n",
    "\n",
    "\n",
    "from sklearn.svm import SVC\n",
    "from sklearn.model_selection import StratifiedKFold\n",
    "\n",
    "gamma_arr = [\"auto\", \"scale\"]\n",
    "gamma_arr.extend(np.logspace(-9, 6, num=30, base=10).tolist())\n",
    "\n",
    "paramgrid = {\"kernel\": [\"poly\"],\n",
    "             \"C\": np.logspace(-9, 6, num=30, base=10),\n",
    "             \"gamma\": gamma_arr,\n",
    "             \"degree\": range(3, 10),\n",
    "             \"coef0\": np.logspace(-9, 6, num=30, base=10),\n",
    "             \"shrinking\": [True, False],\n",
    "             \"probability\": [False, True],\n",
    "             \"tol\": [0.001],\n",
    "             \"cache_size\": [20, 50, 100, 200],\n",
    "             \"class_weight\": [None, \"balanced\"],\n",
    "             \"verbose\": [False],\n",
    "             \"max_iter\": [100000],\n",
    "             \"random_state\": [42]\n",
    "             }\n",
    "\n",
    "random.seed(1)\n",
    "\n",
    "cv = EvolutionaryAlgorithmSearchCV(estimator=SVC(),\n",
    "                                   params=paramgrid,\n",
    "                                   scoring=\"accuracy\",\n",
    "                                   cv=StratifiedKFold(n_splits=5),\n",
    "                                   verbose=1,\n",
    "                                   population_size=50,\n",
    "                                   gene_mutation_prob=0.10,\n",
    "                                   gene_crossover_prob=0.5,\n",
    "                                   tournament_size=3,\n",
    "                                   generations_number=40,\n",
    "                                   n_jobs=8,\n",
    "                                   error_score=0.0)\n",
    "\n",
    "with warnings.catch_warnings():\n",
    "    warnings.simplefilter(\"ignore\")\n",
    "    result = cv.fit(X_train, y_train)"
   ]
  },
  {
   "cell_type": "code",
   "execution_count": 4,
   "metadata": {
    "ExecuteTime": {
     "end_time": "2019-05-12T09:55:37.618184Z",
     "start_time": "2019-05-12T09:55:04.475380Z"
    },
    "scrolled": true
   },
   "outputs": [
    {
     "name": "stdout",
     "output_type": "stream",
     "text": [
      "==========================================================\n",
      "==========================================================\n",
      "Data Set Type:  Standard Scaled\n",
      "poly-kernel-SVC\n",
      "[0.99067288 0.98667555 0.99333333 0.99199466 0.99066044]\n",
      "Accuracy: 0.991 (+/- 0.004)\n",
      "poly-kernel-SVC :\n",
      " [[1226    4   16]\n",
      " [   7  235    0]\n",
      " [   1    1 1010]]\n",
      "              precision    recall  f1-score   support\n",
      "\n",
      "      GALAXY       0.99      0.98      0.99      1246\n",
      "         QSO       0.98      0.97      0.98       242\n",
      "        STAR       0.98      1.00      0.99      1012\n",
      "\n",
      "   micro avg       0.99      0.99      0.99      2500\n",
      "   macro avg       0.99      0.98      0.98      2500\n",
      "weighted avg       0.99      0.99      0.99      2500\n",
      "\n",
      "\n",
      "\n",
      "By Acc:\n",
      "poly-kernel-SVC 0.9906673742225367\n",
      "\n",
      "\n",
      "By Precision(avg=micro):\n",
      "poly-kernel-SVC 0.9884\n",
      "\n",
      "\n",
      "By Recall(avg=micro):\n",
      "poly-kernel-SVC 0.9884\n",
      "\n",
      "\n",
      "By F1(avg=micro):\n",
      "poly-kernel-SVC 0.9884\n",
      "\n",
      "\n",
      "By Precision(avg=macro):\n",
      "poly-kernel-SVC 0.985696380861512\n",
      "\n",
      "\n",
      "By Recall(avg=macro):\n",
      "poly-kernel-SVC 0.9843489104047792\n",
      "\n",
      "\n",
      "By F1(avg=macro):\n",
      "poly-kernel-SVC 0.9849937411463898\n",
      "\n",
      "\n",
      "poly-kernel-SVC\n",
      "{'QSO': 0.9844300155919449, 'STAR': 0.9936355136214884, 'GALAXY': 0.9887845251535377}\n",
      "\n",
      "\n"
     ]
    },
    {
     "data": {
      "image/png": "[encoded data removed]",
      "text/plain": [
       "<Figure size 720x504 with 2 Axes>"
      ]
     },
     "metadata": {
      "needs_background": "light"
     },
     "output_type": "display_data"
    }
   ],
   "source": [
    "best_indiv = SVC(kernel='poly',\n",
    "                 C=788.0462815669937,\n",
    "                 gamma=0.0004893900918477499, \n",
    "                 degree=4,\n",
    "                 coef0=22.122162910704503, \n",
    "                 shrinking=False,\n",
    "                 probability=False, \n",
    "                 tol=0.001, \n",
    "                 cache_size=50,\n",
    "                 class_weight=None, \n",
    "                 verbose=False, \n",
    "                 max_iter=100000, \n",
    "                 random_state=42)\n",
    "\n",
    "\n",
    "clf_names = [\"poly-kernel-SVC\"]\n",
    "class_names = [\"GALAXY\", \"QSO\", \"STAR\"]\n",
    "\n",
    "clfs = [best_indiv]\n",
    "data_sets = []\n",
    "std_scaled_set = DataSet(\"Standard Scaled\", X_train, y_train, X_test, y_test)\n",
    "data_sets.append(std_scaled_set)\n",
    "\n",
    "with warnings.catch_warnings():\n",
    "    warnings.simplefilter(\"ignore\")\n",
    "    helpers.learning_loop_for_sets(clfs, clf_names, class_names, data_sets)\n",
    "\n"
   ]
  },
  {
   "cell_type": "code",
   "execution_count": null,
   "metadata": {},
   "outputs": [],
   "source": []
  }
 ],
 "metadata": {
  "hide_input": false,
  "kernelspec": {
   "display_name": "Python3 (deep)",
   "language": "python",
   "name": "deep"
  },
  "language_info": {
   "codemirror_mode": {
    "name": "ipython",
    "version": 3
   },
   "file_extension": ".py",
   "mimetype": "text/x-python",
   "name": "python",
   "nbconvert_exporter": "python",
   "pygments_lexer": "ipython3",
   "version": "3.6.8"
  },
  "toc": {
   "base_numbering": 1,
   "nav_menu": {},
   "number_sections": true,
   "sideBar": true,
   "skip_h1_title": false,
   "title_cell": "Table of Contents",
   "title_sidebar": "Contents",
   "toc_cell": false,
   "toc_position": {},
   "toc_section_display": true,
   "toc_window_display": false
  }
 },
 "nbformat": 4,
 "nbformat_minor": 2
}
