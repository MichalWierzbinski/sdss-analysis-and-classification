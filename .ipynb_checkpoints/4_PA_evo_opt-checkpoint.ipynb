{
 "cells": [
  {
   "cell_type": "markdown",
   "metadata": {},
   "source": [
    "# Genetic optimization of Logistic Regression classifier for the SDSS data"
   ]
  },
  {
   "cell_type": "markdown",
   "metadata": {},
   "source": [
    "## Load data"
   ]
  },
  {
   "cell_type": "code",
   "execution_count": 2,
   "metadata": {
    "ExecuteTime": {
     "end_time": "2019-05-11T19:23:20.668698Z",
     "start_time": "2019-05-11T19:23:20.533018Z"
    }
   },
   "outputs": [
    {
     "name": "stdout",
     "output_type": "stream",
     "text": [
      "['objid' 'ra' 'dec' 'u' 'g' 'r' 'i' 'z' 'run' 'rerun' 'camcol' 'field'\n",
      " 'specobjid' 'class' 'redshift' 'plate' 'mjd' 'fiberid']\n"
     ]
    }
   ],
   "source": [
    "# To support both python 2 and python 3\n",
    "from __future__ import division, print_function, unicode_literals\n",
    "import warnings\n",
    "import helpers\n",
    "from helpers import DataSet\n",
    "import matplotlib as mpl\n",
    "import os\n",
    "import random\n",
    "\n",
    "# Common imports\n",
    "import pandas as pd\n",
    "import numpy as np\n",
    "import seaborn as sns\n",
    "\n",
    "# Imports for ML\n",
    "from sklearn.ensemble import RandomForestClassifier, VotingClassifier, BaggingClassifier, GradientBoostingClassifier, AdaBoostClassifier, ExtraTreesClassifier\n",
    "from sklearn.linear_model import LogisticRegression, SGDClassifier, PassiveAggressiveClassifier, RidgeClassifier\n",
    "from sklearn.svm import SVC, LinearSVC, NuSVC\n",
    "from sklearn.neighbors import KNeighborsClassifier\n",
    "from xgboost import XGBClassifier\n",
    "from sklearn.preprocessing import RobustScaler, StandardScaler, MaxAbsScaler\n",
    "from sklearn.model_selection import train_test_split, StratifiedKFold\n",
    "from sklearn.tree import DecisionTreeClassifier\n",
    "from sklearn.neural_network import MLPClassifier\n",
    "from sklearn.naive_bayes import GaussianNB, MultinomialNB\n",
    "from sklearn.discriminant_analysis import LinearDiscriminantAnalysis, QuadraticDiscriminantAnalysis\n",
    "from sklearn.decomposition import PCA\n",
    "\n",
    "# to make this notebook's output stable across runs\n",
    "np.random.seed(42)\n",
    "\n",
    "# To plot pretty figures\n",
    "%matplotlib inline\n",
    "mpl.rc('axes', labelsize=14)\n",
    "mpl.rc('xtick', labelsize=12)\n",
    "mpl.rc('ytick', labelsize=12)\n",
    "sns.set_style('whitegrid')\n",
    "\n",
    "# Where to save the figures\n",
    "PROJECT_ROOT_DIR = \".\"\n",
    "CHAPTER_ID = \"results\"\n",
    "IMAGES_PATH = os.path.join(PROJECT_ROOT_DIR, \"images\", CHAPTER_ID)\n",
    "\n",
    "# Helper functioins and structures\n",
    "# Ignore useless warnings (see SciPy issue #5998)\n",
    "warnings.filterwarnings(action=\"ignore\", message=\"^internal gelsd\")\n",
    "\n",
    "DATA_PATH = \"Skyserver_SQL2_27_2018 6_51_39 PM.csv\"\n",
    "RESULTS_FOLDER = \"results\"\n",
    "\n",
    "# We load the data. Those that have nothing to do with the features of the objects are ignored.\n",
    "sdss_data = pd.read_csv(DATA_PATH)\n",
    "\n",
    "# We have a general look at the features\n",
    "sdss_data.head(3)\n",
    "\n",
    "print(sdss_data.columns.values)\n",
    "sdss_data.drop(['objid', 'run', 'rerun', 'camcol', 'field',\n",
    "                'specobjid', 'fiberid', 'mjd', 'plate'], axis=1, inplace=True)\n",
    "sdss_data.head(1)\n",
    "\n",
    "sdss_df_fe = sdss_data\n",
    "\n",
    "# Principal Component Analysis\n",
    "pca = PCA(n_components=3)\n",
    "ugriz = pca.fit_transform(sdss_df_fe[['u', 'g', 'r', 'i', 'z']])\n",
    "\n",
    "# update dataframe \n",
    "sdss_df_fe = pd.concat((sdss_df_fe, pd.DataFrame(ugriz)), axis=1)\n",
    "sdss_df_fe.rename({0: 'PCA_1', 1: 'PCA_2', 2: 'PCA_3'}, axis=1, inplace = True)\n",
    "sdss_df_fe.drop(['u', 'g', 'r', 'i', 'z'], axis=1, inplace=True)\n",
    "sdss_df_fe.head()\n",
    "\n",
    "X = sdss_data.drop(['class'], axis=1)\n",
    "y = sdss_data['class']\n",
    "\n",
    "class_names = [\"GALAXY\", \"QSO\", \"STAR\"]\n",
    "\n",
    "std_scaler = StandardScaler()\n",
    "X_train, X_test, y_train, y_test = train_test_split(X, y, random_state=42)\n",
    "\n",
    "X_test = std_scaler.fit_transform(X_test.astype(np.float64))\n",
    "X_train = std_scaler.fit_transform(X_train.astype(np.float64))"
   ]
  },
  {
   "cell_type": "markdown",
   "metadata": {},
   "source": [
    "## Optimize"
   ]
  },
  {
   "cell_type": "code",
   "execution_count": 5,
   "metadata": {
    "ExecuteTime": {
     "end_time": "2019-05-11T19:25:49.328251Z",
     "start_time": "2019-05-11T19:24:08.641892Z"
    }
   },
   "outputs": [
    {
     "name": "stdout",
     "output_type": "stream",
     "text": [
      "Types [1, 1, 1, 1, 1, 1, 1, 1] and maxint [1, 1, 0, 0, 0, 0, 1, 11] detected\n"
     ]
    },
    {
     "name": "stderr",
     "output_type": "stream",
     "text": [
      "/home/ljosfer/anaconda3/envs/deep/lib/python3.6/site-packages/deap/creator.py:141: RuntimeWarning: A class named 'FitnessMax' has already been created and it will be overwritten. Consider deleting previous creation of that class or rename it.\n",
      "  RuntimeWarning)\n",
      "/home/ljosfer/anaconda3/envs/deep/lib/python3.6/site-packages/deap/creator.py:141: RuntimeWarning: A class named 'Individual' has already been created and it will be overwritten. Consider deleting previous creation of that class or rename it.\n",
      "  RuntimeWarning)\n"
     ]
    },
    {
     "name": "stdout",
     "output_type": "stream",
     "text": [
      "--- Evolve in 96 possible combinations ---\n",
      "gen\tnevals\tavg     \tmin     \tmax   \tstd       \n",
      "0  \t50    \t0.964296\t0.959067\t0.9744\t0.00353173\n",
      "1  \t37    \t0.96672 \t0.959067\t0.9744\t0.00320655\n",
      "2  \t32    \t0.968323\t0.964933\t0.9744\t0.00213967\n",
      "3  \t27    \t0.968768\t0.964933\t0.9744\t0.00254825\n",
      "4  \t34    \t0.970157\t0.964933\t0.9744\t0.00341049\n",
      "5  \t31    \t0.971656\t0.9612  \t0.9744\t0.0038055 \n",
      "6  \t35    \t0.97304 \t0.964933\t0.9744\t0.00292787\n",
      "7  \t26    \t0.973376\t0.964933\t0.9744\t0.00279434\n",
      "8  \t26    \t0.974229\t0.965867\t0.9744\t0.00119467\n",
      "9  \t26    \t0.974109\t0.967067\t0.9744\t0.00142403\n",
      "10 \t25    \t0.974093\t0.9664  \t0.9744\t0.00150383\n",
      "11 \t28    \t0.974083\t0.965867\t0.9744\t0.00155923\n",
      "12 \t28    \t0.974107\t0.967067\t0.9744\t0.00143703\n",
      "13 \t20    \t0.974253\t0.967067\t0.9744\t0.00102667\n",
      "14 \t16    \t0.974067\t0.964933\t0.9744\t0.00164865\n",
      "15 \t27    \t0.9744  \t0.9744  \t0.9744\t1.11022e-16\n",
      "16 \t31    \t0.973773\t0.964933\t0.9744\t0.00214186 \n",
      "17 \t24    \t0.973483\t0.959067\t0.9744\t0.00293583 \n",
      "18 \t24    \t0.973459\t0.959067\t0.9744\t0.00297992 \n",
      "19 \t33    \t0.974256\t0.9672  \t0.9744\t0.001008   \n",
      "20 \t34    \t0.974211\t0.964933\t0.9744\t0.00132533 \n",
      "Best individual is: {'loss': 'hinge', 'shuffle': False, 'n_jobs': 4, 'random_state': 42, 'early_stopping': True, 'warm_start': False, 'class_weight': 'balanced', 'average': False}\n",
      "with fitness: 0.9744\n"
     ]
    }
   ],
   "source": [
    "from evolutionary_search import EvolutionaryAlgorithmSearchCV\n",
    "\n",
    "paramgrid = {\n",
    "    \"loss\":[\"hinge\", \"squared_hinge\"],\n",
    "    \"shuffle\":[True, False], \n",
    "    \"n_jobs\":[4],\n",
    "    \"random_state\":[42],\n",
    "    \"early_stopping\":[True],\n",
    "    \"warm_start\":[False],\n",
    "    \"class_weight\":[None, \"balanced\"],\n",
    "    \"average\":[False, 1, 2, 4, 5, 6, 7, 10, 15, 20, 30, 50]\n",
    "}\n",
    "\n",
    "random.seed(1)\n",
    "\n",
    "cv = EvolutionaryAlgorithmSearchCV(estimator=PassiveAggressiveClassifier(),\n",
    "                                   params=paramgrid,\n",
    "                                   scoring=\"accuracy\",\n",
    "                                   cv=StratifiedKFold(n_splits=5),\n",
    "                                   verbose=1,\n",
    "                                   population_size=50,\n",
    "                                   gene_mutation_prob=0.10,\n",
    "                                   gene_crossover_prob=0.5,\n",
    "                                   tournament_size=3,\n",
    "                                   generations_number=20,\n",
    "                                   n_jobs=8,\n",
    "                                   error_score=0.0)\n",
    "\n",
    "with warnings.catch_warnings():\n",
    "    warnings.simplefilter(\"ignore\")\n",
    "    result = cv.fit(X_train, y_train)"
   ]
  },
  {
   "cell_type": "code",
   "execution_count": 6,
   "metadata": {
    "ExecuteTime": {
     "end_time": "2019-05-11T19:26:52.842076Z",
     "start_time": "2019-05-11T19:26:51.467946Z"
    },
    "scrolled": true
   },
   "outputs": [
    {
     "name": "stdout",
     "output_type": "stream",
     "text": [
      "==========================================================\n",
      "==========================================================\n",
      "Data Set Type:  Standard Scaled\n",
      "PassiveAggressiveClassifier\n",
      "[0.97468354 0.97001999 0.98466667 0.97998666 0.96264176]\n",
      "Accuracy: 0.974 (+/- 0.015)\n",
      "PassiveAggressiveClassifier :\n",
      " [[1106    8  132]\n",
      " [  11  231    0]\n",
      " [ 128    1  883]]\n",
      "              precision    recall  f1-score   support\n",
      "\n",
      "      GALAXY       0.89      0.89      0.89      1246\n",
      "         QSO       0.96      0.95      0.96       242\n",
      "        STAR       0.87      0.87      0.87      1012\n",
      "\n",
      "   micro avg       0.89      0.89      0.89      2500\n",
      "   macro avg       0.91      0.90      0.91      2500\n",
      "weighted avg       0.89      0.89      0.89      2500\n",
      "\n",
      "\n",
      "\n",
      "By Acc:\n",
      "PassiveAggressiveClassifier 0.9743997233183956\n",
      "\n",
      "\n",
      "By Precision(avg=micro):\n",
      "PassiveAggressiveClassifier 0.888\n",
      "\n",
      "\n",
      "By Recall(avg=micro):\n",
      "PassiveAggressiveClassifier 0.888\n",
      "\n",
      "\n",
      "By F1(avg=micro):\n",
      "PassiveAggressiveClassifier 0.888\n",
      "\n",
      "\n",
      "By Precision(avg=macro):\n",
      "PassiveAggressiveClassifier 0.9069347175236248\n",
      "\n",
      "\n",
      "By Recall(avg=macro):\n",
      "PassiveAggressiveClassifier 0.9049051827508104\n",
      "\n",
      "\n",
      "By F1(avg=macro):\n",
      "PassiveAggressiveClassifier 0.9059137652272925\n",
      "\n",
      "\n",
      "PassiveAggressiveClassifier\n",
      "{'QSO': 0.9752798131894678, 'GALAXY': 0.8883975771911904, 'STAR': 0.8919099834247098}\n",
      "\n",
      "\n"
     ]
    },
    {
     "data": {
      "image/png": "[encoded data removed]",
      "text/plain": [
       "<Figure size 720x504 with 2 Axes>"
      ]
     },
     "metadata": {},
     "output_type": "display_data"
    }
   ],
   "source": [
    "best_indiv = PassiveAggressiveClassifier(loss= 'hinge', \n",
    "                                         shuffle= False, \n",
    "                                         n_jobs= 4, \n",
    "                                         random_state= 42,\n",
    "                                         early_stopping= True,\n",
    "                                         warm_start= False, \n",
    "                                         class_weight= 'balanced', \n",
    "                                         average= False)\n",
    "\n",
    "clf_names = [\"PassiveAggressiveClassifier\"]\n",
    "class_names = [\"GALAXY\", \"QSO\", \"STAR\"]\n",
    "\n",
    "clfs = [best_indiv]\n",
    "data_sets = []\n",
    "std_scaled_set = DataSet(\"Standard Scaled\", X_train, y_train, X_test, y_test)\n",
    "data_sets.append(std_scaled_set)\n",
    "\n",
    "with warnings.catch_warnings():\n",
    "    warnings.simplefilter(\"ignore\")\n",
    "    helpers.learning_loop_for_sets(clfs, clf_names, class_names, data_sets)"
   ]
  },
  {
   "cell_type": "code",
   "execution_count": null,
   "metadata": {},
   "outputs": [],
   "source": []
  }
 ],
 "metadata": {
  "hide_input": false,
  "kernelspec": {
   "display_name": "Python3 (deep)",
   "language": "python",
   "name": "deep"
  },
  "language_info": {
   "codemirror_mode": {
    "name": "ipython",
    "version": 3
   },
   "file_extension": ".py",
   "mimetype": "text/x-python",
   "name": "python",
   "nbconvert_exporter": "python",
   "pygments_lexer": "ipython3",
   "version": "3.6.8"
  },
  "toc": {
   "base_numbering": 1,
   "nav_menu": {},
   "number_sections": true,
   "sideBar": true,
   "skip_h1_title": false,
   "title_cell": "Table of Contents",
   "title_sidebar": "Contents",
   "toc_cell": false,
   "toc_position": {},
   "toc_section_display": true,
   "toc_window_display": false
  }
 },
 "nbformat": 4,
 "nbformat_minor": 2
}
