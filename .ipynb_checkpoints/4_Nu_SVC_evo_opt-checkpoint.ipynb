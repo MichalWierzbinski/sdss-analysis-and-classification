{
 "cells": [
  {
   "cell_type": "markdown",
   "metadata": {},
   "source": [
    "# Genetic optimization of Nu-SVM classifier for the SDSS data"
   ]
  },
  {
   "cell_type": "markdown",
   "metadata": {},
   "source": [
    "## Load data"
   ]
  },
  {
   "cell_type": "code",
   "execution_count": 1,
   "metadata": {
    "ExecuteTime": {
     "end_time": "2019-05-12T08:15:59.225421Z",
     "start_time": "2019-05-12T08:15:58.389448Z"
    }
   },
   "outputs": [
    {
     "name": "stdout",
     "output_type": "stream",
     "text": [
      "['objid' 'ra' 'dec' 'u' 'g' 'r' 'i' 'z' 'run' 'rerun' 'camcol' 'field'\n",
      " 'specobjid' 'class' 'redshift' 'plate' 'mjd' 'fiberid']\n"
     ]
    }
   ],
   "source": [
    "# To support both python 2 and python 3\n",
    "from __future__ import division, print_function, unicode_literals\n",
    "import warnings\n",
    "import helpers\n",
    "from helpers import DataSet\n",
    "import matplotlib as mpl\n",
    "import os\n",
    "import random\n",
    "\n",
    "# Common imports\n",
    "import pandas as pd\n",
    "import numpy as np\n",
    "import seaborn as sns\n",
    "\n",
    "# Imports for ML\n",
    "from sklearn.ensemble import RandomForestClassifier, VotingClassifier, BaggingClassifier, GradientBoostingClassifier, AdaBoostClassifier, ExtraTreesClassifier\n",
    "from sklearn.linear_model import LogisticRegression, SGDClassifier, PassiveAggressiveClassifier, RidgeClassifier\n",
    "from sklearn.svm import SVC, LinearSVC, NuSVC\n",
    "from sklearn.neighbors import KNeighborsClassifier\n",
    "from xgboost import XGBClassifier\n",
    "from sklearn.preprocessing import RobustScaler, StandardScaler, MaxAbsScaler\n",
    "from sklearn.model_selection import train_test_split, StratifiedKFold\n",
    "from sklearn.tree import DecisionTreeClassifier\n",
    "from sklearn.neural_network import MLPClassifier\n",
    "from sklearn.naive_bayes import GaussianNB, MultinomialNB\n",
    "from sklearn.discriminant_analysis import LinearDiscriminantAnalysis, QuadraticDiscriminantAnalysis\n",
    "from sklearn.decomposition import PCA\n",
    "\n",
    "# to make this notebook's output stable across runs\n",
    "np.random.seed(42)\n",
    "\n",
    "# To plot pretty figures\n",
    "%matplotlib inline\n",
    "mpl.rc('axes', labelsize=14)\n",
    "mpl.rc('xtick', labelsize=12)\n",
    "mpl.rc('ytick', labelsize=12)\n",
    "sns.set_style('whitegrid')\n",
    "\n",
    "# Where to save the figures\n",
    "PROJECT_ROOT_DIR = \".\"\n",
    "CHAPTER_ID = \"results\"\n",
    "IMAGES_PATH = os.path.join(PROJECT_ROOT_DIR, \"images\", CHAPTER_ID)\n",
    "\n",
    "# Helper functioins and structures\n",
    "# Ignore useless warnings (see SciPy issue #5998)\n",
    "warnings.filterwarnings(action=\"ignore\", message=\"^internal gelsd\")\n",
    "\n",
    "DATA_PATH = \"Skyserver_SQL2_27_2018 6_51_39 PM.csv\"\n",
    "RESULTS_FOLDER = \"results\"\n",
    "\n",
    "# We load the data. Those that have nothing to do with the features of the objects are ignored.\n",
    "sdss_data = pd.read_csv(DATA_PATH)\n",
    "\n",
    "# We have a general look at the features\n",
    "sdss_data.head(3)\n",
    "\n",
    "print(sdss_data.columns.values)\n",
    "sdss_data.drop(['objid', 'run', 'rerun', 'camcol', 'field',\n",
    "                'specobjid', 'fiberid', 'mjd', 'plate'], axis=1, inplace=True)\n",
    "sdss_data.head(1)\n",
    "\n",
    "sdss_df_fe = sdss_data\n",
    "\n",
    "# Principal Component Analysis\n",
    "pca = PCA(n_components=3)\n",
    "ugriz = pca.fit_transform(sdss_df_fe[['u', 'g', 'r', 'i', 'z']])\n",
    "\n",
    "# update dataframe \n",
    "sdss_df_fe = pd.concat((sdss_df_fe, pd.DataFrame(ugriz)), axis=1)\n",
    "sdss_df_fe.rename({0: 'PCA_1', 1: 'PCA_2', 2: 'PCA_3'}, axis=1, inplace = True)\n",
    "sdss_df_fe.drop(['u', 'g', 'r', 'i', 'z'], axis=1, inplace=True)\n",
    "sdss_df_fe.head()\n",
    "\n",
    "X = sdss_data.drop(['class'], axis=1)\n",
    "y = sdss_data['class']\n",
    "\n",
    "class_names = [\"GALAXY\", \"QSO\", \"STAR\"]\n",
    "\n",
    "std_scaler = StandardScaler()\n",
    "X_train, X_test, y_train, y_test = train_test_split(X, y, random_state=42)\n",
    "\n",
    "X_test = std_scaler.fit_transform(X_test.astype(np.float64))\n",
    "X_train = std_scaler.fit_transform(X_train.astype(np.float64))"
   ]
  },
  {
   "cell_type": "markdown",
   "metadata": {},
   "source": [
    "## Optimize"
   ]
  },
  {
   "cell_type": "code",
   "execution_count": 4,
   "metadata": {
    "ExecuteTime": {
     "end_time": "2019-05-12T08:40:21.285085Z",
     "start_time": "2019-05-12T08:17:42.872934Z"
    },
    "scrolled": true
   },
   "outputs": [
    {
     "name": "stdout",
     "output_type": "stream",
     "text": [
      "Types [2, 1, 1, 1, 2, 1, 1, 2, 1, 1, 1, 1, 1] and maxint [29, 3, 31, 6, 29, 1, 1, 0, 3, 1, 0, 0, 0] detected\n"
     ]
    },
    {
     "name": "stderr",
     "output_type": "stream",
     "text": [
      "/home/ljosfer/anaconda3/envs/deep/lib/python3.6/site-packages/deap/creator.py:141: RuntimeWarning: A class named 'FitnessMax' has already been created and it will be overwritten. Consider deleting previous creation of that class or rename it.\n",
      "  RuntimeWarning)\n",
      "/home/ljosfer/anaconda3/envs/deep/lib/python3.6/site-packages/deap/creator.py:141: RuntimeWarning: A class named 'Individual' has already been created and it will be overwritten. Consider deleting previous creation of that class or rename it.\n",
      "  RuntimeWarning)\n"
     ]
    },
    {
     "name": "stdout",
     "output_type": "stream",
     "text": [
      "--- Evolve in 25804800 possible combinations ---\n",
      "gen\tnevals\tavg     \tmin\tmax     \tstd     \n",
      "0  \t50    \t0.255664\t0  \t0.985867\t0.274058\n",
      "1  \t26    \t0.531741\t0  \t0.985867\t0.201299\n",
      "2  \t36    \t0.657339\t0.2844\t0.986533\t0.183628\n",
      "3  \t38    \t0.774709\t0.4532\t0.986533\t0.16568 \n",
      "4  \t27    \t0.883485\t0     \t0.986533\t0.17463 \n",
      "5  \t28    \t0.945867\t0     \t0.986533\t0.147612\n",
      "6  \t33    \t0.980525\t0.691467\t0.986533\t0.0412948\n",
      "7  \t32    \t0.955445\t0       \t0.986533\t0.157949 \n",
      "8  \t30    \t0.98652 \t0.985867\t0.986533\t9.33333e-05\n",
      "9  \t25    \t0.955499\t0       \t0.986533\t0.153597   \n",
      "10 \t32    \t0.945267\t0       \t0.986533\t0.173973   \n",
      "11 \t24    \t0.940251\t0       \t0.986533\t0.195969   \n",
      "12 \t27    \t0.945133\t0       \t0.986533\t0.182318   \n",
      "13 \t35    \t0.952603\t0       \t0.986533\t0.152328   \n",
      "14 \t27    \t0.986507\t0.985867\t0.986533\t0.000130639\n",
      "15 \t32    \t0.945925\t0       \t0.986533\t0.169554   \n",
      "16 \t27    \t0.95184 \t0       \t0.986533\t0.156514   \n",
      "17 \t39    \t0.946837\t0       \t0.986533\t0.193279   \n",
      "18 \t30    \t0.979592\t0.6672  \t0.986533\t0.0447959  \n",
      "19 \t33    \t0.966803\t0       \t0.986533\t0.138115   \n",
      "20 \t34    \t0.976808\t0.500267\t0.986533\t0.0680773  \n",
      "21 \t31    \t0.930416\t0       \t0.986533\t0.222602   \n",
      "22 \t31    \t0.975555\t0.6624  \t0.986533\t0.0546939  \n",
      "23 \t27    \t0.960317\t0       \t0.986533\t0.140743   \n",
      "24 \t28    \t0.986483\t0.984667\t0.986533\t0.0002757  \n",
      "25 \t39    \t0.966803\t0       \t0.986533\t0.138115   \n",
      "26 \t22    \t0.986533\t0.986533\t0.986533\t0          \n",
      "27 \t30    \t0.986283\t0.974667\t0.986533\t0.00166205 \n",
      "28 \t36    \t0.971611\t0.5776  \t0.986533\t0.0722786  \n",
      "29 \t24    \t0.971904\t0.5132  \t0.986533\t0.07483    \n",
      "30 \t33    \t0.945437\t0       \t0.986533\t0.170978   \n",
      "31 \t34    \t0.979909\t0.6672  \t0.986533\t0.0447036  \n",
      "32 \t35    \t0.960728\t0       \t0.986533\t0.143653   \n",
      "33 \t35    \t0.981371\t0.7284  \t0.986533\t0.0361387  \n",
      "34 \t30    \t0.930032\t0       \t0.986533\t0.224127   \n",
      "35 \t28    \t0.97876 \t0.609733\t0.986533\t0.0527443  \n",
      "36 \t35    \t0.946005\t0.1352  \t0.986533\t0.171593   \n",
      "37 \t31    \t0.917752\t0       \t0.986533\t0.231728   \n",
      "38 \t28    \t0.932501\t0       \t0.987067\t0.200114   \n",
      "39 \t32    \t0.986565\t0.986533\t0.987067\t0.00012666 \n",
      "40 \t25    \t0.956984\t0.331733\t0.987067\t0.121802   \n",
      "Best individual is: {'nu': 0.01743328822199991, 'kernel': 'rbf', 'gamma': 0.01743328822199991, 'degree': 7, 'coef0': 4.5203536563602496e-05, 'shrinking': True, 'probability': True, 'tol': 0.001, 'cache_size': 20, 'class_weight': 'balanced', 'verbose': False, 'max_iter': 100000, 'random_state': 42}\n",
      "with fitness: 0.9870666666666666\n"
     ]
    }
   ],
   "source": [
    "from evolutionary_search import EvolutionaryAlgorithmSearchCV\n",
    "\n",
    "gamma_arr = [\"auto\", \"scale\"]\n",
    "gamma_arr.extend(np.logspace(-9, 6, num=30, base=10).tolist())\n",
    "\n",
    "paramgrid = {\"nu\": np.logspace(-9, 6, num=30, base=10),\n",
    "             \"kernel\": [\"rbf\",\"poly\",\"sigmoid\", \"linear\"],\n",
    "             \"gamma\": gamma_arr,\n",
    "             \"degree\": range(3,10),\n",
    "             \"coef0\": np.logspace(-9, 6, num=30, base=10),\n",
    "             \"shrinking\": [True, False],\n",
    "             \"probability\": [False, True],\n",
    "             \"tol\": [0.001],\n",
    "             \"cache_size\": [20, 50, 100, 200],\n",
    "             \"class_weight\": [None, \"balanced\"],\n",
    "             \"verbose\": [False],\n",
    "             \"max_iter\": [100000],\n",
    "             \"random_state\": [42]\n",
    "             }\n",
    "\n",
    "random.seed(1)\n",
    "\n",
    "cv = EvolutionaryAlgorithmSearchCV(estimator=NuSVC(),\n",
    "                                   params=paramgrid,\n",
    "                                   scoring=\"accuracy\",\n",
    "                                   cv=StratifiedKFold(n_splits=5),\n",
    "                                   verbose=1,\n",
    "                                   population_size=50,\n",
    "                                   gene_mutation_prob=0.10,\n",
    "                                   gene_crossover_prob=0.5,\n",
    "                                   tournament_size=3,\n",
    "                                   generations_number=40,\n",
    "                                   n_jobs=8,\n",
    "                                   error_score=0.0)\n",
    "\n",
    "with warnings.catch_warnings():\n",
    "    warnings.simplefilter(\"ignore\")\n",
    "    result = cv.fit(X_train, y_train)"
   ]
  },
  {
   "cell_type": "code",
   "execution_count": 5,
   "metadata": {
    "ExecuteTime": {
     "end_time": "2019-05-12T08:43:29.935473Z",
     "start_time": "2019-05-12T08:43:25.654875Z"
    },
    "scrolled": true
   },
   "outputs": [
    {
     "name": "stdout",
     "output_type": "stream",
     "text": [
      "==========================================================\n",
      "==========================================================\n",
      "Data Set Type:  Standard Scaled\n",
      "NuSVC\n",
      "[0.98934044 0.98201199 0.98866667 0.98999333 0.98532355]\n",
      "Accuracy: 0.987 (+/- 0.006)\n",
      "NuSVC :\n",
      " [[1214    4   28]\n",
      " [   7  235    0]\n",
      " [  35    1  976]]\n",
      "              precision    recall  f1-score   support\n",
      "\n",
      "      GALAXY       0.97      0.97      0.97      1246\n",
      "         QSO       0.98      0.97      0.98       242\n",
      "        STAR       0.97      0.96      0.97      1012\n",
      "\n",
      "   micro avg       0.97      0.97      0.97      2500\n",
      "   macro avg       0.97      0.97      0.97      2500\n",
      "weighted avg       0.97      0.97      0.97      2500\n",
      "\n",
      "\n",
      "\n",
      "By Acc:\n",
      "NuSVC 0.9870671952594942\n",
      "\n",
      "\n",
      "By Precision(avg=micro):\n",
      "NuSVC 0.97\n",
      "\n",
      "\n",
      "By Recall(avg=micro):\n",
      "NuSVC 0.97\n",
      "\n",
      "\n",
      "By F1(avg=micro):\n",
      "NuSVC 0.97\n",
      "\n",
      "\n",
      "By Precision(avg=macro):\n",
      "NuSVC 0.9726129100018891\n",
      "\n",
      "\n",
      "By Recall(avg=macro):\n",
      "NuSVC 0.9699396915500303\n",
      "\n",
      "\n",
      "By F1(avg=macro):\n",
      "NuSVC 0.9712604545883151\n",
      "\n",
      "\n",
      "NuSVC\n",
      "{'GALAXY': 0.9704124970239696, 'QSO': 0.9844300155919449, 'STAR': 0.9728048365846402}\n",
      "\n",
      "\n"
     ]
    },
    {
     "data": {
      "image/png": "[encoded data removed]",
      "text/plain": [
       "<Figure size 720x504 with 2 Axes>"
      ]
     },
     "metadata": {
      "needs_background": "light"
     },
     "output_type": "display_data"
    }
   ],
   "source": [
    "best_indiv = NuSVC(nu=0.01743328822199991,\n",
    "                   kernel=\"rbf\",\n",
    "                   gamma=0.01743328822199991, \n",
    "                   degree=7,\n",
    "                   coef0=4.5203536563602496e-05, \n",
    "                   shrinking=True,\n",
    "                   probability=True,\n",
    "                   tol=0.001,\n",
    "                   cache_size=20, \n",
    "                   class_weight=\"balanced\",\n",
    "                   verbose=False,\n",
    "                   max_iter=100000,\n",
    "                   random_state=42)\n",
    "\n",
    "clf_names = [\"NuSVC\"]\n",
    "class_names = [\"GALAXY\", \"QSO\", \"STAR\"]\n",
    "\n",
    "clfs = [best_indiv]\n",
    "data_sets = []\n",
    "std_scaled_set = DataSet(\"Standard Scaled\", X_train, y_train, X_test, y_test)\n",
    "data_sets.append(std_scaled_set)\n",
    "\n",
    "with warnings.catch_warnings():\n",
    "    warnings.simplefilter(\"ignore\")\n",
    "    helpers.learning_loop_for_sets(clfs, clf_names, class_names, data_sets)"
   ]
  },
  {
   "cell_type": "code",
   "execution_count": null,
   "metadata": {},
   "outputs": [],
   "source": []
  }
 ],
 "metadata": {
  "hide_input": false,
  "kernelspec": {
   "display_name": "Python3 (deep)",
   "language": "python",
   "name": "deep"
  },
  "language_info": {
   "codemirror_mode": {
    "name": "ipython",
    "version": 3
   },
   "file_extension": ".py",
   "mimetype": "text/x-python",
   "name": "python",
   "nbconvert_exporter": "python",
   "pygments_lexer": "ipython3",
   "version": "3.6.8"
  },
  "toc": {
   "base_numbering": 1,
   "nav_menu": {},
   "number_sections": true,
   "sideBar": true,
   "skip_h1_title": false,
   "title_cell": "Table of Contents",
   "title_sidebar": "Contents",
   "toc_cell": false,
   "toc_position": {},
   "toc_section_display": true,
   "toc_window_display": false
  }
 },
 "nbformat": 4,
 "nbformat_minor": 2
}
