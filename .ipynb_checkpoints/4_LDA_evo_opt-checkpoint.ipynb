{
 "cells": [
  {
   "cell_type": "markdown",
   "metadata": {},
   "source": [
    "# Genetic optimization of LDA classifier for the SDSS data"
   ]
  },
  {
   "cell_type": "markdown",
   "metadata": {},
   "source": [
    "## Load data"
   ]
  },
  {
   "cell_type": "code",
   "execution_count": 1,
   "metadata": {
    "ExecuteTime": {
     "end_time": "2019-05-12T07:41:51.850048Z",
     "start_time": "2019-05-12T07:41:50.799405Z"
    }
   },
   "outputs": [
    {
     "name": "stdout",
     "output_type": "stream",
     "text": [
      "['objid' 'ra' 'dec' 'u' 'g' 'r' 'i' 'z' 'run' 'rerun' 'camcol' 'field'\n",
      " 'specobjid' 'class' 'redshift' 'plate' 'mjd' 'fiberid']\n"
     ]
    }
   ],
   "source": [
    "# To support both python 2 and python 3\n",
    "from __future__ import division, print_function, unicode_literals\n",
    "import warnings\n",
    "import helpers\n",
    "from helpers import DataSet\n",
    "import matplotlib as mpl\n",
    "import os\n",
    "import random\n",
    "\n",
    "# Common imports\n",
    "import pandas as pd\n",
    "import numpy as np\n",
    "import seaborn as sns\n",
    "\n",
    "# Imports for ML\n",
    "from sklearn.ensemble import RandomForestClassifier, VotingClassifier, BaggingClassifier, GradientBoostingClassifier, AdaBoostClassifier, ExtraTreesClassifier\n",
    "from sklearn.linear_model import LogisticRegression, SGDClassifier, PassiveAggressiveClassifier, RidgeClassifier\n",
    "from sklearn.svm import SVC, LinearSVC, NuSVC\n",
    "from sklearn.neighbors import KNeighborsClassifier\n",
    "from xgboost import XGBClassifier\n",
    "from sklearn.preprocessing import RobustScaler, StandardScaler, MaxAbsScaler\n",
    "from sklearn.model_selection import train_test_split, StratifiedKFold\n",
    "from sklearn.tree import DecisionTreeClassifier\n",
    "from sklearn.neural_network import MLPClassifier\n",
    "from sklearn.naive_bayes import GaussianNB, MultinomialNB\n",
    "from sklearn.discriminant_analysis import LinearDiscriminantAnalysis, QuadraticDiscriminantAnalysis\n",
    "from sklearn.decomposition import PCA\n",
    "\n",
    "# to make this notebook's output stable across runs\n",
    "np.random.seed(42)\n",
    "\n",
    "# To plot pretty figures\n",
    "%matplotlib inline\n",
    "mpl.rc('axes', labelsize=14)\n",
    "mpl.rc('xtick', labelsize=12)\n",
    "mpl.rc('ytick', labelsize=12)\n",
    "sns.set_style('whitegrid')\n",
    "\n",
    "# Where to save the figures\n",
    "PROJECT_ROOT_DIR = \".\"\n",
    "CHAPTER_ID = \"results\"\n",
    "IMAGES_PATH = os.path.join(PROJECT_ROOT_DIR, \"images\", CHAPTER_ID)\n",
    "\n",
    "# Helper functioins and structures\n",
    "# Ignore useless warnings (see SciPy issue #5998)\n",
    "warnings.filterwarnings(action=\"ignore\", message=\"^internal gelsd\")\n",
    "\n",
    "DATA_PATH = \"Skyserver_SQL2_27_2018 6_51_39 PM.csv\"\n",
    "RESULTS_FOLDER = \"results\"\n",
    "\n",
    "# We load the data. Those that have nothing to do with the features of the objects are ignored.\n",
    "sdss_data = pd.read_csv(DATA_PATH)\n",
    "\n",
    "# We have a general look at the features\n",
    "sdss_data.head(3)\n",
    "\n",
    "print(sdss_data.columns.values)\n",
    "sdss_data.drop(['objid', 'run', 'rerun', 'camcol', 'field',\n",
    "                'specobjid', 'fiberid', 'mjd', 'plate'], axis=1, inplace=True)\n",
    "sdss_data.head(1)\n",
    "\n",
    "sdss_df_fe = sdss_data\n",
    "\n",
    "# Principal Component Analysis\n",
    "pca = PCA(n_components=3)\n",
    "ugriz = pca.fit_transform(sdss_df_fe[['u', 'g', 'r', 'i', 'z']])\n",
    "\n",
    "# update dataframe \n",
    "sdss_df_fe = pd.concat((sdss_df_fe, pd.DataFrame(ugriz)), axis=1)\n",
    "sdss_df_fe.rename({0: 'PCA_1', 1: 'PCA_2', 2: 'PCA_3'}, axis=1, inplace = True)\n",
    "sdss_df_fe.drop(['u', 'g', 'r', 'i', 'z'], axis=1, inplace=True)\n",
    "sdss_df_fe.head()\n",
    "\n",
    "X = sdss_data.drop(['class'], axis=1)\n",
    "y = sdss_data['class']\n",
    "\n",
    "class_names = [\"GALAXY\", \"QSO\", \"STAR\"]\n",
    "\n",
    "std_scaler = StandardScaler()\n",
    "X_train, X_test, y_train, y_test = train_test_split(X, y, random_state=42)\n",
    "\n",
    "X_test = std_scaler.fit_transform(X_test.astype(np.float64))\n",
    "X_train = std_scaler.fit_transform(X_train.astype(np.float64))"
   ]
  },
  {
   "cell_type": "markdown",
   "metadata": {},
   "source": [
    "## Optimize"
   ]
  },
  {
   "cell_type": "code",
   "execution_count": 4,
   "metadata": {
    "ExecuteTime": {
     "end_time": "2019-05-12T07:47:33.276994Z",
     "start_time": "2019-05-12T07:47:00.655049Z"
    }
   },
   "outputs": [
    {
     "name": "stdout",
     "output_type": "stream",
     "text": [
      "Types [1, 1, 1, 1] and maxint [2, 1, 0, 1] detected\n"
     ]
    },
    {
     "name": "stderr",
     "output_type": "stream",
     "text": [
      "/home/ljosfer/anaconda3/envs/deep/lib/python3.6/site-packages/deap/creator.py:141: RuntimeWarning: A class named 'FitnessMax' has already been created and it will be overwritten. Consider deleting previous creation of that class or rename it.\n",
      "  RuntimeWarning)\n",
      "/home/ljosfer/anaconda3/envs/deep/lib/python3.6/site-packages/deap/creator.py:141: RuntimeWarning: A class named 'Individual' has already been created and it will be overwritten. Consider deleting previous creation of that class or rename it.\n",
      "  RuntimeWarning)\n"
     ]
    },
    {
     "name": "stdout",
     "output_type": "stream",
     "text": [
      "--- Evolve in 12 possible combinations ---\n",
      "gen\tnevals\tavg     \tmin\tmax   \tstd     \n",
      "0  \t50    \t0.695892\t0  \t0.9193\t0.270105\n",
      "1  \t34    \t0.799826\t0  \t0.9193\t0.224006\n",
      "2  \t30    \t0.885702\t0  \t0.9193\t0.145516\n",
      "3  \t29    \t0.919118\t0.9102\t0.9193\t0.001274\n",
      "4  \t33    \t0.912404\t0.5745\t0.9193\t0.048272\n",
      "5  \t27    \t0.918936\t0.9102\t0.9193\t0.00178323\n",
      "6  \t35    \t0.91153 \t0.5308\t0.9193\t0.05439   \n",
      "7  \t22    \t0.900914\t0     \t0.9193\t0.128702  \n",
      "8  \t34    \t0.9193  \t0.9193\t0.9193\t1.11022e-16\n",
      "9  \t31    \t0.91153 \t0.5308\t0.9193\t0.05439    \n",
      "10 \t28    \t0.9193  \t0.9193\t0.9193\t1.11022e-16\n",
      "11 \t25    \t0.9193  \t0.9193\t0.9193\t1.11022e-16\n",
      "12 \t28    \t0.918936\t0.9102\t0.9193\t0.00178323 \n",
      "13 \t27    \t0.900732\t0     \t0.9193\t0.128682   \n",
      "14 \t31    \t0.9193  \t0.9193\t0.9193\t1.11022e-16\n",
      "15 \t22    \t0.9193  \t0.9193\t0.9193\t1.11022e-16\n",
      "Best individual is: {'solver': 'svd', 'shrinkage': None, 'n_components': None, 'store_covariance': False}\n",
      "with fitness: 0.9193\n"
     ]
    }
   ],
   "source": [
    "from evolutionary_search import EvolutionaryAlgorithmSearchCV\n",
    "\n",
    "paramgrid = {\n",
    "    \"solver\": [\"svd\", \"lsqr\", \"eigen\"],\n",
    "    \"shrinkage\": [None, \"auto\"],\n",
    "    \"n_components\": [None],\n",
    "    \"store_covariance\": [False, True]\n",
    "}\n",
    "\n",
    "random.seed(1)\n",
    "\n",
    "cv = EvolutionaryAlgorithmSearchCV(estimator=LinearDiscriminantAnalysis(),\n",
    "                                   params=paramgrid,\n",
    "                                   scoring=\"accuracy\",\n",
    "                                   cv=StratifiedKFold(n_splits=5),\n",
    "                                   verbose=1,\n",
    "                                   population_size=50,\n",
    "                                   gene_mutation_prob=0.10,\n",
    "                                   gene_crossover_prob=0.5,\n",
    "                                   tournament_size=3,\n",
    "                                   generations_number=15,\n",
    "                                   n_jobs=8,\n",
    "                                   error_score=0.0)\n",
    "\n",
    "with warnings.catch_warnings():\n",
    "    warnings.simplefilter(\"ignore\")\n",
    "    result = cv.fit(X, y)"
   ]
  },
  {
   "cell_type": "code",
   "execution_count": 5,
   "metadata": {
    "ExecuteTime": {
     "end_time": "2019-05-12T07:48:10.809304Z",
     "start_time": "2019-05-12T07:48:10.365381Z"
    },
    "scrolled": true
   },
   "outputs": [
    {
     "name": "stdout",
     "output_type": "stream",
     "text": [
      "==========================================================\n",
      "==========================================================\n",
      "Data Set Type:  Standard Scaled\n",
      "LinearDiscriminantAnalysis\n",
      "[0.93537642 0.91672219 0.946      0.9299533  0.92328219]\n",
      "Accuracy: 0.930 (+/- 0.020)\n",
      "LinearDiscriminantAnalysis :\n",
      " [[1131    0  115]\n",
      " [  45  185   12]\n",
      " [  74    2  936]]\n",
      "              precision    recall  f1-score   support\n",
      "\n",
      "      GALAXY       0.90      0.91      0.91      1246\n",
      "         QSO       0.99      0.76      0.86       242\n",
      "        STAR       0.88      0.92      0.90      1012\n",
      "\n",
      "   micro avg       0.90      0.90      0.90      2500\n",
      "   macro avg       0.92      0.87      0.89      2500\n",
      "weighted avg       0.90      0.90      0.90      2500\n",
      "\n",
      "\n",
      "\n",
      "By Acc:\n",
      "LinearDiscriminantAnalysis 0.9302668182519191\n",
      "\n",
      "\n",
      "By Precision(avg=micro):\n",
      "LinearDiscriminantAnalysis 0.9008\n",
      "\n",
      "\n",
      "By Recall(avg=micro):\n",
      "LinearDiscriminantAnalysis 0.9008\n",
      "\n",
      "\n",
      "By F1(avg=micro):\n",
      "LinearDiscriminantAnalysis 0.9008\n",
      "\n",
      "\n",
      "By Precision(avg=macro):\n",
      "LinearDiscriminantAnalysis 0.9248772079155788\n",
      "\n",
      "\n",
      "By Recall(avg=macro):\n",
      "LinearDiscriminantAnalysis 0.8656895501945908\n",
      "\n",
      "\n",
      "By F1(avg=macro):\n",
      "LinearDiscriminantAnalysis 0.8902965123898858\n",
      "\n",
      "\n",
      "LinearDiscriminantAnalysis\n",
      "{'GALAXY': 0.9064041615786145, 'STAR': 0.9197758617025799, 'QSO': 0.8817885351623979}\n",
      "\n",
      "\n"
     ]
    },
    {
     "data": {
      "image/png": "[encoded data removed]",
      "text/plain": [
       "<Figure size 720x504 with 2 Axes>"
      ]
     },
     "metadata": {
      "needs_background": "light"
     },
     "output_type": "display_data"
    }
   ],
   "source": [
    "best_indiv = LinearDiscriminantAnalysis(solver=\"svd\", shrinkage=None, n_components=None, store_covariance=False)\n",
    "\n",
    "clf_names = [\"LinearDiscriminantAnalysis\"]\n",
    "class_names = [\"GALAXY\", \"QSO\", \"STAR\"]\n",
    "\n",
    "clfs=[best_indiv]\n",
    "data_sets = []\n",
    "std_scaled_set = DataSet(\"Standard Scaled\", X_train, y_train, X_test, y_test)\n",
    "data_sets.append(std_scaled_set)\n",
    "\n",
    "with warnings.catch_warnings():\n",
    "    warnings.simplefilter(\"ignore\")\n",
    "    helpers.learning_loop_for_sets(clfs, clf_names, class_names, data_sets)"
   ]
  },
  {
   "cell_type": "code",
   "execution_count": null,
   "metadata": {},
   "outputs": [],
   "source": []
  }
 ],
 "metadata": {
  "hide_input": false,
  "kernelspec": {
   "display_name": "Python3 (deep)",
   "language": "python",
   "name": "deep"
  },
  "language_info": {
   "codemirror_mode": {
    "name": "ipython",
    "version": 3
   },
   "file_extension": ".py",
   "mimetype": "text/x-python",
   "name": "python",
   "nbconvert_exporter": "python",
   "pygments_lexer": "ipython3",
   "version": "3.6.8"
  },
  "toc": {
   "base_numbering": 1,
   "nav_menu": {},
   "number_sections": true,
   "sideBar": true,
   "skip_h1_title": false,
   "title_cell": "Table of Contents",
   "title_sidebar": "Contents",
   "toc_cell": false,
   "toc_position": {},
   "toc_section_display": true,
   "toc_window_display": false
  }
 },
 "nbformat": 4,
 "nbformat_minor": 2
}
