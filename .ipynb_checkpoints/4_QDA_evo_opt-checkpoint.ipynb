{
 "cells": [
  {
   "cell_type": "markdown",
   "metadata": {},
   "source": [
    "# Genetic optimization of QDA classifier for the SDSS data"
   ]
  },
  {
   "cell_type": "markdown",
   "metadata": {},
   "source": [
    "## Load data"
   ]
  },
  {
   "cell_type": "code",
   "execution_count": 1,
   "metadata": {
    "ExecuteTime": {
     "end_time": "2019-05-12T07:59:00.489712Z",
     "start_time": "2019-05-12T07:58:59.846427Z"
    }
   },
   "outputs": [
    {
     "name": "stdout",
     "output_type": "stream",
     "text": [
      "['objid' 'ra' 'dec' 'u' 'g' 'r' 'i' 'z' 'run' 'rerun' 'camcol' 'field'\n",
      " 'specobjid' 'class' 'redshift' 'plate' 'mjd' 'fiberid']\n"
     ]
    }
   ],
   "source": [
    "# To support both python 2 and python 3\n",
    "from __future__ import division, print_function, unicode_literals\n",
    "import warnings\n",
    "import helpers\n",
    "from helpers import DataSet\n",
    "import matplotlib as mpl\n",
    "import os\n",
    "import random\n",
    "\n",
    "# Common imports\n",
    "import pandas as pd\n",
    "import numpy as np\n",
    "import seaborn as sns\n",
    "\n",
    "# Imports for ML\n",
    "from sklearn.ensemble import RandomForestClassifier, VotingClassifier, BaggingClassifier, GradientBoostingClassifier, AdaBoostClassifier, ExtraTreesClassifier\n",
    "from sklearn.linear_model import LogisticRegression, SGDClassifier, PassiveAggressiveClassifier, RidgeClassifier\n",
    "from sklearn.svm import SVC, LinearSVC, NuSVC\n",
    "from sklearn.neighbors import KNeighborsClassifier\n",
    "from xgboost import XGBClassifier\n",
    "from sklearn.preprocessing import RobustScaler, StandardScaler, MaxAbsScaler\n",
    "from sklearn.model_selection import train_test_split, StratifiedKFold\n",
    "from sklearn.tree import DecisionTreeClassifier\n",
    "from sklearn.neural_network import MLPClassifier\n",
    "from sklearn.naive_bayes import GaussianNB, MultinomialNB\n",
    "from sklearn.discriminant_analysis import LinearDiscriminantAnalysis, QuadraticDiscriminantAnalysis\n",
    "from sklearn.decomposition import PCA\n",
    "\n",
    "# to make this notebook's output stable across runs\n",
    "np.random.seed(42)\n",
    "\n",
    "# To plot pretty figures\n",
    "%matplotlib inline\n",
    "mpl.rc('axes', labelsize=14)\n",
    "mpl.rc('xtick', labelsize=12)\n",
    "mpl.rc('ytick', labelsize=12)\n",
    "sns.set_style('whitegrid')\n",
    "\n",
    "# Where to save the figures\n",
    "PROJECT_ROOT_DIR = \".\"\n",
    "CHAPTER_ID = \"results\"\n",
    "IMAGES_PATH = os.path.join(PROJECT_ROOT_DIR, \"images\", CHAPTER_ID)\n",
    "\n",
    "# Helper functioins and structures\n",
    "# Ignore useless warnings (see SciPy issue #5998)\n",
    "warnings.filterwarnings(action=\"ignore\", message=\"^internal gelsd\")\n",
    "\n",
    "DATA_PATH = \"Skyserver_SQL2_27_2018 6_51_39 PM.csv\"\n",
    "RESULTS_FOLDER = \"results\"\n",
    "\n",
    "# We load the data. Those that have nothing to do with the features of the objects are ignored.\n",
    "sdss_data = pd.read_csv(DATA_PATH)\n",
    "\n",
    "# We have a general look at the features\n",
    "sdss_data.head(3)\n",
    "\n",
    "print(sdss_data.columns.values)\n",
    "sdss_data.drop(['objid', 'run', 'rerun', 'camcol', 'field',\n",
    "                'specobjid', 'fiberid', 'mjd', 'plate'], axis=1, inplace=True)\n",
    "sdss_data.head(1)\n",
    "\n",
    "sdss_df_fe = sdss_data\n",
    "\n",
    "# Principal Component Analysis\n",
    "pca = PCA(n_components=3)\n",
    "ugriz = pca.fit_transform(sdss_df_fe[['u', 'g', 'r', 'i', 'z']])\n",
    "\n",
    "# update dataframe \n",
    "sdss_df_fe = pd.concat((sdss_df_fe, pd.DataFrame(ugriz)), axis=1)\n",
    "sdss_df_fe.rename({0: 'PCA_1', 1: 'PCA_2', 2: 'PCA_3'}, axis=1, inplace = True)\n",
    "sdss_df_fe.drop(['u', 'g', 'r', 'i', 'z'], axis=1, inplace=True)\n",
    "sdss_df_fe.head()\n",
    "\n",
    "X = sdss_data.drop(['class'], axis=1)\n",
    "y = sdss_data['class']\n",
    "\n",
    "class_names = [\"GALAXY\", \"QSO\", \"STAR\"]\n",
    "\n",
    "std_scaler = StandardScaler()\n",
    "X_train, X_test, y_train, y_test = train_test_split(X, y, random_state=42)\n",
    "\n",
    "X_test = std_scaler.fit_transform(X_test.astype(np.float64))\n",
    "X_train = std_scaler.fit_transform(X_train.astype(np.float64))"
   ]
  },
  {
   "cell_type": "markdown",
   "metadata": {},
   "source": [
    "## Optimize"
   ]
  },
  {
   "cell_type": "code",
   "execution_count": 19,
   "metadata": {
    "ExecuteTime": {
     "end_time": "2019-05-12T08:07:18.690746Z",
     "start_time": "2019-05-12T08:07:12.780310Z"
    }
   },
   "outputs": [
    {
     "name": "stdout",
     "output_type": "stream",
     "text": [
      "Types [2, 1] and maxint [25, 1] detected\n"
     ]
    },
    {
     "name": "stderr",
     "output_type": "stream",
     "text": [
      "/home/ljosfer/anaconda3/envs/deep/lib/python3.6/site-packages/deap/creator.py:141: RuntimeWarning: A class named 'FitnessMax' has already been created and it will be overwritten. Consider deleting previous creation of that class or rename it.\n",
      "  RuntimeWarning)\n",
      "/home/ljosfer/anaconda3/envs/deep/lib/python3.6/site-packages/deap/creator.py:141: RuntimeWarning: A class named 'Individual' has already been created and it will be overwritten. Consider deleting previous creation of that class or rename it.\n",
      "  RuntimeWarning)\n"
     ]
    },
    {
     "name": "stdout",
     "output_type": "stream",
     "text": [
      "--- Evolve in 52 possible combinations ---\n",
      "gen\tnevals\tavg     \tmin   \tmax   \tstd     \n",
      "0  \t50    \t0.801012\t0.3552\t0.9867\t0.231691\n",
      "1  \t30    \t0.946582\t0.4998\t0.9867\t0.102331\n",
      "2  \t27    \t0.984606\t0.8929\t0.9867\t0.0131027\n",
      "3  \t31    \t0.984736\t0.8929\t0.9867\t0.0131202\n",
      "4  \t26    \t0.986688\t0.9865\t0.9867\t4.74974e-05\n",
      "5  \t28    \t0.97682 \t0.4998\t0.9867\t0.068153   \n",
      "6  \t32    \t0.986684\t0.9859\t0.9867\t0.000112   \n",
      "7  \t24    \t0.9867  \t0.9867\t0.9867\t0          \n",
      "8  \t29    \t0.978988\t0.7698\t0.9867\t0.0380872  \n",
      "9  \t31    \t0.986696\t0.9865\t0.9867\t2.8e-05    \n",
      "10 \t36    \t0.986684\t0.9859\t0.9867\t0.000112   \n",
      "11 \t34    \t0.986148\t0.9593\t0.9867\t0.00383553 \n",
      "12 \t26    \t0.976962\t0.4998\t0.9867\t0.068166   \n",
      "13 \t26    \t0.9867  \t0.9867\t0.9867\t0          \n",
      "14 \t31    \t0.984824\t0.8929\t0.9867\t0.013132   \n",
      "15 \t35    \t0.9867  \t0.9867\t0.9867\t0          \n",
      "Best individual is: {'reg_param': 2.1544346900318867e-07, 'store_covariance': False}\n",
      "with fitness: 0.9867\n"
     ]
    }
   ],
   "source": [
    "from evolutionary_search import EvolutionaryAlgorithmSearchCV\n",
    "\n",
    "regs = np.logspace(-15,5,base=10,num=25).tolist()\n",
    "regs.append(0.0)\n",
    "\n",
    "paramgrid = {\n",
    "    \"reg_param\": regs, \n",
    "    \"store_covariance\":[False, True],\n",
    "}\n",
    "\n",
    "random.seed(1)\n",
    "\n",
    "cv = EvolutionaryAlgorithmSearchCV(estimator=QuadraticDiscriminantAnalysis(),\n",
    "                                   params=paramgrid,\n",
    "                                   scoring=\"accuracy\",\n",
    "                                   cv=StratifiedKFold(n_splits=5),\n",
    "                                   verbose=1,\n",
    "                                   population_size=50,\n",
    "                                   gene_mutation_prob=0.10,\n",
    "                                   gene_crossover_prob=0.5,\n",
    "                                   tournament_size=3,\n",
    "                                   generations_number=15,\n",
    "                                   n_jobs=8,\n",
    "                                   error_score=0.0)\n",
    "\n",
    "with warnings.catch_warnings():\n",
    "    warnings.simplefilter(\"ignore\")\n",
    "    result = cv.fit(X, y)"
   ]
  },
  {
   "cell_type": "code",
   "execution_count": 18,
   "metadata": {
    "ExecuteTime": {
     "end_time": "2019-05-12T08:07:02.830451Z",
     "start_time": "2019-05-12T08:07:02.484544Z"
    },
    "scrolled": true
   },
   "outputs": [
    {
     "name": "stdout",
     "output_type": "stream",
     "text": [
      "==========================================================\n",
      "==========================================================\n",
      "Data Set Type:  Standard Scaled\n",
      "QuadraticDiscriminantAnalysis\n",
      "[0.98001332 0.98134577 0.98666667 0.98932622 0.98732488]\n",
      "Accuracy: 0.985 (+/- 0.007)\n",
      "QuadraticDiscriminantAnalysis :\n",
      " [[1225   15    6]\n",
      " [   5  237    0]\n",
      " [   5    2 1005]]\n",
      "              precision    recall  f1-score   support\n",
      "\n",
      "      GALAXY       0.99      0.98      0.99      1246\n",
      "         QSO       0.93      0.98      0.96       242\n",
      "        STAR       0.99      0.99      0.99      1012\n",
      "\n",
      "   micro avg       0.99      0.99      0.99      2500\n",
      "   macro avg       0.97      0.99      0.98      2500\n",
      "weighted avg       0.99      0.99      0.99      2500\n",
      "\n",
      "\n",
      "\n",
      "By Acc:\n",
      "QuadraticDiscriminantAnalysis 0.9849353722675728\n",
      "\n",
      "\n",
      "By Precision(avg=micro):\n",
      "QuadraticDiscriminantAnalysis 0.9868\n",
      "\n",
      "\n",
      "By Recall(avg=micro):\n",
      "QuadraticDiscriminantAnalysis 0.9868\n",
      "\n",
      "\n",
      "By F1(avg=micro):\n",
      "QuadraticDiscriminantAnalysis 0.9868\n",
      "\n",
      "\n",
      "By Precision(avg=macro):\n",
      "QuadraticDiscriminantAnalysis 0.9730129940163131\n",
      "\n",
      "\n",
      "By Recall(avg=macro):\n",
      "QuadraticDiscriminantAnalysis 0.9851893047811687\n",
      "\n",
      "\n",
      "By F1(avg=macro):\n",
      "QuadraticDiscriminantAnalysis 0.9789080332432096\n",
      "\n",
      "\n",
      "QuadraticDiscriminantAnalysis\n",
      "{'STAR': 0.9945253729440265, 'QSO': 0.9859050282192242, 'GALAXY': 0.9875857928785191}\n",
      "\n",
      "\n"
     ]
    },
    {
     "data": {
      "image/png": "[encoded data removed]",
      "text/plain": [
       "<Figure size 720x504 with 2 Axes>"
      ]
     },
     "metadata": {
      "needs_background": "light"
     },
     "output_type": "display_data"
    }
   ],
   "source": [
    "best_indiv = QuadraticDiscriminantAnalysis(reg_param = 2.1544346900318867e-07, store_covariance = False)\n",
    "\n",
    "clf_names = [\"QuadraticDiscriminantAnalysis\"]\n",
    "class_names = [\"GALAXY\", \"QSO\", \"STAR\"]\n",
    "\n",
    "clfs=[best_indiv]\n",
    "data_sets = []\n",
    "std_scaled_set = DataSet(\"Standard Scaled\", X_train, y_train, X_test, y_test)\n",
    "data_sets.append(std_scaled_set)\n",
    "\n",
    "with warnings.catch_warnings():\n",
    "    warnings.simplefilter(\"ignore\")\n",
    "    helpers.learning_loop_for_sets(clfs, clf_names, class_names, data_sets)"
   ]
  },
  {
   "cell_type": "code",
   "execution_count": null,
   "metadata": {},
   "outputs": [],
   "source": []
  }
 ],
 "metadata": {
  "hide_input": false,
  "kernelspec": {
   "display_name": "Python3 (deep)",
   "language": "python",
   "name": "deep"
  },
  "language_info": {
   "codemirror_mode": {
    "name": "ipython",
    "version": 3
   },
   "file_extension": ".py",
   "mimetype": "text/x-python",
   "name": "python",
   "nbconvert_exporter": "python",
   "pygments_lexer": "ipython3",
   "version": "3.6.8"
  },
  "toc": {
   "base_numbering": 1,
   "nav_menu": {},
   "number_sections": true,
   "sideBar": true,
   "skip_h1_title": false,
   "title_cell": "Table of Contents",
   "title_sidebar": "Contents",
   "toc_cell": false,
   "toc_position": {},
   "toc_section_display": true,
   "toc_window_display": false
  }
 },
 "nbformat": 4,
 "nbformat_minor": 2
}
