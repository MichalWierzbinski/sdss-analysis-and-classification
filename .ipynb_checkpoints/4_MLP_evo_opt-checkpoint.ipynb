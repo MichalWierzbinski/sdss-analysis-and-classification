{
 "cells": [
  {
   "cell_type": "markdown",
   "metadata": {},
   "source": [
    "# Genetic optimization of MLP classifier for the SDSS data"
   ]
  },
  {
   "cell_type": "markdown",
   "metadata": {},
   "source": [
    "## Load data"
   ]
  },
  {
   "cell_type": "code",
   "execution_count": 1,
   "metadata": {
    "ExecuteTime": {
     "end_time": "2019-05-12T09:20:20.825320Z",
     "start_time": "2019-05-12T09:20:20.043678Z"
    }
   },
   "outputs": [
    {
     "name": "stdout",
     "output_type": "stream",
     "text": [
      "['objid' 'ra' 'dec' 'u' 'g' 'r' 'i' 'z' 'run' 'rerun' 'camcol' 'field'\n",
      " 'specobjid' 'class' 'redshift' 'plate' 'mjd' 'fiberid']\n"
     ]
    }
   ],
   "source": [
    "# To support both python 2 and python 3\n",
    "from __future__ import division, print_function, unicode_literals\n",
    "import warnings\n",
    "import helpers\n",
    "from helpers import DataSet\n",
    "import matplotlib as mpl\n",
    "import os\n",
    "import random\n",
    "\n",
    "# Common imports\n",
    "import pandas as pd\n",
    "import numpy as np\n",
    "import seaborn as sns\n",
    "\n",
    "# Imports for ML\n",
    "from sklearn.ensemble import RandomForestClassifier, VotingClassifier, BaggingClassifier, GradientBoostingClassifier, AdaBoostClassifier, ExtraTreesClassifier\n",
    "from sklearn.linear_model import LogisticRegression, SGDClassifier, PassiveAggressiveClassifier, RidgeClassifier\n",
    "from sklearn.svm import SVC, LinearSVC, NuSVC\n",
    "from sklearn.neighbors import KNeighborsClassifier\n",
    "from xgboost import XGBClassifier\n",
    "from sklearn.preprocessing import RobustScaler, StandardScaler, MaxAbsScaler\n",
    "from sklearn.model_selection import train_test_split, StratifiedKFold\n",
    "from sklearn.tree import DecisionTreeClassifier\n",
    "from sklearn.neural_network import MLPClassifier\n",
    "from sklearn.naive_bayes import GaussianNB, MultinomialNB\n",
    "from sklearn.discriminant_analysis import LinearDiscriminantAnalysis, QuadraticDiscriminantAnalysis\n",
    "from sklearn.decomposition import PCA\n",
    "\n",
    "# to make this notebook's output stable across runs\n",
    "np.random.seed(42)\n",
    "\n",
    "# To plot pretty figures\n",
    "%matplotlib inline\n",
    "mpl.rc('axes', labelsize=14)\n",
    "mpl.rc('xtick', labelsize=12)\n",
    "mpl.rc('ytick', labelsize=12)\n",
    "sns.set_style('whitegrid')\n",
    "\n",
    "# Where to save the figures\n",
    "PROJECT_ROOT_DIR = \".\"\n",
    "CHAPTER_ID = \"results\"\n",
    "IMAGES_PATH = os.path.join(PROJECT_ROOT_DIR, \"images\", CHAPTER_ID)\n",
    "\n",
    "# Helper functioins and structures\n",
    "# Ignore useless warnings (see SciPy issue #5998)\n",
    "warnings.filterwarnings(action=\"ignore\", message=\"^internal gelsd\")\n",
    "\n",
    "DATA_PATH = \"Skyserver_SQL2_27_2018 6_51_39 PM.csv\"\n",
    "RESULTS_FOLDER = \"results\"\n",
    "\n",
    "# We load the data. Those that have nothing to do with the features of the objects are ignored.\n",
    "sdss_data = pd.read_csv(DATA_PATH)\n",
    "\n",
    "# We have a general look at the features\n",
    "sdss_data.head(3)\n",
    "\n",
    "print(sdss_data.columns.values)\n",
    "sdss_data.drop(['objid', 'run', 'rerun', 'camcol', 'field',\n",
    "                'specobjid', 'fiberid', 'mjd', 'plate'], axis=1, inplace=True)\n",
    "sdss_data.head(1)\n",
    "\n",
    "sdss_df_fe = sdss_data\n",
    "\n",
    "# Principal Component Analysis\n",
    "pca = PCA(n_components=3)\n",
    "ugriz = pca.fit_transform(sdss_df_fe[['u', 'g', 'r', 'i', 'z']])\n",
    "\n",
    "# update dataframe \n",
    "sdss_df_fe = pd.concat((sdss_df_fe, pd.DataFrame(ugriz)), axis=1)\n",
    "sdss_df_fe.rename({0: 'PCA_1', 1: 'PCA_2', 2: 'PCA_3'}, axis=1, inplace = True)\n",
    "sdss_df_fe.drop(['u', 'g', 'r', 'i', 'z'], axis=1, inplace=True)\n",
    "sdss_df_fe.head()\n",
    "\n",
    "X = sdss_data.drop(['class'], axis=1)\n",
    "y = sdss_data['class']\n",
    "\n",
    "class_names = [\"GALAXY\", \"QSO\", \"STAR\"]\n",
    "\n",
    "std_scaler = StandardScaler()\n",
    "X_train, X_test, y_train, y_test = train_test_split(X, y, random_state=42)\n",
    "\n",
    "X_test = std_scaler.fit_transform(X_test.astype(np.float64))\n",
    "X_train = std_scaler.fit_transform(X_train.astype(np.float64))"
   ]
  },
  {
   "cell_type": "markdown",
   "metadata": {},
   "source": [
    "## Optimize"
   ]
  },
  {
   "cell_type": "code",
   "execution_count": 16,
   "metadata": {
    "ExecuteTime": {
     "end_time": "2019-05-12T09:52:17.899154Z",
     "start_time": "2019-05-12T09:52:17.889399Z"
    }
   },
   "outputs": [
    {
     "name": "stdout",
     "output_type": "stream",
     "text": [
      "[(10,), (10, 10), (10, 10, 10), (20,), (20, 10), (20, 20), (20, 20, 20), (40,), (40, 10), (40, 20), (40, 20, 10), (40, 40), (40, 40, 40), (50,), (50, 10), (50, 20), (50, 20, 10), (50, 40), (50, 40, 10), (50, 40, 20), (50, 40, 20, 10), (50, 50), (50, 50, 50), (100,), (100, 10), (100, 20), (100, 20, 10), (100, 40), (100, 40, 10), (100, 40, 20), (100, 40, 20, 10), (100, 50), (100, 50, 10), (100, 50, 20), (100, 50, 20, 10), (100, 50, 40), (100, 50, 40, 10), (100, 50, 40, 20), (100, 100), (100, 100, 100), (200,), (200, 10), (200, 20), (200, 20, 10), (200, 40), (200, 40, 10), (200, 40, 20), (200, 40, 20, 10), (200, 50), (200, 50, 10), (200, 50, 20), (200, 50, 20, 10), (200, 50, 40), (200, 50, 40, 10), (200, 50, 40, 20), (200, 100), (200, 100, 10), (200, 100, 20), (200, 100, 20, 10), (200, 100, 40), (200, 100, 40, 10), (200, 100, 40, 20), (200, 100, 50), (200, 100, 50, 10), (200, 100, 50, 20), (200, 100, 50, 40), (200, 200), (200, 200, 200)]\n"
     ]
    }
   ],
   "source": [
    "import random\n",
    "\n",
    "layer_sizes = [10, 20, 40, 50, 100, 200]\n",
    "\n",
    "shapes = []\n",
    "\n",
    "for size in layer_sizes:\n",
    "    tmp = []\n",
    "    for i in range(3):\n",
    "        tmp.append(size)\n",
    "        shapes.append(tuple(tmp))\n",
    "\n",
    "for i in range(500):\n",
    "    rand_num = random.randint(1,4)\n",
    "    sample = random.sample(layer_sizes, rand_num)\n",
    "    sample.sort(reverse=True)\n",
    "    shapes.append(tuple(sample))\n",
    "    \n",
    "shapes = list(set(shapes))   \n",
    "shapes.sort()\n",
    "\n",
    "print(shapes)"
   ]
  },
  {
   "cell_type": "code",
   "execution_count": 18,
   "metadata": {
    "ExecuteTime": {
     "end_time": "2019-05-12T14:12:13.647622Z",
     "start_time": "2019-05-12T09:52:39.843720Z"
    }
   },
   "outputs": [
    {
     "name": "stdout",
     "output_type": "stream",
     "text": [
      "Types [1, 1, 1, 2, 1, 1, 2, 2, 1, 1, 2, 1, 1, 2, 2, 2, 1] and maxint [67, 3, 2, 24, 23, 32, 24, 24, 0, 0, 24, 1, 0, 9, 24, 0, 0] detected\n"
     ]
    },
    {
     "name": "stderr",
     "output_type": "stream",
     "text": [
      "/home/ljosfer/anaconda3/envs/deep/lib/python3.6/site-packages/deap/creator.py:141: RuntimeWarning: A class named 'FitnessMax' has already been created and it will be overwritten. Consider deleting previous creation of that class or rename it.\n",
      "  RuntimeWarning)\n",
      "/home/ljosfer/anaconda3/envs/deep/lib/python3.6/site-packages/deap/creator.py:141: RuntimeWarning: A class named 'Individual' has already been created and it will be overwritten. Consider deleting previous creation of that class or rename it.\n",
      "  RuntimeWarning)\n"
     ]
    },
    {
     "name": "stdout",
     "output_type": "stream",
     "text": [
      "--- Evolve in 126225000000000 possible combinations ---\n",
      "gen\tnevals\tavg     \tmin\tmax     \tstd     \n",
      "0  \t50    \t0.129541\t0  \t0.985867\t0.321925\n",
      "1  \t30    \t0.259373\t0  \t0.981867\t0.391108\n",
      "2  \t34    \t0.647971\t0  \t0.980533\t0.346614\n",
      "3  \t26    \t0.871768\t0.438933\t0.9816  \t0.169795\n",
      "4  \t32    \t0.924037\t0.500267\t0.983333\t0.13515 \n",
      "5  \t36    \t0.924379\t0       \t0.986133\t0.175638\n",
      "6  \t25    \t0.956939\t0       \t0.986   \t0.137445\n",
      "7  \t29    \t0.960605\t0.500267\t0.986   \t0.0866013\n",
      "8  \t35    \t0.953392\t0       \t0.986533\t0.152185 \n",
      "9  \t30    \t0.963123\t0.500267\t0.986533\t0.095415 \n",
      "10 \t29    \t0.985336\t0.980133\t0.9872  \t0.0017076\n",
      "11 \t31    \t0.945853\t0       \t0.9872  \t0.1931   \n",
      "12 \t31    \t0.960979\t0.500267\t0.9872  \t0.0982275\n",
      "13 \t39    \t0.965504\t0       \t0.9872  \t0.137982 \n",
      "14 \t30    \t0.941728\t0       \t0.9872  \t0.19524  \n",
      "15 \t29    \t0.956261\t0       \t0.9872  \t0.152677 \n",
      "Best individual is: {'hidden_layer_sizes': (20, 20), 'activation': 'relu', 'solver': 'sgd', 'alpha': 1e-05, 'batch_size': 3, 'learning_rate': 'adaptive', 'learning_rate_init': 0.1333521432163324, 'power_t': 0.004216965034285823, 'max_iter': 1000, 'random_state': 42, 'momentum': 0.1, 'nesterovs_momentum': True, 'early_stopping': True, 'beta_1': 0.7, 'beta_2': 0.4210900698456838, 'epsilon': 1e-08, 'n_iter_no_change': 5}\n",
      "with fitness: 0.9872\n"
     ]
    }
   ],
   "source": [
    "from evolutionary_search import EvolutionaryAlgorithmSearchCV\n",
    "\n",
    "learning_rates = [\"constant\", \"invscaling\", \"adaptive\"]\n",
    "learning_rates.extend(np.logspace(-5,1,base=10,num=30).tolist())\n",
    "\n",
    "paramgrid = {\"hidden_layer_sizes\": shapes,\n",
    "             \"activation\": [\"relu\", \"identity\", \"logistic\", \"tanh\"],\n",
    "             \"solver\": [\"adam\", \"lbfs\", \"sgd\"],\n",
    "             \"alpha\": np.logspace(-5, 1, base=10, num=25),\n",
    "             \"batch_size\": np.unique(np.logspace(0,4, base=10, num=25, dtype=int)),\n",
    "             \"learning_rate\": learning_rates,\n",
    "             \"learning_rate_init\": np.logspace(-4, 1, base=10, num=25),\n",
    "             \"power_t\": np.logspace(-3, 0, base=10, num=25),\n",
    "             \"max_iter\": [1000],\n",
    "             \"random_state\": [42],\n",
    "             \"momentum\": np.logspace(-3, 0, base=10, num=25),\n",
    "             \"nesterovs_momentum\": [True, False],\n",
    "             \"early_stopping\": [True],\n",
    "             \"beta_1\": [0.01, 0.05, 0.1, 0.2, 0.3, 0.4, 0.5, 0.6, 0.7 ,0.9],\n",
    "             \"beta_2\": np.logspace(-1, -0.001, base=10, num=25),\n",
    "             \"epsilon\": [1e-08],\n",
    "             \"n_iter_no_change\": [5]\n",
    "             }\n",
    "\n",
    "\n",
    "random.seed(1)\n",
    "\n",
    "cv = EvolutionaryAlgorithmSearchCV(estimator=MLPClassifier(),\n",
    "                                   params=paramgrid,\n",
    "                                   scoring=\"accuracy\",\n",
    "                                   cv=StratifiedKFold(n_splits=5),\n",
    "                                   verbose=1,\n",
    "                                   population_size=50,\n",
    "                                   gene_mutation_prob=0.10,\n",
    "                                   gene_crossover_prob=0.5,\n",
    "                                   tournament_size=3,\n",
    "                                   generations_number=15,\n",
    "                                   n_jobs=8,\n",
    "                                   error_score=0.0)\n",
    "\n",
    "with warnings.catch_warnings():\n",
    "    warnings.simplefilter(\"ignore\")\n",
    "    result = cv.fit(X_train, y_train)"
   ]
  },
  {
   "cell_type": "code",
   "execution_count": 20,
   "metadata": {
    "ExecuteTime": {
     "end_time": "2019-05-12T14:20:09.012347Z",
     "start_time": "2019-05-12T14:17:20.858644Z"
    }
   },
   "outputs": [
    {
     "name": "stdout",
     "output_type": "stream",
     "text": [
      "==========================================================\n",
      "==========================================================\n",
      "Data Set Type:  Standard Scaled\n",
      "MLPClassifier\n",
      "[0.98867422 0.98201199 0.992      0.98799199 0.98532355]\n",
      "Accuracy: 0.987 (+/- 0.007)\n",
      "MLPClassifier :\n",
      " [[1185    6   55]\n",
      " [   7  234    1]\n",
      " [  11    1 1000]]\n",
      "              precision    recall  f1-score   support\n",
      "\n",
      "      GALAXY       0.99      0.95      0.97      1246\n",
      "         QSO       0.97      0.97      0.97       242\n",
      "        STAR       0.95      0.99      0.97      1012\n",
      "\n",
      "   micro avg       0.97      0.97      0.97      2500\n",
      "   macro avg       0.97      0.97      0.97      2500\n",
      "weighted avg       0.97      0.97      0.97      2500\n",
      "\n",
      "\n",
      "\n",
      "By Acc:\n",
      "MLPClassifier 0.9872003505779336\n",
      "\n",
      "\n",
      "By Precision(avg=micro):\n",
      "MLPClassifier 0.9676\n",
      "\n",
      "\n",
      "By Recall(avg=micro):\n",
      "MLPClassifier 0.9676\n",
      "\n",
      "\n",
      "By F1(avg=micro):\n",
      "MLPClassifier 0.9676\n",
      "\n",
      "\n",
      "By Precision(avg=macro):\n",
      "MLPClassifier 0.9676538200999868\n",
      "\n",
      "\n",
      "By Recall(avg=macro):\n",
      "MLPClassifier 0.9687092599780791\n",
      "\n",
      "\n",
      "By F1(avg=macro):\n",
      "MLPClassifier 0.9679346744191125\n",
      "\n",
      "\n",
      "MLPClassifier\n",
      "{'STAR': 0.9752539419439841, 'QSO': 0.9819210300931858, 'GALAXY': 0.9683446358490712}\n",
      "\n",
      "\n"
     ]
    },
    {
     "data": {
      "image/png": "[encoded data removed]",
      "text/plain": [
       "<Figure size 720x504 with 2 Axes>"
      ]
     },
     "metadata": {
      "needs_background": "light"
     },
     "output_type": "display_data"
    }
   ],
   "source": [
    "best_indiv = MLPClassifier(hidden_layer_sizes=(20, 20),\n",
    "                           activation='relu',\n",
    "                           solver='sgd', \n",
    "                           alpha=1e-05, \n",
    "                           batch_size=3, \n",
    "                           learning_rate='adaptive',\n",
    "                           learning_rate_init=0.1333521432163324, \n",
    "                           power_t=0.004216965034285823, \n",
    "                           max_iter=1000,\n",
    "                           random_state=42,\n",
    "                           momentum=0.1,\n",
    "                           nesterovs_momentum=True, \n",
    "                           early_stopping=True,\n",
    "                           beta_1=0.7, \n",
    "                           beta_2=0.4210900698456838, \n",
    "                           epsilon=1e-08,\n",
    "                           n_iter_no_change=5)\n",
    "\n",
    "clf_names = [\"MLPClassifier\"]\n",
    "class_names = [\"GALAXY\", \"QSO\", \"STAR\"]\n",
    "\n",
    "clfs = [best_indiv]\n",
    "data_sets = []\n",
    "std_scaled_set = DataSet(\"Standard Scaled\", X_train, y_train, X_test, y_test)\n",
    "data_sets.append(std_scaled_set)\n",
    "\n",
    "with warnings.catch_warnings():\n",
    "    warnings.simplefilter(\"ignore\")\n",
    "    helpers.learning_loop_for_sets(clfs, clf_names, class_names, data_sets)"
   ]
  },
  {
   "cell_type": "code",
   "execution_count": null,
   "metadata": {},
   "outputs": [],
   "source": []
  }
 ],
 "metadata": {
  "hide_input": false,
  "kernelspec": {
   "display_name": "Python3 (deep)",
   "language": "python",
   "name": "deep"
  },
  "language_info": {
   "codemirror_mode": {
    "name": "ipython",
    "version": 3
   },
   "file_extension": ".py",
   "mimetype": "text/x-python",
   "name": "python",
   "nbconvert_exporter": "python",
   "pygments_lexer": "ipython3",
   "version": "3.6.8"
  },
  "toc": {
   "base_numbering": 1,
   "nav_menu": {},
   "number_sections": true,
   "sideBar": true,
   "skip_h1_title": false,
   "title_cell": "Table of Contents",
   "title_sidebar": "Contents",
   "toc_cell": false,
   "toc_position": {},
   "toc_section_display": true,
   "toc_window_display": false
  }
 },
 "nbformat": 4,
 "nbformat_minor": 2
}
