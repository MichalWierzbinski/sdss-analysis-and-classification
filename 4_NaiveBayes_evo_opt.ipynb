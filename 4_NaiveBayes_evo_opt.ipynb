{
 "cells": [
  {
   "cell_type": "markdown",
   "metadata": {},
   "source": [
    "# Genetic optimization of Naive Bayes classifier for the SDSS data"
   ]
  },
  {
   "cell_type": "markdown",
   "metadata": {},
   "source": [
    "## Load data"
   ]
  },
  {
   "cell_type": "code",
   "execution_count": 2,
   "metadata": {
    "ExecuteTime": {
     "end_time": "2019-05-12T08:18:16.873440Z",
     "start_time": "2019-05-12T08:18:16.396311Z"
    }
   },
   "outputs": [
    {
     "name": "stdout",
     "output_type": "stream",
     "text": [
      "['objid' 'ra' 'dec' 'u' 'g' 'r' 'i' 'z' 'run' 'rerun' 'camcol' 'field'\n",
      " 'specobjid' 'class' 'redshift' 'plate' 'mjd' 'fiberid']\n"
     ]
    }
   ],
   "source": [
    "# To support both python 2 and python 3\n",
    "from __future__ import division, print_function, unicode_literals\n",
    "import warnings\n",
    "import helpers\n",
    "from helpers import DataSet\n",
    "import matplotlib as mpl\n",
    "import os\n",
    "import random\n",
    "\n",
    "# Common imports\n",
    "import pandas as pd\n",
    "import numpy as np\n",
    "import seaborn as sns\n",
    "\n",
    "# Imports for ML\n",
    "from sklearn.ensemble import RandomForestClassifier, VotingClassifier, BaggingClassifier, GradientBoostingClassifier, AdaBoostClassifier, ExtraTreesClassifier\n",
    "from sklearn.linear_model import LogisticRegression, SGDClassifier, PassiveAggressiveClassifier, RidgeClassifier\n",
    "from sklearn.svm import SVC, LinearSVC, NuSVC\n",
    "from sklearn.neighbors import KNeighborsClassifier\n",
    "from xgboost import XGBClassifier\n",
    "from sklearn.preprocessing import RobustScaler, StandardScaler, MaxAbsScaler\n",
    "from sklearn.model_selection import train_test_split, StratifiedKFold\n",
    "from sklearn.tree import DecisionTreeClassifier\n",
    "from sklearn.neural_network import MLPClassifier\n",
    "from sklearn.naive_bayes import GaussianNB, MultinomialNB\n",
    "from sklearn.discriminant_analysis import LinearDiscriminantAnalysis, QuadraticDiscriminantAnalysis\n",
    "from sklearn.decomposition import PCA\n",
    "\n",
    "# to make this notebook's output stable across runs\n",
    "np.random.seed(42)\n",
    "\n",
    "# To plot pretty figures\n",
    "%matplotlib inline\n",
    "mpl.rc('axes', labelsize=14)\n",
    "mpl.rc('xtick', labelsize=12)\n",
    "mpl.rc('ytick', labelsize=12)\n",
    "sns.set_style('whitegrid')\n",
    "\n",
    "# Where to save the figures\n",
    "PROJECT_ROOT_DIR = \".\"\n",
    "CHAPTER_ID = \"results\"\n",
    "IMAGES_PATH = os.path.join(PROJECT_ROOT_DIR, \"images\", CHAPTER_ID)\n",
    "\n",
    "# Helper functioins and structures\n",
    "# Ignore useless warnings (see SciPy issue #5998)\n",
    "warnings.filterwarnings(action=\"ignore\", message=\"^internal gelsd\")\n",
    "\n",
    "DATA_PATH = \"Skyserver_SQL2_27_2018 6_51_39 PM.csv\"\n",
    "RESULTS_FOLDER = \"results\"\n",
    "\n",
    "# We load the data. Those that have nothing to do with the features of the objects are ignored.\n",
    "sdss_data = pd.read_csv(DATA_PATH)\n",
    "\n",
    "# We have a general look at the features\n",
    "sdss_data.head(3)\n",
    "\n",
    "print(sdss_data.columns.values)\n",
    "sdss_data.drop(['objid', 'run', 'rerun', 'camcol', 'field',\n",
    "                'specobjid', 'fiberid', 'mjd', 'plate'], axis=1, inplace=True)\n",
    "sdss_data.head(1)\n",
    "\n",
    "sdss_df_fe = sdss_data\n",
    "\n",
    "# Principal Component Analysis\n",
    "pca = PCA(n_components=3)\n",
    "ugriz = pca.fit_transform(sdss_df_fe[['u', 'g', 'r', 'i', 'z']])\n",
    "\n",
    "# update dataframe \n",
    "sdss_df_fe = pd.concat((sdss_df_fe, pd.DataFrame(ugriz)), axis=1)\n",
    "sdss_df_fe.rename({0: 'PCA_1', 1: 'PCA_2', 2: 'PCA_3'}, axis=1, inplace = True)\n",
    "sdss_df_fe.drop(['u', 'g', 'r', 'i', 'z'], axis=1, inplace=True)\n",
    "sdss_df_fe.head()\n",
    "\n",
    "X = sdss_data.drop(['class'], axis=1)\n",
    "y = sdss_data['class']\n",
    "\n",
    "class_names = [\"GALAXY\", \"QSO\", \"STAR\"]\n",
    "\n",
    "std_scaler = StandardScaler()\n",
    "X_train, X_test, y_train, y_test = train_test_split(X, y, random_state=42)\n",
    "\n",
    "X_test = std_scaler.fit_transform(X_test.astype(np.float64))\n",
    "X_train = std_scaler.fit_transform(X_train.astype(np.float64))"
   ]
  },
  {
   "cell_type": "markdown",
   "metadata": {},
   "source": [
    "## Optimize"
   ]
  },
  {
   "cell_type": "code",
   "execution_count": 3,
   "metadata": {
    "ExecuteTime": {
     "end_time": "2019-05-12T08:18:21.133129Z",
     "start_time": "2019-05-12T08:18:16.964157Z"
    }
   },
   "outputs": [
    {
     "name": "stdout",
     "output_type": "stream",
     "text": [
      "Types [2] and maxint [49] detected\n",
      "--- Evolve in 50 possible combinations ---\n",
      "gen\tnevals\tavg     \tmin   \tmax \tstd     \n",
      "0  \t50    \t0.786184\t0.4998\t0.98\t0.198744\n",
      "1  \t34    \t0.948314\t0.5091\t0.98\t0.0917833\n",
      "2  \t27    \t0.979434\t0.9789\t0.98\t0.000486049\n",
      "3  \t32    \t0.979746\t0.979 \t0.98\t0.000367266\n",
      "4  \t23    \t0.973064\t0.634 \t0.98\t0.0484378  \n",
      "5  \t29    \t0.98    \t0.98  \t0.98\t0          \n",
      "Best individual is: {'var_smoothing': 3.727593720314938e-11}\n",
      "with fitness: 0.98\n"
     ]
    }
   ],
   "source": [
    "from evolutionary_search import EvolutionaryAlgorithmSearchCV\n",
    "\n",
    "paramgrid = {\n",
    "             \"var_smoothing\": np.logspace(-15,1,base=10,num=50)\n",
    "             }\n",
    "\n",
    "random.seed(1)\n",
    "\n",
    "cv = EvolutionaryAlgorithmSearchCV(estimator=GaussianNB(),\n",
    "                                   params=paramgrid,\n",
    "                                   scoring=\"accuracy\",\n",
    "                                   cv=StratifiedKFold(n_splits=5),\n",
    "                                   verbose=1,\n",
    "                                   population_size=50,\n",
    "                                   gene_mutation_prob=0.10,\n",
    "                                   gene_crossover_prob=0.5,\n",
    "                                   tournament_size=3,\n",
    "                                   generations_number=5,\n",
    "                                   n_jobs=8,\n",
    "                                   error_score=0.0)\n",
    "\n",
    "with warnings.catch_warnings():\n",
    "    warnings.simplefilter(\"ignore\")\n",
    "    result = cv.fit(X, y)"
   ]
  },
  {
   "cell_type": "code",
   "execution_count": 5,
   "metadata": {
    "ExecuteTime": {
     "end_time": "2019-05-11T19:42:47.015160Z",
     "start_time": "2019-05-11T19:42:46.656203Z"
    }
   },
   "outputs": [
    {
     "name": "stdout",
     "output_type": "stream",
     "text": [
      "==========================================================\n",
      "==========================================================\n",
      "Data Set Type:  Standard Scaled\n",
      "GaussianNB\n",
      "[0.98001332 0.9733511  0.98066667 0.97464977 0.98465644]\n",
      "Accuracy: 0.979 (+/- 0.008)\n",
      "GaussianNB :\n",
      " [[1218   21    7]\n",
      " [  11  231    0]\n",
      " [   3    7 1002]]\n",
      "              precision    recall  f1-score   support\n",
      "\n",
      "      GALAXY       0.99      0.98      0.98      1246\n",
      "         QSO       0.89      0.95      0.92       242\n",
      "        STAR       0.99      0.99      0.99      1012\n",
      "\n",
      "   micro avg       0.98      0.98      0.98      2500\n",
      "   macro avg       0.96      0.97      0.97      2500\n",
      "weighted avg       0.98      0.98      0.98      2500\n",
      "\n",
      "\n",
      "\n",
      "By Acc:\n",
      "GaussianNB 0.9786674589040558\n",
      "\n",
      "\n",
      "By Precision(avg=micro):\n",
      "GaussianNB 0.9804\n",
      "\n",
      "\n",
      "By Recall(avg=micro):\n",
      "GaussianNB 0.9804\n",
      "\n",
      "\n",
      "By F1(avg=micro):\n",
      "GaussianNB 0.9804\n",
      "\n",
      "\n",
      "By Precision(avg=macro):\n",
      "GaussianNB 0.9578635645285795\n",
      "\n",
      "\n",
      "By Recall(avg=macro):\n",
      "GaussianNB 0.9740640405027312\n",
      "\n",
      "\n",
      "By F1(avg=macro):\n",
      "GaussianNB 0.9655982862309832\n",
      "\n",
      "\n",
      "GaussianNB\n",
      "{'GALAXY': 0.9831819077827357, 'STAR': 0.9927071379999148, 'QSO': 0.9710725501248088}\n",
      "\n",
      "\n"
     ]
    },
    {
     "data": {
      "image/png": "[encoded data removed]",
      "text/plain": [
       "<Figure size 720x504 with 2 Axes>"
      ]
     },
     "metadata": {
      "needs_background": "light"
     },
     "output_type": "display_data"
    }
   ],
   "source": [
    "best_indiv = GaussianNB(var_smoothing=3.727593720314938e-11)\n",
    "\n",
    "clf_names = [\"GaussianNB\"]\n",
    "class_names = [\"GALAXY\", \"QSO\", \"STAR\"]\n",
    "\n",
    "clfs=[best_indiv]\n",
    "data_sets = []\n",
    "std_scaled_set = DataSet(\"Standard Scaled\", X_train, y_train, X_test, y_test)\n",
    "data_sets.append(std_scaled_set)\n",
    "\n",
    "with warnings.catch_warnings():\n",
    "    warnings.simplefilter(\"ignore\")\n",
    "    helpers.learning_loop_for_sets(clfs, clf_names, class_names, data_sets)"
   ]
  },
  {
   "cell_type": "code",
   "execution_count": null,
   "metadata": {},
   "outputs": [],
   "source": []
  }
 ],
 "metadata": {
  "hide_input": false,
  "kernelspec": {
   "display_name": "Python3 (deep)",
   "language": "python",
   "name": "deep"
  },
  "language_info": {
   "codemirror_mode": {
    "name": "ipython",
    "version": 3
   },
   "file_extension": ".py",
   "mimetype": "text/x-python",
   "name": "python",
   "nbconvert_exporter": "python",
   "pygments_lexer": "ipython3",
   "version": "3.6.8"
  },
  "toc": {
   "base_numbering": 1,
   "nav_menu": {},
   "number_sections": true,
   "sideBar": true,
   "skip_h1_title": false,
   "title_cell": "Table of Contents",
   "title_sidebar": "Contents",
   "toc_cell": false,
   "toc_position": {},
   "toc_section_display": true,
   "toc_window_display": false
  }
 },
 "nbformat": 4,
 "nbformat_minor": 2
}
